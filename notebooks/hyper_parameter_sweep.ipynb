{
 "cells": [
  {
   "cell_type": "code",
   "execution_count": 100,
   "metadata": {
    "id": "AfKMAC62m8LM"
   },
   "outputs": [],
   "source": [
    "import torch\n",
    "from torch import nn\n",
    "from torch.utils.data import random_split, DataLoader\n",
    "from torchvision import transforms\n",
    "from torchvision.datasets import ImageFolder\n",
    "import math\n",
    "import time\n",
    "import os\n",
    "import matplotlib.pylab as plt\n",
    "from torch.optim import AdamW\n",
    "import numpy as np\n",
    "import gc"
   ]
  },
  {
   "cell_type": "code",
   "execution_count": 101,
   "metadata": {
    "id": "8aGEP5fFqPJr"
   },
   "outputs": [],
   "source": [
    "# set the device we will be using to train the model\n",
    "device = torch.device(\"cuda:1\" if torch.cuda.is_available() else \"cpu\")"
   ]
  },
  {
   "cell_type": "code",
   "execution_count": 102,
   "metadata": {},
   "outputs": [
    {
     "data": {
      "text/plain": [
       "device(type='cuda', index=1)"
      ]
     },
     "execution_count": 102,
     "metadata": {},
     "output_type": "execute_result"
    }
   ],
   "source": [
    "device"
   ]
  },
  {
   "cell_type": "code",
   "execution_count": 103,
   "metadata": {},
   "outputs": [],
   "source": [
    "# !wget https://storage.googleapis.com/wandb_datasets/nature_12K.zip\n",
    "# !unzip nature_12K.zip"
   ]
  },
  {
   "cell_type": "code",
   "execution_count": 104,
   "metadata": {
    "id": "-V4IEGDGv2Y1"
   },
   "outputs": [],
   "source": [
    "training_data_path = \"inaturalist_12K/train/\""
   ]
  },
  {
   "cell_type": "code",
   "execution_count": 105,
   "metadata": {
    "id": "CTSjx4A8nEtO"
   },
   "outputs": [],
   "source": [
    "class CNN(nn.Module):\n",
    "    def __init__(\n",
    "        self,\n",
    "        input_dimension:tuple,\n",
    "        number_of_filters: int,\n",
    "        filter_size: tuple,\n",
    "        stride: int,\n",
    "        padding: int,\n",
    "        max_pooling_size: tuple,\n",
    "        n_neurons: int,\n",
    "        n_classes: int,\n",
    "        conv_activation: nn.Module,\n",
    "        dense_activation: nn.Module,\n",
    "        dropout_rate:float,\n",
    "        use_batchnorm:bool,\n",
    "        factor:float,\n",
    "        dropout_organisation:int\n",
    "    ):\n",
    "        super().__init__()\n",
    "        self.conv_blocks = nn.ModuleList([])\n",
    "        in_c = input_dimension[0]\n",
    "        for i in range(0, 5):\n",
    "            add_dropout = i%dropout_organisation > 0\n",
    "            out_c = int((factor**i)*number_of_filters)\n",
    "            if out_c<=0:\n",
    "                out_c = 3\n",
    "            conv_block = self.create_conv_block(in_c, out_c, filter_size, max_pooling_size, stride, padding, conv_activation, dropout_rate, use_batchnorm, add_dropout)\n",
    "            self.conv_blocks.append(conv_block)\n",
    "            in_c = out_c\n",
    "\n",
    "        self.flatten = nn.Flatten()\n",
    "        \n",
    "        r = torch.ones(1, *input_dimension)\n",
    "        for block in self.conv_blocks:\n",
    "            block.eval()\n",
    "            r = block(r)\n",
    "        in_features = int(np.prod(r.size()[1:]))\n",
    "\n",
    "        self.dense_block1 = nn.Sequential(\n",
    "            nn.Linear(in_features=in_features, out_features=n_neurons),\n",
    "            dense_activation,\n",
    "            nn.Linear(in_features=n_neurons, out_features=n_classes)\n",
    "        )\n",
    "\n",
    "    def create_conv_block(self, in_c, out_c, kernel_size, max_pooling_size, stride, padding, conv_activation, dropout_rate, use_batchnorm, add_dropout):\n",
    "        layers = [\n",
    "            nn.Conv2d(in_c, out_c, kernel_size=kernel_size, stride=stride, padding=padding),\n",
    "            conv_activation,\n",
    "        ]\n",
    "        if use_batchnorm:\n",
    "            layers.append(nn.BatchNorm2d(out_c))\n",
    "        layers.append(nn.MaxPool2d(kernel_size=max_pooling_size))\n",
    "        if add_dropout:\n",
    "            layers.append(nn.Dropout(p=dropout_rate))\n",
    "        return nn.Sequential(*layers)\n",
    "\n",
    "\n",
    "    def __call__(self, x):\n",
    "        r = x\n",
    "        for block in self.conv_blocks:\n",
    "            r = block(r)\n",
    "        r = self.flatten(r)\n",
    "        output = self.dense_block1(r)\n",
    "        return output"
   ]
  },
  {
   "cell_type": "code",
   "execution_count": 106,
   "metadata": {
    "id": "kekXxNuKney3"
   },
   "outputs": [],
   "source": [
    "def get_transform(use_augmentation):\n",
    "    if use_augmentation:\n",
    "        transform = transforms.Compose([\n",
    "          transforms.RandomCrop(50, padding=1),\n",
    "          transforms.RandomGrayscale(p=0.1),\n",
    "          transforms.RandomHorizontalFlip(),\n",
    "          transforms.ColorJitter(brightness=0.2, contrast=0.2, saturation=0.2, hue=0.1),  # Random color jitter\n",
    "          transforms.RandomRotation(degrees=(0, 20)),\n",
    "          transforms.RandomPerspective(distortion_scale=0.5, p=0.5), \n",
    "          transforms.CenterCrop(250),\n",
    "          transforms.Resize((224, 224)),\n",
    "          transforms.ToTensor(),\n",
    "          transforms.Normalize(mean=[0.485, 0.456, 0.406],\n",
    "                                    std=[0.229, 0.224, 0.225],\n",
    "                                    inplace=False),\n",
    "        ])\n",
    "    else:\n",
    "        transform = transforms.Compose([\n",
    "            transforms.Resize((224, 224)),\n",
    "            transforms.ToTensor(),\n",
    "            transforms.Normalize(mean=[0.485, 0.456, 0.406],\n",
    "                                    std=[0.229, 0.224, 0.225],\n",
    "                                    inplace=False),\n",
    "        ])\n",
    "    return transform"
   ]
  },
  {
   "cell_type": "code",
   "execution_count": 107,
   "metadata": {
    "id": "1B2XJEeVtVWz"
   },
   "outputs": [],
   "source": [
    "def train(config):\n",
    "    \n",
    "    training_data = ImageFolder(root=training_data_path, transform=get_transform(config['use_augmentation']))\n",
    "    train_size = int(0.8 * len(training_data))\n",
    "    val_size = len(training_data) - train_size\n",
    "    train_set, validation_set = random_split(training_data, [train_size, val_size])\n",
    "    train_dataloader = DataLoader(train_set, batch_size=config['batch_size'], shuffle=True)\n",
    "    val_dataloader = DataLoader(validation_set, batch_size=config['batch_size'], shuffle=False)\n",
    "\n",
    "\n",
    "    training_loss, training_accuracy, validation_loss, validation_accuracy = [],  [],  [], []\n",
    "\n",
    "    activations = {\n",
    "      'relu': nn.ReLU(),\n",
    "      'gelu': nn.GELU(),\n",
    "      'silu': nn.SiLU(),\n",
    "      'mish': nn.Mish(),\n",
    "      'relu6':nn.ReLU6(),\n",
    "      'tanh': nn.Tanh(),\n",
    "      'sigmoid': nn.Sigmoid()\n",
    "    }\n",
    "    gc.collect()\n",
    "    torch.cuda.empty_cache()\n",
    "    model = CNN(\n",
    "      input_dimension=(3,224,224),\n",
    "        number_of_filters=config['number_of_filters'],\n",
    "        filter_size =(config['filter_size'],config['filter_size']),\n",
    "        stride=config['stride'],\n",
    "        padding=config['padding'],\n",
    "        max_pooling_size=(config['max_pooling_size'],config['max_pooling_size']),\n",
    "        n_neurons=config['n_neurons'],\n",
    "        n_classes=config['n_classes'],\n",
    "        conv_activation=activations[config['conv_activation']],\n",
    "        dense_activation=activations[config['dense_activation']],\n",
    "        dropout_rate=config['dropout_rate'],\n",
    "        use_batchnorm=config['use_batchnorm'],\n",
    "        factor=config['factor'],\n",
    "        dropout_organisation=config['dropout_organisation']\n",
    "    ).to(device)\n",
    "    print(model)\n",
    "    optimizer = AdamW(model.parameters(), lr=config['learning_rate'], weight_decay=config['weight_decay'])\n",
    "    criterion = nn.CrossEntropyLoss()\n",
    "\n",
    "    for epoch in range(0, config['epochs']):\n",
    "\n",
    "        running_loss, running_accuracy, running_batch = 0,0,0\n",
    "        model.train()\n",
    "        for (x, y) in train_dataloader:\n",
    "            optimizer.zero_grad()\n",
    "            (x, y) = (x.to(device), y.to(device))\n",
    "            pred = model(x)\n",
    "            loss = criterion(pred, y)\n",
    "            running_loss += loss.item()*x.size()[0]\n",
    "            running_accuracy += (pred.argmax(1)==y).sum().item()\n",
    "            running_batch +=y.size()[0]\n",
    "            loss.backward()\n",
    "            optimizer.step()\n",
    "            del x\n",
    "            del y\n",
    "        training_loss.append(running_loss/len(train_dataloader.dataset))\n",
    "        training_accuracy.append(100*(running_accuracy/running_batch))\n",
    "        \n",
    "        running_loss, running_accuracy, running_batch = 0,0,0\n",
    "        with torch.no_grad():\n",
    "            model.eval()\n",
    "            for (x, y) in val_dataloader:\n",
    "                (x, y) = (x.to(device), y.to(device))\n",
    "                pred = model(x)\n",
    "                loss = criterion(pred, y)\n",
    "                running_loss += loss.item()*x.size()[0]\n",
    "                running_accuracy += (pred.argmax(1)==y).sum().item()\n",
    "                running_batch +=y.size()[0]\n",
    "                del x\n",
    "                del y\n",
    "        validation_loss.append(running_loss/len(val_dataloader.dataset))\n",
    "        validation_accuracy.append(100*(running_accuracy/running_batch))\n",
    "        \n",
    "        print(f\"Epoch: {epoch+1}/{config['epochs']}\")\n",
    "        gc.collect()\n",
    "        torch.cuda.empty_cache()\n",
    "    return model, training_loss, training_accuracy, validation_loss, validation_accuracy"
   ]
  },
  {
   "cell_type": "code",
   "execution_count": 108,
   "metadata": {},
   "outputs": [],
   "source": [
    "config = {\n",
    "    'number_of_filters': 32,\n",
    "    'filter_size': 3,\n",
    "    'stride': 1,\n",
    "    'padding': 1,\n",
    "    'max_pooling_size': 2,\n",
    "    'n_neurons': 512,\n",
    "    'n_classes': 10,\n",
    "    'conv_activation': 'relu',\n",
    "    'dense_activation': 'relu',\n",
    "    'dropout_rate': 0.2,\n",
    "    'use_batchnorm': True,\n",
    "    'factor':1,\n",
    "    'learning_rate': 1e-5,\n",
    "    'batch_size':64,\n",
    "    'epochs':100,\n",
    "    'use_augmentation': False,\n",
    "    'dropout_organisation': 3,\n",
    "    'weight_decay':1e-2\n",
    "}"
   ]
  },
  {
   "cell_type": "code",
   "execution_count": 109,
   "metadata": {},
   "outputs": [
    {
     "name": "stdout",
     "output_type": "stream",
     "text": [
      "CNN(\n",
      "  (conv_blocks): ModuleList(\n",
      "    (0): Sequential(\n",
      "      (0): Conv2d(3, 32, kernel_size=(3, 3), stride=(1, 1), padding=(1, 1))\n",
      "      (1): ReLU()\n",
      "      (2): BatchNorm2d(32, eps=1e-05, momentum=0.1, affine=True, track_running_stats=True)\n",
      "      (3): MaxPool2d(kernel_size=(2, 2), stride=(2, 2), padding=0, dilation=1, ceil_mode=False)\n",
      "    )\n",
      "    (1): Sequential(\n",
      "      (0): Conv2d(32, 32, kernel_size=(3, 3), stride=(1, 1), padding=(1, 1))\n",
      "      (1): ReLU()\n",
      "      (2): BatchNorm2d(32, eps=1e-05, momentum=0.1, affine=True, track_running_stats=True)\n",
      "      (3): MaxPool2d(kernel_size=(2, 2), stride=(2, 2), padding=0, dilation=1, ceil_mode=False)\n",
      "      (4): Dropout(p=0.2, inplace=False)\n",
      "    )\n",
      "    (2): Sequential(\n",
      "      (0): Conv2d(32, 32, kernel_size=(3, 3), stride=(1, 1), padding=(1, 1))\n",
      "      (1): ReLU()\n",
      "      (2): BatchNorm2d(32, eps=1e-05, momentum=0.1, affine=True, track_running_stats=True)\n",
      "      (3): MaxPool2d(kernel_size=(2, 2), stride=(2, 2), padding=0, dilation=1, ceil_mode=False)\n",
      "      (4): Dropout(p=0.2, inplace=False)\n",
      "    )\n",
      "    (3): Sequential(\n",
      "      (0): Conv2d(32, 32, kernel_size=(3, 3), stride=(1, 1), padding=(1, 1))\n",
      "      (1): ReLU()\n",
      "      (2): BatchNorm2d(32, eps=1e-05, momentum=0.1, affine=True, track_running_stats=True)\n",
      "      (3): MaxPool2d(kernel_size=(2, 2), stride=(2, 2), padding=0, dilation=1, ceil_mode=False)\n",
      "    )\n",
      "    (4): Sequential(\n",
      "      (0): Conv2d(32, 32, kernel_size=(3, 3), stride=(1, 1), padding=(1, 1))\n",
      "      (1): ReLU()\n",
      "      (2): BatchNorm2d(32, eps=1e-05, momentum=0.1, affine=True, track_running_stats=True)\n",
      "      (3): MaxPool2d(kernel_size=(2, 2), stride=(2, 2), padding=0, dilation=1, ceil_mode=False)\n",
      "      (4): Dropout(p=0.2, inplace=False)\n",
      "    )\n",
      "  )\n",
      "  (flatten): Flatten(start_dim=1, end_dim=-1)\n",
      "  (dense_block1): Sequential(\n",
      "    (0): Linear(in_features=1568, out_features=512, bias=True)\n",
      "    (1): ReLU()\n",
      "    (2): Linear(in_features=512, out_features=10, bias=True)\n",
      "  )\n",
      ")\n",
      "Epoch: 1/100\n",
      "Epoch: 2/100\n",
      "Epoch: 3/100\n",
      "Epoch: 4/100\n",
      "Epoch: 5/100\n",
      "Epoch: 6/100\n",
      "Epoch: 7/100\n",
      "Epoch: 8/100\n",
      "Epoch: 9/100\n",
      "Epoch: 10/100\n",
      "Epoch: 11/100\n",
      "Epoch: 12/100\n",
      "Epoch: 13/100\n",
      "Epoch: 14/100\n",
      "Epoch: 15/100\n",
      "Epoch: 16/100\n",
      "Epoch: 17/100\n",
      "Epoch: 18/100\n",
      "Epoch: 19/100\n",
      "Epoch: 20/100\n",
      "Epoch: 21/100\n",
      "Epoch: 22/100\n",
      "Epoch: 23/100\n",
      "Epoch: 24/100\n",
      "Epoch: 25/100\n",
      "Epoch: 26/100\n",
      "Epoch: 27/100\n",
      "Epoch: 28/100\n",
      "Epoch: 29/100\n",
      "Epoch: 30/100\n",
      "Epoch: 31/100\n",
      "Epoch: 32/100\n",
      "Epoch: 33/100\n",
      "Epoch: 34/100\n",
      "Epoch: 35/100\n",
      "Epoch: 36/100\n",
      "Epoch: 37/100\n",
      "Epoch: 38/100\n",
      "Epoch: 39/100\n",
      "Epoch: 40/100\n",
      "Epoch: 41/100\n",
      "Epoch: 42/100\n",
      "Epoch: 43/100\n",
      "Epoch: 44/100\n",
      "Epoch: 45/100\n",
      "Epoch: 46/100\n",
      "Epoch: 47/100\n",
      "Epoch: 48/100\n",
      "Epoch: 49/100\n",
      "Epoch: 50/100\n",
      "Epoch: 51/100\n",
      "Epoch: 52/100\n",
      "Epoch: 53/100\n",
      "Epoch: 54/100\n",
      "Epoch: 55/100\n",
      "Epoch: 56/100\n",
      "Epoch: 57/100\n",
      "Epoch: 58/100\n",
      "Epoch: 59/100\n",
      "Epoch: 60/100\n",
      "Epoch: 61/100\n",
      "Epoch: 62/100\n",
      "Epoch: 63/100\n",
      "Epoch: 64/100\n",
      "Epoch: 65/100\n",
      "Epoch: 66/100\n",
      "Epoch: 67/100\n",
      "Epoch: 68/100\n",
      "Epoch: 69/100\n",
      "Epoch: 70/100\n",
      "Epoch: 71/100\n",
      "Epoch: 72/100\n",
      "Epoch: 73/100\n",
      "Epoch: 74/100\n",
      "Epoch: 75/100\n",
      "Epoch: 76/100\n",
      "Epoch: 77/100\n",
      "Epoch: 78/100\n",
      "Epoch: 79/100\n",
      "Epoch: 80/100\n",
      "Epoch: 81/100\n",
      "Epoch: 82/100\n",
      "Epoch: 83/100\n",
      "Epoch: 84/100\n",
      "Epoch: 85/100\n",
      "Epoch: 86/100\n",
      "Epoch: 87/100\n",
      "Epoch: 88/100\n",
      "Epoch: 89/100\n",
      "Epoch: 90/100\n",
      "Epoch: 91/100\n",
      "Epoch: 92/100\n",
      "Epoch: 93/100\n",
      "Epoch: 94/100\n",
      "Epoch: 95/100\n",
      "Epoch: 96/100\n",
      "Epoch: 97/100\n",
      "Epoch: 98/100\n",
      "Epoch: 99/100\n",
      "Epoch: 100/100\n"
     ]
    }
   ],
   "source": [
    "model, training_loss, training_accuracy, validation_loss, validation_accuracy = train(config)"
   ]
  },
  {
   "cell_type": "code",
   "execution_count": 110,
   "metadata": {},
   "outputs": [
    {
     "data": {
      "image/png": "[encoded data removed]",
      "text/plain": [
       "<Figure size 640x480 with 1 Axes>"
      ]
     },
     "metadata": {},
     "output_type": "display_data"
    }
   ],
   "source": [
    "# Plotting\n",
    "plt.plot(training_loss, label='Training Loss')\n",
    "plt.plot(validation_loss, label='Validation Loss')\n",
    "plt.title('Training and Validation Loss')\n",
    "plt.xlabel('Epochs')\n",
    "plt.ylabel('Loss')\n",
    "plt.legend()\n",
    "plt.show()"
   ]
  },
  {
   "cell_type": "code",
   "execution_count": 111,
   "metadata": {},
   "outputs": [
    {
     "data": {
      "image/png": "[encoded data removed]",
      "text/plain": [
       "<Figure size 640x480 with 1 Axes>"
      ]
     },
     "metadata": {},
     "output_type": "display_data"
    }
   ],
   "source": [
    "plt.plot(training_accuracy, label='Training Accuracy')\n",
    "plt.plot(validation_accuracy, label='Validation Accuracy')\n",
    "plt.title('Training and Validation Accuracy')\n",
    "plt.xlabel('Epochs')\n",
    "plt.ylabel('Accuracy')\n",
    "plt.legend()\n",
    "plt.show()"
   ]
  },
  {
   "cell_type": "code",
   "execution_count": 113,
   "metadata": {},
   "outputs": [],
   "source": [
    "torch.save(model, \"custom_cnn.pt\")"
   ]
  },
  {
   "cell_type": "markdown",
   "metadata": {},
   "source": [
    "# Test"
   ]
  },
  {
   "cell_type": "code",
   "execution_count": 89,
   "metadata": {},
   "outputs": [],
   "source": [
    "test_data_path = \"inaturalist_12K/val/\""
   ]
  },
  {
   "cell_type": "code",
   "execution_count": 90,
   "metadata": {},
   "outputs": [],
   "source": [
    "transform = transforms.Compose([\n",
    "  transforms.Resize((299, 299)),\n",
    "  transforms.ToTensor(),\n",
    "  transforms.Normalize(mean=[0.485, 0.456, 0.406], std=[0.229, 0.224, 0.225], inplace=False),\n",
    "])"
   ]
  },
  {
   "cell_type": "code",
   "execution_count": 76,
   "metadata": {},
   "outputs": [],
   "source": [
    "test_data = ImageFolder(root=test_data_path, transform=transform)\n",
    "test_dataloader = DataLoader(test_data, batch_size=config['batch_size'], shuffle=True)"
   ]
  },
  {
   "cell_type": "code",
   "execution_count": null,
   "metadata": {},
   "outputs": [],
   "source": [
    "def test_model():\n",
    "    test_loss, test_accuracy = [],  []\n",
    "    gc.collect()\n",
    "    torch.cuda.empty_cache()\n",
    "    criterion = nn.CrossEntropyLoss()\n",
    "    running_loss, running_accuracy, running_batch = 0,0,0\n",
    "    with torch.no_grad():\n",
    "        model.eval()\n",
    "        for (x, y) in test_dataloader:\n",
    "            (x, y) = (x.to(device), y.to(device))\n",
    "            pred = model(x)\n",
    "            loss = criterion(pred, y)\n",
    "            running_loss += loss.item()*x.size()[0]\n",
    "            running_accuracy += (pred.argmax(1)==y).sum().item()\n",
    "            running_batch +=y.size()[0]\n",
    "            del x\n",
    "            del y\n",
    "    test_loss.append(running_loss/len(val_dataloader.dataset))\n",
    "    test_accuracy.append(100*(running_accuracy/running_batch))\n",
    "    gc.collect()\n",
    "    torch.cuda.empty_cache()\n",
    "\n",
    "    return test_loss, test_accuracy"
   ]
  },
  {
   "cell_type": "code",
   "execution_count": null,
   "metadata": {},
   "outputs": [],
   "source": [
    "test_loss, test_accuracy = test_model()"
   ]
  },
  {
   "cell_type": "code",
   "execution_count": null,
   "metadata": {},
   "outputs": [],
   "source": [
    "test_loss[0]"
   ]
  },
  {
   "cell_type": "code",
   "execution_count": null,
   "metadata": {},
   "outputs": [],
   "source": [
    "test_accuracy[0]"
   ]
  }
 ],
 "metadata": {
  "colab": {
   "provenance": []
  },
  "kernelspec": {
   "display_name": "Python 3 (ipykernel)",
   "language": "python",
   "name": "python3"
  },
  "language_info": {
   "codemirror_mode": {
    "name": "ipython",
    "version": 3
   },
   "file_extension": ".py",
   "mimetype": "text/x-python",
   "name": "python",
   "nbconvert_exporter": "python",
   "pygments_lexer": "ipython3",
   "version": "3.8.10"
  }
 },
 "nbformat": 4,
 "nbformat_minor": 1
}
