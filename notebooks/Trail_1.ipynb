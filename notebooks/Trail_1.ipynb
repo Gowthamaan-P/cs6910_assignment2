{
 "cells": [
  {
   "cell_type": "code",
   "execution_count": 1,
   "id": "de475ec3",
   "metadata": {},
   "outputs": [],
   "source": [
    "import numpy as np"
   ]
  },
  {
   "cell_type": "code",
   "execution_count": null,
   "id": "298f24ca",
   "metadata": {},
   "outputs": [],
   "source": [
    "class ObjectiveFunction:\n",
    "    def __init__(self, method):\n",
    "        self.method = method\n",
    "    \n",
    "    def get_loss(self, y, y_hat):\n",
    "        if self.method == \"cel\":\n",
    "            return self.cross_entropy_loss(y, y_hat)\n",
    "        elif self.method == \"mse\":\n",
    "            return self.mean_square_error(y, y_hat)\n",
    "    \n",
    "    def get_derivative(self, y, y_hat):\n",
    "        if self.method == \"cel\":\n",
    "            return self.cross_entropy_loss_derivative(y, y_hat)\n",
    "        elif self.method == \"mse\":\n",
    "            return self.mean_square_error_derivative(y, y_hat)\n",
    "    \n",
    "    def mean_square_error(self, y, y_hat):\n",
    "        return np.sum((y - y_hat) ** 2) / 2\n",
    "    \n",
    "    def mean_square_error_derivative(self, y, y_hat):\n",
    "        return y_hat - y\n",
    "    \n",
    "    def cross_entropy_loss(self, y, y_hat):\n",
    "        return -np.sum(y * np.log(y_hat))\n",
    "    \n",
    "    def cross_entropy_loss_derivative(self, y, y_hat):\n",
    "        return -y/y_hat"
   ]
  },
  {
   "cell_type": "code",
   "execution_count": null,
   "id": "cbf3de3b",
   "metadata": {},
   "outputs": [],
   "source": [
    "class ActivationFunction:\n",
    "    def __init__():\n",
    "        pass"
   ]
  },
  {
   "cell_type": "code",
   "execution_count": 2,
   "id": "ad6e6ef2",
   "metadata": {},
   "outputs": [],
   "source": [
    "class FullyConnectedLayer:\n",
    "    def __init__(self, index, n_input, n_neurons, weights=None, bias=None, method=\"random\"):\n",
    "        self.index = index\n",
    "        self.weights = weights if weights is not None else self.initialize_weights(method, n_input, n_neurons)\n",
    "        self.bias = bias if bias is not None else np.random.randn(n_neurons)\n",
    "        self.activation = None\n",
    "        \n",
    "        self.error = None\n",
    "        self.delta = None\n",
    "        \n",
    "        self.d_weights = np.zeros([n_input, n_neurons])\n",
    "        self.d_bias = np.zeros(n_neurons)\n",
    "        \n",
    "        self.h_weights = np.zeros([n_input, n_neurons])\n",
    "        self.h_bias = np.zeros(n_neurons)\n",
    "        self.m_weights = np.zeros([n_input, n_neurons])\n",
    "        self.m_bias = np.zeros(n_neurons)\n",
    "\n",
    "    def initialize_weights(self, method, n_input, n_neurons):\n",
    "        if method == \"xavier\":\n",
    "            limit = np.sqrt(2 / (n_input + n_neurons))\n",
    "            return np.random.randn(n_input, n_neurons) * limit\n",
    "        return np.random.randn(n_input, n_neurons)\n",
    "\n",
    "    def activate(self, x):\n",
    "        z = np.dot(x, self.weights) + self.bias\n",
    "        self.activation = self._apply_activation(z)\n",
    "        return self.activation\n",
    "    \n",
    "    def __str__(self):\n",
    "        return f'Fully Connected Layer: {self.index}, {self.weights.shape} , {self.function}'"
   ]
  },
  {
   "cell_type": "code",
   "execution_count": 3,
   "id": "4b9ba90a",
   "metadata": {},
   "outputs": [],
   "source": [
    "class ConvolutionLayer:\n",
    "    def __init__():\n",
    "        pass"
   ]
  },
  {
   "cell_type": "code",
   "execution_count": null,
   "id": "ff0f3c25",
   "metadata": {},
   "outputs": [],
   "source": []
  }
 ],
 "metadata": {
  "kernelspec": {
   "display_name": "Python 3",
   "language": "python",
   "name": "python3"
  },
  "language_info": {
   "codemirror_mode": {
    "name": "ipython",
    "version": 3
   },
   "file_extension": ".py",
   "mimetype": "text/x-python",
   "name": "python",
   "nbconvert_exporter": "python",
   "pygments_lexer": "ipython3",
   "version": "3.8.8"
  }
 },
 "nbformat": 4,
 "nbformat_minor": 5
}
