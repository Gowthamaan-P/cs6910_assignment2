{
 "cells": [
  {
   "cell_type": "code",
   "execution_count": 1,
   "metadata": {
    "id": "AfKMAC62m8LM"
   },
   "outputs": [
    {
     "name": "stderr",
     "output_type": "stream",
     "text": [
      "/home/user/anaconda3/lib/python3.11/site-packages/torchvision/io/image.py:13: UserWarning: Failed to load image Python extension: 'libc10_cuda.so: cannot open shared object file: No such file or directory'If you don't plan on using image functionality from `torchvision.io`, you can ignore this warning. Otherwise, there might be something wrong with your environment. Did you have `libjpeg` or `libpng` installed before building `torchvision` from source?\n",
      "  warn(\n"
     ]
    }
   ],
   "source": [
    "import torch\n",
    "from torch import nn\n",
    "from torch.utils.data import random_split, DataLoader\n",
    "from torchvision import transforms\n",
    "from torchvision.datasets import ImageFolder\n",
    "import math\n",
    "import time\n",
    "import os\n",
    "import matplotlib.pylab as plt\n",
    "from torch.optim import Adam\n",
    "import numpy as np\n",
    "import wandb\n",
    "import gc"
   ]
  },
  {
   "cell_type": "code",
   "execution_count": 2,
   "metadata": {
    "id": "8aGEP5fFqPJr"
   },
   "outputs": [],
   "source": [
    "# set the device we will be using to train the model\n",
    "device = torch.device(\"cuda\" if torch.cuda.is_available() else \"cpu\")"
   ]
  },
  {
   "cell_type": "code",
   "execution_count": 3,
   "metadata": {
    "scrolled": true
   },
   "outputs": [
    {
     "data": {
      "text/plain": [
       "device(type='cpu')"
      ]
     },
     "execution_count": 3,
     "metadata": {},
     "output_type": "execute_result"
    }
   ],
   "source": [
    "device"
   ]
  },
  {
   "cell_type": "code",
   "execution_count": 4,
   "metadata": {},
   "outputs": [],
   "source": [
    "# !wget https://storage.googleapis.com/wandb_datasets/nature_12K.zip\n",
    "# !unzip nature_12K.zip"
   ]
  },
  {
   "cell_type": "code",
   "execution_count": 5,
   "metadata": {
    "id": "-V4IEGDGv2Y1"
   },
   "outputs": [],
   "source": [
    "training_data_path = \"inaturalist_12K/train/\""
   ]
  },
  {
   "cell_type": "code",
   "execution_count": 6,
   "metadata": {
    "id": "CTSjx4A8nEtO"
   },
   "outputs": [],
   "source": [
    "class CNN(nn.Module):\n",
    "    def __init__(\n",
    "        self,\n",
    "        input_dimension:tuple,\n",
    "        number_of_filters: int,\n",
    "        filter_size: tuple,\n",
    "        stride: int,\n",
    "        padding: int,\n",
    "        max_pooling_size: tuple,\n",
    "        n_neurons: int,\n",
    "        n_classes: int,\n",
    "        conv_activation: nn.Module,\n",
    "        dense_activation: nn.Module,\n",
    "        dropout_rate:float,\n",
    "        use_batchnorm:bool,\n",
    "        factor:float,\n",
    "        dropout_organisation:int\n",
    "    ):\n",
    "        super().__init__()\n",
    "        self.conv_blocks = nn.ModuleList([])\n",
    "        in_c = input_dimension[0]\n",
    "        for i in range(0, 5):\n",
    "            add_dropout = i%dropout_organisation > 0\n",
    "            out_c = int((factor**i)*number_of_filters)\n",
    "            if out_c<=0:\n",
    "                out_c = 3\n",
    "            conv_block = self.create_conv_block(in_c, out_c, filter_size, max_pooling_size, stride, padding, conv_activation, dropout_rate, use_batchnorm, add_dropout)\n",
    "            self.conv_blocks.append(conv_block)\n",
    "            in_c = out_c\n",
    "\n",
    "        self.flatten = nn.Flatten()\n",
    "        \n",
    "        r = torch.ones(1, *input_dimension)\n",
    "        for block in self.conv_blocks:\n",
    "            block.eval()\n",
    "            r = block(r)\n",
    "        in_features = int(np.prod(r.size()[1:]))\n",
    "\n",
    "        self.dense_block1 = nn.Sequential(\n",
    "            nn.Linear(in_features=in_features, out_features=n_neurons),\n",
    "            dense_activation,\n",
    "            nn.Linear(in_features=n_neurons, out_features=n_classes),\n",
    "            nn.LogSoftmax(dim=1)\n",
    "        )\n",
    "\n",
    "    def create_conv_block(self, in_c, out_c, kernel_size, max_pooling_size, stride, padding, conv_activation, dropout_rate, use_batchnorm, add_dropout):\n",
    "        layers = [\n",
    "            nn.Conv2d(in_c, out_c, kernel_size=kernel_size, stride=stride, padding=padding),\n",
    "            conv_activation,\n",
    "        ]\n",
    "        if use_batchnorm:\n",
    "            layers.append(nn.BatchNorm2d(out_c))\n",
    "        layers.append(nn.MaxPool2d(kernel_size=max_pooling_size))\n",
    "        if add_dropout:\n",
    "            layers.append(nn.Dropout(p=dropout_rate))\n",
    "        return nn.Sequential(*layers)\n",
    "\n",
    "\n",
    "    def __call__(self, x):\n",
    "        r = x\n",
    "        for block in self.conv_blocks:\n",
    "            r = block(r)\n",
    "        r = self.flatten(r)\n",
    "        output = self.dense_block1(r)\n",
    "        return output"
   ]
  },
  {
   "cell_type": "code",
   "execution_count": 7,
   "metadata": {
    "id": "kekXxNuKney3"
   },
   "outputs": [],
   "source": [
    "def get_transform(use_augmentation):\n",
    "    if use_augmentation:\n",
    "        transform = transforms.Compose([\n",
    "            transforms.RandomCrop(50, padding=1),\n",
    "            transforms.RandomGrayscale(p=0.1),\n",
    "            transforms.RandomHorizontalFlip(),\n",
    "            transforms.RandomRotation(degrees=(0, 20)),\n",
    "            transforms.Resize((224, 224)),\n",
    "            transforms.ToTensor(),\n",
    "            transforms.Normalize(mean=[0.485, 0.456, 0.406],\n",
    "                                    std=[0.229, 0.224, 0.225],\n",
    "                                    inplace=False),\n",
    "        ])\n",
    "    else:\n",
    "        transform = transforms.Compose([\n",
    "            transforms.Resize((224, 224)),\n",
    "            transforms.ToTensor(),\n",
    "        ])\n",
    "    return transform"
   ]
  },
  {
   "cell_type": "code",
   "execution_count": 8,
   "metadata": {
    "id": "1B2XJEeVtVWz"
   },
   "outputs": [],
   "source": [
    "def train(config):\n",
    "    \n",
    "    training_data = ImageFolder(root=training_data_path, transform=get_transform(config['use_augmentation']))\n",
    "    train_size = int(0.8 * len(training_data))\n",
    "    val_size = len(training_data) - train_size\n",
    "    train_set, validation_set = random_split(training_data, [train_size, val_size])\n",
    "    train_dataloader = DataLoader(train_set, batch_size=config['batch_size'], shuffle=True)\n",
    "    val_dataloader = DataLoader(validation_set, batch_size=config['batch_size'], shuffle=False)\n",
    "\n",
    "\n",
    "    training_loss, training_accuracy, validation_loss, validation_accuracy = [],  [],  [], []\n",
    "\n",
    "    activations = {\n",
    "      'relu': nn.ReLU(),\n",
    "      'gelu': nn.GELU(),\n",
    "      'silu': nn.SiLU(),\n",
    "      'mish': nn.Mish(),\n",
    "      'relu6':nn.ReLU6(),\n",
    "      'tanh': nn.Tanh(),\n",
    "      'sigmoid': nn.Sigmoid()\n",
    "    }\n",
    "    torch.cuda.empty_cache()\n",
    "    model = CNN(\n",
    "      input_dimension=(3,224,224),\n",
    "        number_of_filters=config['number_of_filters'],\n",
    "        filter_size =(config['filter_size'],config['filter_size']),\n",
    "        stride=config['stride'],\n",
    "        padding=config['padding'],\n",
    "        max_pooling_size=(config['max_pooling_size'],config['max_pooling_size']),\n",
    "        n_neurons=config['n_neurons'],\n",
    "        n_classes=config['n_classes'],\n",
    "        conv_activation=activations[config['conv_activation']],\n",
    "        dense_activation=activations[config['dense_activation']],\n",
    "        dropout_rate=config['dropout_rate'],\n",
    "        use_batchnorm=config['use_batchnorm'],\n",
    "        factor=config['factor'],\n",
    "        dropout_organisation=config['dropout_organisation']\n",
    "    ).to(device)\n",
    "    optimizer = Adam(model.parameters(), lr = config['learning_rate'])\n",
    "    criterion = nn.CrossEntropyLoss()\n",
    "\n",
    "    for epoch in range(0, config['epochs']):\n",
    "\n",
    "        running_loss, running_accuracy, running_batch = 0,0,0\n",
    "        model.train()\n",
    "        for (x, y) in train_dataloader:\n",
    "            optimizer.zero_grad()\n",
    "            (x, y) = (x.to(device), y.to(device))\n",
    "            pred = model(x)\n",
    "            loss = criterion(pred, y)\n",
    "            running_loss += loss.item()*x.size()[0]\n",
    "            running_accuracy += (pred.argmax(1)==y).sum().item()\n",
    "            running_batch +=y.size()[0]\n",
    "            loss.backward()\n",
    "            optimizer.step()\n",
    "        training_loss.append(running_loss/len(train_dataloader.dataset))\n",
    "        training_accuracy.append(100*(running_accuracy/running_batch))\n",
    "        \n",
    "        running_loss, running_accuracy, running_batch = 0,0,0\n",
    "        with torch.no_grad():\n",
    "            model.eval()\n",
    "            for (x, y) in val_dataloader:\n",
    "                (x, y) = (x.to(device), y.to(device))\n",
    "                pred = model(x)\n",
    "                loss = criterion(pred, y)\n",
    "                running_loss += loss.item()*x.size()[0]\n",
    "                running_accuracy += (pred.argmax(1)==y).sum().item()\n",
    "                running_batch +=y.size()[0]\n",
    "\n",
    "        validation_loss.append(running_loss/len(val_dataloader.dataset))\n",
    "        validation_accuracy.append(100*(running_accuracy/running_batch))\n",
    "        \n",
    "        print(f\"Epoch: {epoch+1}/{config['epochs']}\")\n",
    "        print(validation_loss)\n",
    "        print(validation_accuracy)\n",
    "        torch.cuda.empty_cache()"
   ]
  },
  {
   "cell_type": "code",
   "execution_count": 9,
   "metadata": {},
   "outputs": [],
   "source": [
    "config = {\n",
    "    'number_of_filters': 32,\n",
    "    'filter_size': 3,\n",
    "    'stride': 1,\n",
    "    'padding': 1,\n",
    "    'max_pooling_size': 2,\n",
    "    'n_neurons': 256,\n",
    "    'n_classes': 10,\n",
    "    'conv_activation': 'relu',\n",
    "    'dense_activation': 'relu',\n",
    "    'dropout_rate': 0.2,\n",
    "    'use_batchnorm': True,\n",
    "    'factor':1,\n",
    "    'learning_rate': 1e-3,\n",
    "    'batch_size':16,\n",
    "    'epochs':0,\n",
    "    'use_augmentation': False,\n",
    "    'dropout_organisation': 1\n",
    "}"
   ]
  },
  {
   "cell_type": "code",
   "execution_count": 10,
   "metadata": {
    "id": "1B2XJEeVtVWz"
   },
   "outputs": [],
   "source": [
    "def wandb_sweep():\n",
    "    \n",
    "    run = wandb.init()\n",
    "    config = wandb.config\n",
    "    run.name = f\"nf_{config['number_of_filters']}_fs_{config['filter_size']}_nn_{config['n_neurons']}_lr_{config['learning_rate']}_bs_{config['batch_size']}_cact_{config['conv_activation']}\"\n",
    "\n",
    "    training_data = ImageFolder(root=training_data_path, transform=get_transform(config['use_augmentation']))\n",
    "    train_size = int(0.8 * len(training_data))\n",
    "    val_size = len(training_data) - train_size\n",
    "    train_set, validation_set = random_split(training_data, [train_size, val_size])\n",
    "    train_dataloader = DataLoader(train_set, batch_size=config['batch_size'], shuffle=True)\n",
    "    val_dataloader = DataLoader(validation_set, batch_size=config['batch_size'], shuffle=False)\n",
    "\n",
    "\n",
    "    training_loss, training_accuracy, validation_loss, validation_accuracy = [],  [],  [], []\n",
    "\n",
    "    activations = {\n",
    "      'relu': nn.ReLU(),\n",
    "      'gelu': nn.GELU(),\n",
    "      'silu': nn.SiLU(),\n",
    "      'mish': nn.Mish(),\n",
    "      'relu6':nn.ReLU6(),\n",
    "      'tanh': nn.Tanh(),\n",
    "      'sigmoid': nn.Sigmoid()\n",
    "    }\n",
    "    gc.collect()\n",
    "    torch.cuda.empty_cache()\n",
    "    model = CNN(\n",
    "      input_dimension=(3,224,224),\n",
    "        number_of_filters=config['number_of_filters'],\n",
    "        filter_size =(config['filter_size'],config['filter_size']),\n",
    "        stride=config['stride'],\n",
    "        padding=config['padding'],\n",
    "        max_pooling_size=(config['max_pooling_size'],config['max_pooling_size']),\n",
    "        n_neurons=config['n_neurons'],\n",
    "        n_classes=config['n_classes'],\n",
    "        conv_activation=activations[config['conv_activation']],\n",
    "        dense_activation=activations[config['dense_activation']],\n",
    "        dropout_rate=config['dropout_rate'],\n",
    "        use_batchnorm=config['use_batchnorm'],\n",
    "        factor=config['factor'],\n",
    "        dropout_organisation=config['dropout_organisation']\n",
    "    ).to(device)\n",
    "    optimizer = Adam(model.parameters(), lr = config['learning_rate'])\n",
    "    criterion = nn.CrossEntropyLoss()\n",
    "\n",
    "    for epoch in range(0, config['epochs']):\n",
    "\n",
    "        running_loss, running_accuracy, running_batch = 0,0,0\n",
    "        model.train()\n",
    "        for (x, y) in train_dataloader:\n",
    "            optimizer.zero_grad()\n",
    "            (x, y) = (x.to(device), y.to(device))\n",
    "            pred = model(x)\n",
    "            loss = criterion(pred, y)\n",
    "            running_loss += loss.item()*x.size()[0]\n",
    "            running_accuracy += (pred.argmax(1)==y).sum().item()\n",
    "            running_batch +=y.size()[0]\n",
    "            del x\n",
    "            del y\n",
    "            loss.backward()\n",
    "            optimizer.step()\n",
    "        training_loss.append(running_loss/len(train_dataloader.dataset))\n",
    "        training_accuracy.append(100*(running_accuracy/running_batch))\n",
    "        \n",
    "        running_loss, running_accuracy, running_batch = 0,0,0\n",
    "        with torch.no_grad():\n",
    "            model.eval()\n",
    "            for (x, y) in val_dataloader:\n",
    "                (x, y) = (x.to(device), y.to(device))\n",
    "                pred = model(x)\n",
    "                loss = criterion(pred, y)\n",
    "                running_loss += loss.item()*x.size()[0]\n",
    "                running_accuracy += (pred.argmax(1)==y).sum().item()\n",
    "                running_batch +=y.size()[0]\n",
    "                del x\n",
    "                del y\n",
    "        validation_loss.append(running_loss/len(val_dataloader.dataset))\n",
    "        validation_accuracy.append(100*(running_accuracy/running_batch))\n",
    "        \n",
    "        wandb.log({\n",
    "                \"epochs\": epoch + 1,\n",
    "                \"train_loss\": training_loss[-1],\n",
    "                \"train_accuracy\": training_accuracy[-1],\n",
    "                \"val_loss\": validation_loss[-1],\n",
    "                \"val_accuracy\": validation_accuracy[-1]\n",
    "        })\n",
    "        print(f\"Epoch: {epoch+1}/{config['epochs']}\")\n",
    "    del model\n",
    "    gc.collect()\n",
    "    torch.cuda.empty_cache()"
   ]
  },
  {
   "cell_type": "code",
   "execution_count": 11,
   "metadata": {},
   "outputs": [],
   "source": [
    "sweep_config = {\n",
    "    'method': 'bayes',\n",
    "    'name': 'PART_A_Q2_SWEEP_1',\n",
    "    'metric': {\n",
    "        'name': 'val_accuracy',\n",
    "        'goal': 'maximize',\n",
    "    },\n",
    "    'parameters': {\n",
    "        'number_of_filters': {\n",
    "            'values': [16, 32, 64, 128, 256]\n",
    "        },\n",
    "        'filter_size': {\n",
    "            'value':3\n",
    "        },\n",
    "        'stride': {\n",
    "            'value':1\n",
    "        },\n",
    "        'padding': {\n",
    "            'value':1\n",
    "        },\n",
    "        'max_pooling_size': {\n",
    "            'value':2\n",
    "        },\n",
    "        'n_neurons': {\n",
    "            'values':[64,128,256,512,1024]\n",
    "        },\n",
    "        'n_classes': {\n",
    "            'value':10\n",
    "        },\n",
    "        'conv_activation': {\n",
    "            'values':['relu','gelu','silu','mish','relu6','tanh','sigmoid']\n",
    "        },\n",
    "        'dense_activation': {\n",
    "            'values':['relu','gelu','silu','mish','relu6','tanh','sigmoid']\n",
    "        },\n",
    "        'dropout_rate':{\n",
    "            'values':[0.2,0.3,0.4,0.5]\n",
    "        },\n",
    "        'use_batchnorm':{\n",
    "            'values':[True, False]\n",
    "        },\n",
    "        'factor':{\n",
    "            'values':[1,2,3,0.5]\n",
    "        },\n",
    "        'learning_rate':{\n",
    "            'values':[1e-2,1e-3,1e-4,1e-5]\n",
    "        },\n",
    "        'batch_size':{\n",
    "            'value': 16\n",
    "        },\n",
    "        'epochs':{\n",
    "            'values':[5,10,15,20]\n",
    "        },\n",
    "        'use_augmentation':{\n",
    "            'values':[True, False]\n",
    "        },\n",
    "        'dropout_organisation':{\n",
    "            'values':[1,2,3,4,5]\n",
    "        }\n",
    "    }\n",
    "}"
   ]
  },
  {
   "cell_type": "code",
   "execution_count": 12,
   "metadata": {},
   "outputs": [
    {
     "name": "stderr",
     "output_type": "stream",
     "text": [
      "\u001b[34m\u001b[1mwandb\u001b[0m: Currently logged in as: \u001b[33med23s037\u001b[0m. Use \u001b[1m`wandb login --relogin`\u001b[0m to force relogin\n",
      "\u001b[34m\u001b[1mwandb\u001b[0m: \u001b[33mWARNING\u001b[0m If you're specifying your api key in code, ensure this code is not shared publicly.\n",
      "\u001b[34m\u001b[1mwandb\u001b[0m: \u001b[33mWARNING\u001b[0m Consider setting the WANDB_API_KEY environment variable, or running `wandb login` from the command line.\n",
      "\u001b[34m\u001b[1mwandb\u001b[0m: Appending key for api.wandb.ai to your netrc file: /home/user/.netrc\n"
     ]
    },
    {
     "data": {
      "text/plain": [
       "True"
      ]
     },
     "execution_count": 12,
     "metadata": {},
     "output_type": "execute_result"
    }
   ],
   "source": [
    "# Setup Wandb\n",
    "wandb.login(key='API_KEY')"
   ]
  },
  {
   "cell_type": "code",
   "execution_count": null,
   "metadata": {},
   "outputs": [
    {
     "data": {
      "text/html": [
       "Tracking run with wandb version 0.16.6"
      ],
      "text/plain": [
       "<IPython.core.display.HTML object>"
      ]
     },
     "metadata": {},
     "output_type": "display_data"
    },
    {
     "data": {
      "text/html": [
       "Run data is saved locally in <code>/home/user/Gowthamaan/wandb/run-20240406_220345-c3crlmb1</code>"
      ],
      "text/plain": [
       "<IPython.core.display.HTML object>"
      ]
     },
     "metadata": {},
     "output_type": "display_data"
    },
    {
     "data": {
      "text/html": [
       "Syncing run <strong><a href='https://wandb.ai/ed23s037/CS6910_AS2/runs/c3crlmb1' target=\"_blank\">engineer-data-71</a></strong> to <a href='https://wandb.ai/ed23s037/CS6910_AS2' target=\"_blank\">Weights & Biases</a> (<a href='https://wandb.me/run' target=\"_blank\">docs</a>)<br/>"
      ],
      "text/plain": [
       "<IPython.core.display.HTML object>"
      ]
     },
     "metadata": {},
     "output_type": "display_data"
    },
    {
     "data": {
      "text/html": [
       " View project at <a href='https://wandb.ai/ed23s037/CS6910_AS2' target=\"_blank\">https://wandb.ai/ed23s037/CS6910_AS2</a>"
      ],
      "text/plain": [
       "<IPython.core.display.HTML object>"
      ]
     },
     "metadata": {},
     "output_type": "display_data"
    },
    {
     "data": {
      "text/html": [
       " View run at <a href='https://wandb.ai/ed23s037/CS6910_AS2/runs/c3crlmb1' target=\"_blank\">https://wandb.ai/ed23s037/CS6910_AS2/runs/c3crlmb1</a>"
      ],
      "text/plain": [
       "<IPython.core.display.HTML object>"
      ]
     },
     "metadata": {},
     "output_type": "display_data"
    },
    {
     "name": "stderr",
     "output_type": "stream",
     "text": [
      "\u001b[34m\u001b[1mwandb\u001b[0m: \u001b[33mWARNING\u001b[0m Calling wandb.login() after wandb.init() has no effect.\n"
     ]
    },
    {
     "name": "stdout",
     "output_type": "stream",
     "text": [
      "Create sweep with ID: c6nq6gy5\n",
      "Sweep URL: https://wandb.ai/ed23s037/CS6910_AS2/sweeps/c6nq6gy5\n",
      "VBox(children=(Label(value='0.005 MB of 0.012 MB uploaded\\r'), FloatProgress(value=0.3820843828715365, max=1.0)))\n",
      "<IPython.core.display.HTML object>\n",
      "<IPython.core.display.HTML object>\n"
     ]
    },
    {
     "name": "stderr",
     "output_type": "stream",
     "text": [
      "\u001b[34m\u001b[1mwandb\u001b[0m: Agent Starting Run: lltkk6a0 with config:\n",
      "\u001b[34m\u001b[1mwandb\u001b[0m: \tbatch_size: 16\n",
      "\u001b[34m\u001b[1mwandb\u001b[0m: \tconv_activation: silu\n",
      "\u001b[34m\u001b[1mwandb\u001b[0m: \tdense_activation: relu6\n",
      "\u001b[34m\u001b[1mwandb\u001b[0m: \tdropout_organisation: 1\n",
      "\u001b[34m\u001b[1mwandb\u001b[0m: \tdropout_rate: 0.4\n",
      "\u001b[34m\u001b[1mwandb\u001b[0m: \tepochs: 5\n",
      "\u001b[34m\u001b[1mwandb\u001b[0m: \tfactor: 0.5\n",
      "\u001b[34m\u001b[1mwandb\u001b[0m: \tfilter_size: 3\n",
      "\u001b[34m\u001b[1mwandb\u001b[0m: \tlearning_rate: 0.01\n",
      "\u001b[34m\u001b[1mwandb\u001b[0m: \tmax_pooling_size: 2\n",
      "\u001b[34m\u001b[1mwandb\u001b[0m: \tn_classes: 10\n",
      "\u001b[34m\u001b[1mwandb\u001b[0m: \tn_neurons: 1024\n",
      "\u001b[34m\u001b[1mwandb\u001b[0m: \tnumber_of_filters: 64\n",
      "\u001b[34m\u001b[1mwandb\u001b[0m: \tpadding: 1\n",
      "\u001b[34m\u001b[1mwandb\u001b[0m: \tstride: 1\n",
      "\u001b[34m\u001b[1mwandb\u001b[0m: \tuse_augmentation: True\n",
      "\u001b[34m\u001b[1mwandb\u001b[0m: \tuse_batchnorm: False\n"
     ]
    },
    {
     "data": {
      "text/html": [
       "Tracking run with wandb version 0.16.6"
      ],
      "text/plain": [
       "<IPython.core.display.HTML object>"
      ]
     },
     "metadata": {},
     "output_type": "display_data"
    },
    {
     "data": {
      "text/html": [
       "Run data is saved locally in <code>/home/user/Gowthamaan/wandb/run-20240406_220358-lltkk6a0</code>"
      ],
      "text/plain": [
       "<IPython.core.display.HTML object>"
      ]
     },
     "metadata": {},
     "output_type": "display_data"
    },
    {
     "data": {
      "text/html": [
       "Syncing run <strong><a href='https://wandb.ai/ed23s037/CS6910_AS2/runs/lltkk6a0' target=\"_blank\">happy-sweep-1</a></strong> to <a href='https://wandb.ai/ed23s037/CS6910_AS2' target=\"_blank\">Weights & Biases</a> (<a href='https://wandb.me/run' target=\"_blank\">docs</a>)<br/>Sweep page: <a href='https://wandb.ai/ed23s037/CS6910_AS2/sweeps/c6nq6gy5' target=\"_blank\">https://wandb.ai/ed23s037/CS6910_AS2/sweeps/c6nq6gy5</a>"
      ],
      "text/plain": [
       "<IPython.core.display.HTML object>"
      ]
     },
     "metadata": {},
     "output_type": "display_data"
    },
    {
     "data": {
      "text/html": [
       " View project at <a href='https://wandb.ai/ed23s037/CS6910_AS2' target=\"_blank\">https://wandb.ai/ed23s037/CS6910_AS2</a>"
      ],
      "text/plain": [
       "<IPython.core.display.HTML object>"
      ]
     },
     "metadata": {},
     "output_type": "display_data"
    },
    {
     "data": {
      "text/html": [
       " View sweep at <a href='https://wandb.ai/ed23s037/CS6910_AS2/sweeps/c6nq6gy5' target=\"_blank\">https://wandb.ai/ed23s037/CS6910_AS2/sweeps/c6nq6gy5</a>"
      ],
      "text/plain": [
       "<IPython.core.display.HTML object>"
      ]
     },
     "metadata": {},
     "output_type": "display_data"
    },
    {
     "data": {
      "text/html": [
       " View run at <a href='https://wandb.ai/ed23s037/CS6910_AS2/runs/lltkk6a0' target=\"_blank\">https://wandb.ai/ed23s037/CS6910_AS2/runs/lltkk6a0</a>"
      ],
      "text/plain": [
       "<IPython.core.display.HTML object>"
      ]
     },
     "metadata": {},
     "output_type": "display_data"
    },
    {
     "name": "stderr",
     "output_type": "stream",
     "text": [
      "Exception in thread ChkStopThrException in thread :\n",
      "Exception in thread IntMsgThrNetStatThr:\n",
      "Traceback (most recent call last):\n",
      ":\n",
      "Traceback (most recent call last):\n",
      "  File \"/home/user/anaconda3/lib/python3.11/threading.py\", line 1045, in _bootstrap_inner\n",
      "Traceback (most recent call last):\n",
      "  File \"/home/user/anaconda3/lib/python3.11/threading.py\", line 1045, in _bootstrap_inner\n",
      "  File \"/home/user/anaconda3/lib/python3.11/threading.py\", line 1045, in _bootstrap_inner\n",
      "    self.run()\n",
      "  File \"/home/user/anaconda3/lib/python3.11/threading.py\", line 982, in run\n",
      "    self.run()\n",
      "  File \"/home/user/anaconda3/lib/python3.11/threading.py\", line 982, in run\n",
      "    self._target(*self._args, **self._kwargs)\n",
      "  File \"/home/user/anaconda3/lib/python3.11/site-packages/wandb/sdk/wandb_run.py\", line 286, in check_stop_status\n",
      "    self._target(*self._args, **self._kwargs)\n",
      "  File \"/home/user/anaconda3/lib/python3.11/site-packages/wandb/sdk/wandb_run.py\", line 268, in check_network_status\n",
      "    self.run()\n",
      "  File \"/home/user/anaconda3/lib/python3.11/threading.py\", line 982, in run\n",
      "    self._loop_check_status(\n",
      "  File \"/home/user/anaconda3/lib/python3.11/site-packages/wandb/sdk/wandb_run.py\", line 224, in _loop_check_status\n",
      "    self._loop_check_status(\n",
      "  File \"/home/user/anaconda3/lib/python3.11/site-packages/wandb/sdk/wandb_run.py\", line 224, in _loop_check_status\n",
      "    local_handle = request()\n",
      "                   ^^^^^^^^^\n",
      "  File \"/home/user/anaconda3/lib/python3.11/site-packages/wandb/sdk/interface/interface.py\", line 848, in deliver_network_status\n",
      "    self._target(*self._args, **self._kwargs)\n",
      "  File \"/home/user/anaconda3/lib/python3.11/site-packages/wandb/sdk/wandb_run.py\", line 300, in check_internal_messages\n",
      "        return self._deliver_network_status(status)local_handle = request()\n",
      "\n",
      "       self._loop_check_status(  \n",
      "      File \"/home/user/anaconda3/lib/python3.11/site-packages/wandb/sdk/wandb_run.py\", line 224, in _loop_check_status\n",
      "          local_handle = request()  \n",
      "      ^  ^  ^  ^  ^  ^  ^  ^  ^ ^^ ^^ ^^ ^^ ^^ ^^ ^^ ^^ ^^ \n",
      "^^^^  File \"/home/user/anaconda3/lib/python3.11/site-packages/wandb/sdk/interface/interface.py\", line 840, in deliver_stop_status\n",
      "^^^^^^^^    ^^return self._deliver_stop_status(status)^^\n",
      "^^^\n",
      " ^ ^  File \"/home/user/anaconda3/lib/python3.11/site-packages/wandb/sdk/interface/interface.py\", line 856, in deliver_internal_messages\n",
      " ^ ^ ^ ^ ^ ^ \n",
      "    File \"/home/user/anaconda3/lib/python3.11/site-packages/wandb/sdk/interface/interface_shared.py\", line 510, in _deliver_network_status\n",
      "^^^^^^^^^^^^^^^^^^^^^^^^^^^^^^^^^\n",
      "  File \"/home/user/anaconda3/lib/python3.11/site-packages/wandb/sdk/interface/interface_shared.py\", line 494, in _deliver_stop_status\n",
      "        return self._deliver_internal_messages(internal_message)    return self._deliver_record(record)\n",
      "return self._deliver_record(record)\n",
      "\n",
      "                                ^ ^^^^^^^^^^^^^^^^^^^^^^^^^^^^^^^^^^^^^^^^^^^^^^^^^^^^^^^^^^^^^^^^^^^^^^^^^^^^^^^^^^^^\n",
      "^\n",
      "^  File \"/home/user/anaconda3/lib/python3.11/site-packages/wandb/sdk/interface/interface_shared.py\", line 459, in _deliver_record\n",
      "^  File \"/home/user/anaconda3/lib/python3.11/site-packages/wandb/sdk/interface/interface_shared.py\", line 459, in _deliver_record\n",
      "^^    ^    handle = mailbox._deliver_record(record, interface=self)^handle = mailbox._deliver_record(record, interface=self)\n",
      "^\n",
      "^ ^  ^  ^  ^  ^  ^  ^  ^  ^  ^  ^  \n",
      "   ^  File \"/home/user/anaconda3/lib/python3.11/site-packages/wandb/sdk/interface/interface_shared.py\", line 516, in _deliver_internal_messages\n",
      "^^^^^^^^^^^^^^^^^^^^^^^^^^^^^^^^^^^^^^    ^^return self._deliver_record(record)^^\n",
      "^^^^ ^^ ^^ ^^ ^^ ^^ ^^ ^^ ^^ ^^ ^^ ^^^^^^^^^^^^^^^^^^^^^^^^^^^^^^^^^^^^^^^^\n",
      "^\n",
      "^  File \"/home/user/anaconda3/lib/python3.11/site-packages/wandb/sdk/lib/mailbox.py\", line 455, in _deliver_record\n",
      "^  File \"/home/user/anaconda3/lib/python3.11/site-packages/wandb/sdk/lib/mailbox.py\", line 455, in _deliver_record\n",
      "^^    ^interface._publish(record)^    \n",
      "^interface._publish(record)^\n",
      "  File \"/home/user/anaconda3/lib/python3.11/site-packages/wandb/sdk/interface/interface_sock.py\", line 51, in _publish\n",
      "^^  File \"/home/user/anaconda3/lib/python3.11/site-packages/wandb/sdk/interface/interface_sock.py\", line 51, in _publish\n",
      "^^    ^    self._sock_client.send_record_publish(record)^self._sock_client.send_record_publish(record)\n",
      "\n",
      "\n",
      "  File \"/home/user/anaconda3/lib/python3.11/site-packages/wandb/sdk/lib/sock_client.py\", line 221, in send_record_publish\n",
      "  File \"/home/user/anaconda3/lib/python3.11/site-packages/wandb/sdk/interface/interface_shared.py\", line 459, in _deliver_record\n",
      "  File \"/home/user/anaconda3/lib/python3.11/site-packages/wandb/sdk/lib/sock_client.py\", line 221, in send_record_publish\n",
      "        self.send_server_request(server_req)handle = mailbox._deliver_record(record, interface=self)\n",
      "    \n",
      "self.send_server_request(server_req)  File \"/home/user/anaconda3/lib/python3.11/site-packages/wandb/sdk/lib/sock_client.py\", line 155, in send_server_request\n",
      "\n",
      "    File \"/home/user/anaconda3/lib/python3.11/site-packages/wandb/sdk/lib/sock_client.py\", line 155, in send_server_request\n",
      "     self._send_message(msg) \n",
      "    File \"/home/user/anaconda3/lib/python3.11/site-packages/wandb/sdk/lib/sock_client.py\", line 152, in _send_message\n",
      "      self._send_message(msg) \n",
      "    File \"/home/user/anaconda3/lib/python3.11/site-packages/wandb/sdk/lib/sock_client.py\", line 152, in _send_message\n",
      "      ^self._sendall_with_error_handle(header + data)^\n",
      "^    ^self._sendall_with_error_handle(header + data)  File \"/home/user/anaconda3/lib/python3.11/site-packages/wandb/sdk/lib/sock_client.py\", line 130, in _sendall_with_error_handle\n",
      "^\n",
      "^^  File \"/home/user/anaconda3/lib/python3.11/site-packages/wandb/sdk/lib/sock_client.py\", line 130, in _sendall_with_error_handle\n",
      "^    ^sent = self._sock.send(data)^    \n",
      "^sent = self._sock.send(data)^\n",
      " ^ ^  ^  ^  ^  ^  ^  ^  ^  ^  ^ ^^ ^^^^^^^^^^^^^^^^^^^^^^^^^^^^^^^^^^^^^^^^^^^^^^^^^^^^^^^^^^^^\n",
      "^^^\n",
      "BrokenPipeError^: \n",
      "BrokenPipeError[Errno 32] Broken pipe: \n",
      "  File \"/home/user/anaconda3/lib/python3.11/site-packages/wandb/sdk/lib/mailbox.py\", line 455, in _deliver_record\n",
      "[Errno 32] Broken pipe\n",
      "    interface._publish(record)\n",
      "  File \"/home/user/anaconda3/lib/python3.11/site-packages/wandb/sdk/interface/interface_sock.py\", line 51, in _publish\n",
      "    self._sock_client.send_record_publish(record)\n",
      "  File \"/home/user/anaconda3/lib/python3.11/site-packages/wandb/sdk/lib/sock_client.py\", line 221, in send_record_publish\n",
      "    self.send_server_request(server_req)\n",
      "  File \"/home/user/anaconda3/lib/python3.11/site-packages/wandb/sdk/lib/sock_client.py\", line 155, in send_server_request\n",
      "    self._send_message(msg)\n",
      "  File \"/home/user/anaconda3/lib/python3.11/site-packages/wandb/sdk/lib/sock_client.py\", line 152, in _send_message\n",
      "    self._sendall_with_error_handle(header + data)\n",
      "  File \"/home/user/anaconda3/lib/python3.11/site-packages/wandb/sdk/lib/sock_client.py\", line 130, in _sendall_with_error_handle\n",
      "    sent = self._sock.send(data)\n",
      "           ^^^^^^^^^^^^^^^^^^^^^\n",
      "BrokenPipeError: [Errno 32] Broken pipe\n"
     ]
    },
    {
     "name": "stdout",
     "output_type": "stream",
     "text": [
      "Epoch: 1/5\n",
      "Epoch: 2/5\n",
      "Epoch: 3/5\n",
      "Epoch: 4/5\n",
      "Epoch: 5/5\n"
     ]
    },
    {
     "data": {
      "application/vnd.jupyter.widget-view+json": {
       "model_id": "",
       "version_major": 2,
       "version_minor": 0
      },
      "text/plain": [
       "VBox(children=(Label(value='0.005 MB of 0.005 MB uploaded\\r'), FloatProgress(value=1.0, max=1.0)))"
      ]
     },
     "metadata": {},
     "output_type": "display_data"
    },
    {
     "data": {
      "text/html": [
       "<style>\n",
       "    table.wandb td:nth-child(1) { padding: 0 10px; text-align: left ; width: auto;} td:nth-child(2) {text-align: left ; width: 100%}\n",
       "    .wandb-row { display: flex; flex-direction: row; flex-wrap: wrap; justify-content: flex-start; width: 100% }\n",
       "    .wandb-col { display: flex; flex-direction: column; flex-basis: 100%; flex: 1; padding: 10px; }\n",
       "    </style>\n",
       "<div class=\"wandb-row\"><div class=\"wandb-col\"><h3>Run history:</h3><br/><table class=\"wandb\"><tr><td>epochs</td><td>▁▃▅▆█</td></tr><tr><td>train_accuracy</td><td>▃▁▇▆█</td></tr><tr><td>train_loss</td><td>█▂▁▁▁</td></tr><tr><td>val_accuracy</td><td>▁█▅█▁</td></tr><tr><td>val_loss</td><td>█▆▅▆▁</td></tr></table><br/></div><div class=\"wandb-col\"><h3>Run summary:</h3><br/><table class=\"wandb\"><tr><td>epochs</td><td>5</td></tr><tr><td>train_accuracy</td><td>10.01375</td></tr><tr><td>train_loss</td><td>2.30458</td></tr><tr><td>val_accuracy</td><td>9.4</td></tr><tr><td>val_loss</td><td>2.30287</td></tr></table><br/></div></div>"
      ],
      "text/plain": [
       "<IPython.core.display.HTML object>"
      ]
     },
     "metadata": {},
     "output_type": "display_data"
    },
    {
     "data": {
      "text/html": [
       " View run <strong style=\"color:#cdcd00\">happy-sweep-1</strong> at: <a href='https://wandb.ai/ed23s037/CS6910_AS2/runs/lltkk6a0' target=\"_blank\">https://wandb.ai/ed23s037/CS6910_AS2/runs/lltkk6a0</a><br/> View project at: <a href='https://wandb.ai/ed23s037/CS6910_AS2' target=\"_blank\">https://wandb.ai/ed23s037/CS6910_AS2</a><br/>Synced 6 W&B file(s), 0 media file(s), 0 artifact file(s) and 0 other file(s)"
      ],
      "text/plain": [
       "<IPython.core.display.HTML object>"
      ]
     },
     "metadata": {},
     "output_type": "display_data"
    },
    {
     "data": {
      "text/html": [
       "Find logs at: <code>./wandb/run-20240406_220358-lltkk6a0/logs</code>"
      ],
      "text/plain": [
       "<IPython.core.display.HTML object>"
      ]
     },
     "metadata": {},
     "output_type": "display_data"
    },
    {
     "name": "stderr",
     "output_type": "stream",
     "text": [
      "\u001b[34m\u001b[1mwandb\u001b[0m: Agent Starting Run: 37gch245 with config:\n",
      "\u001b[34m\u001b[1mwandb\u001b[0m: \tbatch_size: 16\n",
      "\u001b[34m\u001b[1mwandb\u001b[0m: \tconv_activation: tanh\n",
      "\u001b[34m\u001b[1mwandb\u001b[0m: \tdense_activation: tanh\n",
      "\u001b[34m\u001b[1mwandb\u001b[0m: \tdropout_organisation: 5\n",
      "\u001b[34m\u001b[1mwandb\u001b[0m: \tdropout_rate: 0.5\n",
      "\u001b[34m\u001b[1mwandb\u001b[0m: \tepochs: 20\n",
      "\u001b[34m\u001b[1mwandb\u001b[0m: \tfactor: 0.5\n",
      "\u001b[34m\u001b[1mwandb\u001b[0m: \tfilter_size: 3\n",
      "\u001b[34m\u001b[1mwandb\u001b[0m: \tlearning_rate: 1e-05\n",
      "\u001b[34m\u001b[1mwandb\u001b[0m: \tmax_pooling_size: 2\n",
      "\u001b[34m\u001b[1mwandb\u001b[0m: \tn_classes: 10\n",
      "\u001b[34m\u001b[1mwandb\u001b[0m: \tn_neurons: 1024\n",
      "\u001b[34m\u001b[1mwandb\u001b[0m: \tnumber_of_filters: 64\n",
      "\u001b[34m\u001b[1mwandb\u001b[0m: \tpadding: 1\n",
      "\u001b[34m\u001b[1mwandb\u001b[0m: \tstride: 1\n",
      "\u001b[34m\u001b[1mwandb\u001b[0m: \tuse_augmentation: False\n",
      "\u001b[34m\u001b[1mwandb\u001b[0m: \tuse_batchnorm: True\n"
     ]
    },
    {
     "data": {
      "text/html": [
       "Tracking run with wandb version 0.16.6"
      ],
      "text/plain": [
       "<IPython.core.display.HTML object>"
      ]
     },
     "metadata": {},
     "output_type": "display_data"
    },
    {
     "data": {
      "text/html": [
       "Run data is saved locally in <code>/home/user/Gowthamaan/wandb/run-20240406_222355-37gch245</code>"
      ],
      "text/plain": [
       "<IPython.core.display.HTML object>"
      ]
     },
     "metadata": {},
     "output_type": "display_data"
    },
    {
     "data": {
      "text/html": [
       "Syncing run <strong><a href='https://wandb.ai/ed23s037/CS6910_AS2/runs/37gch245' target=\"_blank\">firm-sweep-2</a></strong> to <a href='https://wandb.ai/ed23s037/CS6910_AS2' target=\"_blank\">Weights & Biases</a> (<a href='https://wandb.me/run' target=\"_blank\">docs</a>)<br/>Sweep page: <a href='https://wandb.ai/ed23s037/CS6910_AS2/sweeps/c6nq6gy5' target=\"_blank\">https://wandb.ai/ed23s037/CS6910_AS2/sweeps/c6nq6gy5</a>"
      ],
      "text/plain": [
       "<IPython.core.display.HTML object>"
      ]
     },
     "metadata": {},
     "output_type": "display_data"
    },
    {
     "data": {
      "text/html": [
       " View project at <a href='https://wandb.ai/ed23s037/CS6910_AS2' target=\"_blank\">https://wandb.ai/ed23s037/CS6910_AS2</a>"
      ],
      "text/plain": [
       "<IPython.core.display.HTML object>"
      ]
     },
     "metadata": {},
     "output_type": "display_data"
    },
    {
     "data": {
      "text/html": [
       " View sweep at <a href='https://wandb.ai/ed23s037/CS6910_AS2/sweeps/c6nq6gy5' target=\"_blank\">https://wandb.ai/ed23s037/CS6910_AS2/sweeps/c6nq6gy5</a>"
      ],
      "text/plain": [
       "<IPython.core.display.HTML object>"
      ]
     },
     "metadata": {},
     "output_type": "display_data"
    },
    {
     "data": {
      "text/html": [
       " View run at <a href='https://wandb.ai/ed23s037/CS6910_AS2/runs/37gch245' target=\"_blank\">https://wandb.ai/ed23s037/CS6910_AS2/runs/37gch245</a>"
      ],
      "text/plain": [
       "<IPython.core.display.HTML object>"
      ]
     },
     "metadata": {},
     "output_type": "display_data"
    },
    {
     "name": "stdout",
     "output_type": "stream",
     "text": [
      "Epoch: 1/20\n",
      "Epoch: 2/20\n",
      "Epoch: 3/20\n",
      "Epoch: 4/20\n",
      "Epoch: 5/20\n",
      "Epoch: 6/20\n",
      "Epoch: 7/20\n",
      "Epoch: 8/20\n",
      "Epoch: 9/20\n",
      "Epoch: 10/20\n",
      "Epoch: 11/20\n",
      "Epoch: 12/20\n",
      "Epoch: 13/20\n",
      "Epoch: 14/20\n",
      "Epoch: 15/20\n",
      "Epoch: 16/20\n",
      "Epoch: 17/20\n",
      "Epoch: 18/20\n",
      "Epoch: 19/20\n",
      "Epoch: 20/20\n"
     ]
    },
    {
     "data": {
      "application/vnd.jupyter.widget-view+json": {
       "model_id": "",
       "version_major": 2,
       "version_minor": 0
      },
      "text/plain": [
       "VBox(children=(Label(value='0.005 MB of 0.005 MB uploaded\\r'), FloatProgress(value=1.0, max=1.0)))"
      ]
     },
     "metadata": {},
     "output_type": "display_data"
    },
    {
     "data": {
      "text/html": [
       "<style>\n",
       "    table.wandb td:nth-child(1) { padding: 0 10px; text-align: left ; width: auto;} td:nth-child(2) {text-align: left ; width: 100%}\n",
       "    .wandb-row { display: flex; flex-direction: row; flex-wrap: wrap; justify-content: flex-start; width: 100% }\n",
       "    .wandb-col { display: flex; flex-direction: column; flex-basis: 100%; flex: 1; padding: 10px; }\n",
       "    </style>\n",
       "<div class=\"wandb-row\"><div class=\"wandb-col\"><h3>Run history:</h3><br/><table class=\"wandb\"><tr><td>epochs</td><td>▁▁▂▂▂▃▃▄▄▄▅▅▅▆▆▇▇▇██</td></tr><tr><td>train_accuracy</td><td>▁▁▂▂▃▃▄▄▅▅▆▆▇▆▇█████</td></tr><tr><td>train_loss</td><td>██▇▇▆▆▅▅▄▄▃▃▂▂▂▂▁▁▁▁</td></tr><tr><td>val_accuracy</td><td>▁▂▃▂▃▃▂▄▅▅▆▆▆▇▆▇▇▇██</td></tr><tr><td>val_loss</td><td>█▆▅▆▆▆▆▅▄▃▂▃▃▃▂▂▃▃▂▁</td></tr></table><br/></div><div class=\"wandb-col\"><h3>Run summary:</h3><br/><table class=\"wandb\"><tr><td>epochs</td><td>20</td></tr><tr><td>train_accuracy</td><td>22.3903</td></tr><tr><td>train_loss</td><td>2.13053</td></tr><tr><td>val_accuracy</td><td>25.1</td></tr><tr><td>val_loss</td><td>2.15959</td></tr></table><br/></div></div>"
      ],
      "text/plain": [
       "<IPython.core.display.HTML object>"
      ]
     },
     "metadata": {},
     "output_type": "display_data"
    },
    {
     "data": {
      "text/html": [
       " View run <strong style=\"color:#cdcd00\">firm-sweep-2</strong> at: <a href='https://wandb.ai/ed23s037/CS6910_AS2/runs/37gch245' target=\"_blank\">https://wandb.ai/ed23s037/CS6910_AS2/runs/37gch245</a><br/> View project at: <a href='https://wandb.ai/ed23s037/CS6910_AS2' target=\"_blank\">https://wandb.ai/ed23s037/CS6910_AS2</a><br/>Synced 6 W&B file(s), 0 media file(s), 0 artifact file(s) and 0 other file(s)"
      ],
      "text/plain": [
       "<IPython.core.display.HTML object>"
      ]
     },
     "metadata": {},
     "output_type": "display_data"
    },
    {
     "data": {
      "text/html": [
       "Find logs at: <code>./wandb/run-20240406_222355-37gch245/logs</code>"
      ],
      "text/plain": [
       "<IPython.core.display.HTML object>"
      ]
     },
     "metadata": {},
     "output_type": "display_data"
    },
    {
     "name": "stderr",
     "output_type": "stream",
     "text": [
      "\u001b[34m\u001b[1mwandb\u001b[0m: Agent Starting Run: 7p1zlo7z with config:\n",
      "\u001b[34m\u001b[1mwandb\u001b[0m: \tbatch_size: 16\n",
      "\u001b[34m\u001b[1mwandb\u001b[0m: \tconv_activation: mish\n",
      "\u001b[34m\u001b[1mwandb\u001b[0m: \tdense_activation: silu\n",
      "\u001b[34m\u001b[1mwandb\u001b[0m: \tdropout_organisation: 4\n",
      "\u001b[34m\u001b[1mwandb\u001b[0m: \tdropout_rate: 0.5\n",
      "\u001b[34m\u001b[1mwandb\u001b[0m: \tepochs: 20\n",
      "\u001b[34m\u001b[1mwandb\u001b[0m: \tfactor: 2\n",
      "\u001b[34m\u001b[1mwandb\u001b[0m: \tfilter_size: 3\n",
      "\u001b[34m\u001b[1mwandb\u001b[0m: \tlearning_rate: 0.01\n",
      "\u001b[34m\u001b[1mwandb\u001b[0m: \tmax_pooling_size: 2\n",
      "\u001b[34m\u001b[1mwandb\u001b[0m: \tn_classes: 10\n",
      "\u001b[34m\u001b[1mwandb\u001b[0m: \tn_neurons: 512\n",
      "\u001b[34m\u001b[1mwandb\u001b[0m: \tnumber_of_filters: 32\n",
      "\u001b[34m\u001b[1mwandb\u001b[0m: \tpadding: 1\n",
      "\u001b[34m\u001b[1mwandb\u001b[0m: \tstride: 1\n",
      "\u001b[34m\u001b[1mwandb\u001b[0m: \tuse_augmentation: False\n",
      "\u001b[34m\u001b[1mwandb\u001b[0m: \tuse_batchnorm: False\n"
     ]
    },
    {
     "data": {
      "text/html": [
       "Tracking run with wandb version 0.16.6"
      ],
      "text/plain": [
       "<IPython.core.display.HTML object>"
      ]
     },
     "metadata": {},
     "output_type": "display_data"
    },
    {
     "data": {
      "text/html": [
       "Run data is saved locally in <code>/home/user/Gowthamaan/wandb/run-20240406_235450-7p1zlo7z</code>"
      ],
      "text/plain": [
       "<IPython.core.display.HTML object>"
      ]
     },
     "metadata": {},
     "output_type": "display_data"
    },
    {
     "data": {
      "text/html": [
       "Syncing run <strong><a href='https://wandb.ai/ed23s037/CS6910_AS2/runs/7p1zlo7z' target=\"_blank\">hopeful-sweep-3</a></strong> to <a href='https://wandb.ai/ed23s037/CS6910_AS2' target=\"_blank\">Weights & Biases</a> (<a href='https://wandb.me/run' target=\"_blank\">docs</a>)<br/>Sweep page: <a href='https://wandb.ai/ed23s037/CS6910_AS2/sweeps/c6nq6gy5' target=\"_blank\">https://wandb.ai/ed23s037/CS6910_AS2/sweeps/c6nq6gy5</a>"
      ],
      "text/plain": [
       "<IPython.core.display.HTML object>"
      ]
     },
     "metadata": {},
     "output_type": "display_data"
    },
    {
     "data": {
      "text/html": [
       " View project at <a href='https://wandb.ai/ed23s037/CS6910_AS2' target=\"_blank\">https://wandb.ai/ed23s037/CS6910_AS2</a>"
      ],
      "text/plain": [
       "<IPython.core.display.HTML object>"
      ]
     },
     "metadata": {},
     "output_type": "display_data"
    },
    {
     "data": {
      "text/html": [
       " View sweep at <a href='https://wandb.ai/ed23s037/CS6910_AS2/sweeps/c6nq6gy5' target=\"_blank\">https://wandb.ai/ed23s037/CS6910_AS2/sweeps/c6nq6gy5</a>"
      ],
      "text/plain": [
       "<IPython.core.display.HTML object>"
      ]
     },
     "metadata": {},
     "output_type": "display_data"
    },
    {
     "data": {
      "text/html": [
       " View run at <a href='https://wandb.ai/ed23s037/CS6910_AS2/runs/7p1zlo7z' target=\"_blank\">https://wandb.ai/ed23s037/CS6910_AS2/runs/7p1zlo7z</a>"
      ],
      "text/plain": [
       "<IPython.core.display.HTML object>"
      ]
     },
     "metadata": {},
     "output_type": "display_data"
    },
    {
     "name": "stdout",
     "output_type": "stream",
     "text": [
      "Epoch: 1/20\n",
      "Epoch: 2/20\n",
      "Epoch: 3/20\n",
      "Epoch: 4/20\n",
      "Epoch: 5/20\n",
      "Epoch: 6/20\n",
      "Epoch: 7/20\n",
      "Epoch: 8/20\n",
      "Epoch: 9/20\n",
      "Epoch: 10/20\n",
      "Epoch: 11/20\n",
      "Epoch: 12/20\n",
      "Epoch: 13/20\n",
      "Epoch: 14/20\n",
      "Epoch: 15/20\n",
      "Epoch: 16/20\n",
      "Epoch: 17/20\n",
      "Epoch: 18/20\n",
      "Epoch: 19/20\n",
      "Epoch: 20/20\n"
     ]
    },
    {
     "data": {
      "application/vnd.jupyter.widget-view+json": {
       "model_id": "",
       "version_major": 2,
       "version_minor": 0
      },
      "text/plain": [
       "VBox(children=(Label(value='0.005 MB of 0.005 MB uploaded\\r'), FloatProgress(value=1.0, max=1.0)))"
      ]
     },
     "metadata": {},
     "output_type": "display_data"
    },
    {
     "data": {
      "text/html": [
       "<style>\n",
       "    table.wandb td:nth-child(1) { padding: 0 10px; text-align: left ; width: auto;} td:nth-child(2) {text-align: left ; width: 100%}\n",
       "    .wandb-row { display: flex; flex-direction: row; flex-wrap: wrap; justify-content: flex-start; width: 100% }\n",
       "    .wandb-col { display: flex; flex-direction: column; flex-basis: 100%; flex: 1; padding: 10px; }\n",
       "    </style>\n",
       "<div class=\"wandb-row\"><div class=\"wandb-col\"><h3>Run history:</h3><br/><table class=\"wandb\"><tr><td>epochs</td><td>▁▁▂▂▂▃▃▄▄▄▅▅▅▆▆▇▇▇██</td></tr><tr><td>train_accuracy</td><td>▆▃▇▃█▃▃▇▅▄▄▄▄▄▄▃▃▇▁▅</td></tr><tr><td>train_loss</td><td>█▁▁▁▁▁▁▁▁▁▁▁▁▁▁▁▁▁▁▁</td></tr><tr><td>val_accuracy</td><td>▇▆▃█▁▇█▇▆▅▁▁▁▁▁█▇▁▅▅</td></tr><tr><td>val_loss</td><td>▂█▄▂▂▁▃▁▂▄▃▃▃▃▃▄▂▆▃▂</td></tr></table><br/></div><div class=\"wandb-col\"><h3>Run summary:</h3><br/><table class=\"wandb\"><tr><td>epochs</td><td>20</td></tr><tr><td>train_accuracy</td><td>9.90124</td></tr><tr><td>train_loss</td><td>2.3121</td></tr><tr><td>val_accuracy</td><td>10.05</td></tr><tr><td>val_loss</td><td>2.30802</td></tr></table><br/></div></div>"
      ],
      "text/plain": [
       "<IPython.core.display.HTML object>"
      ]
     },
     "metadata": {},
     "output_type": "display_data"
    },
    {
     "data": {
      "text/html": [
       " View run <strong style=\"color:#cdcd00\">hopeful-sweep-3</strong> at: <a href='https://wandb.ai/ed23s037/CS6910_AS2/runs/7p1zlo7z' target=\"_blank\">https://wandb.ai/ed23s037/CS6910_AS2/runs/7p1zlo7z</a><br/> View project at: <a href='https://wandb.ai/ed23s037/CS6910_AS2' target=\"_blank\">https://wandb.ai/ed23s037/CS6910_AS2</a><br/>Synced 6 W&B file(s), 0 media file(s), 0 artifact file(s) and 0 other file(s)"
      ],
      "text/plain": [
       "<IPython.core.display.HTML object>"
      ]
     },
     "metadata": {},
     "output_type": "display_data"
    },
    {
     "data": {
      "text/html": [
       "Find logs at: <code>./wandb/run-20240406_235450-7p1zlo7z/logs</code>"
      ],
      "text/plain": [
       "<IPython.core.display.HTML object>"
      ]
     },
     "metadata": {},
     "output_type": "display_data"
    },
    {
     "name": "stderr",
     "output_type": "stream",
     "text": [
      "\u001b[34m\u001b[1mwandb\u001b[0m: Agent Starting Run: c4s3w9nz with config:\n",
      "\u001b[34m\u001b[1mwandb\u001b[0m: \tbatch_size: 16\n",
      "\u001b[34m\u001b[1mwandb\u001b[0m: \tconv_activation: sigmoid\n",
      "\u001b[34m\u001b[1mwandb\u001b[0m: \tdense_activation: relu\n",
      "\u001b[34m\u001b[1mwandb\u001b[0m: \tdropout_organisation: 1\n",
      "\u001b[34m\u001b[1mwandb\u001b[0m: \tdropout_rate: 0.4\n",
      "\u001b[34m\u001b[1mwandb\u001b[0m: \tepochs: 10\n",
      "\u001b[34m\u001b[1mwandb\u001b[0m: \tfactor: 2\n",
      "\u001b[34m\u001b[1mwandb\u001b[0m: \tfilter_size: 3\n",
      "\u001b[34m\u001b[1mwandb\u001b[0m: \tlearning_rate: 0.01\n",
      "\u001b[34m\u001b[1mwandb\u001b[0m: \tmax_pooling_size: 2\n",
      "\u001b[34m\u001b[1mwandb\u001b[0m: \tn_classes: 10\n",
      "\u001b[34m\u001b[1mwandb\u001b[0m: \tn_neurons: 512\n",
      "\u001b[34m\u001b[1mwandb\u001b[0m: \tnumber_of_filters: 16\n",
      "\u001b[34m\u001b[1mwandb\u001b[0m: \tpadding: 1\n",
      "\u001b[34m\u001b[1mwandb\u001b[0m: \tstride: 1\n",
      "\u001b[34m\u001b[1mwandb\u001b[0m: \tuse_augmentation: False\n",
      "\u001b[34m\u001b[1mwandb\u001b[0m: \tuse_batchnorm: True\n"
     ]
    },
    {
     "data": {
      "text/html": [
       "Tracking run with wandb version 0.16.6"
      ],
      "text/plain": [
       "<IPython.core.display.HTML object>"
      ]
     },
     "metadata": {},
     "output_type": "display_data"
    },
    {
     "data": {
      "text/html": [
       "Run data is saved locally in <code>/home/user/Gowthamaan/wandb/run-20240407_012642-c4s3w9nz</code>"
      ],
      "text/plain": [
       "<IPython.core.display.HTML object>"
      ]
     },
     "metadata": {},
     "output_type": "display_data"
    },
    {
     "data": {
      "text/html": [
       "Syncing run <strong><a href='https://wandb.ai/ed23s037/CS6910_AS2/runs/c4s3w9nz' target=\"_blank\">brisk-sweep-4</a></strong> to <a href='https://wandb.ai/ed23s037/CS6910_AS2' target=\"_blank\">Weights & Biases</a> (<a href='https://wandb.me/run' target=\"_blank\">docs</a>)<br/>Sweep page: <a href='https://wandb.ai/ed23s037/CS6910_AS2/sweeps/c6nq6gy5' target=\"_blank\">https://wandb.ai/ed23s037/CS6910_AS2/sweeps/c6nq6gy5</a>"
      ],
      "text/plain": [
       "<IPython.core.display.HTML object>"
      ]
     },
     "metadata": {},
     "output_type": "display_data"
    },
    {
     "data": {
      "text/html": [
       " View project at <a href='https://wandb.ai/ed23s037/CS6910_AS2' target=\"_blank\">https://wandb.ai/ed23s037/CS6910_AS2</a>"
      ],
      "text/plain": [
       "<IPython.core.display.HTML object>"
      ]
     },
     "metadata": {},
     "output_type": "display_data"
    },
    {
     "data": {
      "text/html": [
       " View sweep at <a href='https://wandb.ai/ed23s037/CS6910_AS2/sweeps/c6nq6gy5' target=\"_blank\">https://wandb.ai/ed23s037/CS6910_AS2/sweeps/c6nq6gy5</a>"
      ],
      "text/plain": [
       "<IPython.core.display.HTML object>"
      ]
     },
     "metadata": {},
     "output_type": "display_data"
    },
    {
     "data": {
      "text/html": [
       " View run at <a href='https://wandb.ai/ed23s037/CS6910_AS2/runs/c4s3w9nz' target=\"_blank\">https://wandb.ai/ed23s037/CS6910_AS2/runs/c4s3w9nz</a>"
      ],
      "text/plain": [
       "<IPython.core.display.HTML object>"
      ]
     },
     "metadata": {},
     "output_type": "display_data"
    },
    {
     "name": "stdout",
     "output_type": "stream",
     "text": [
      "Epoch: 1/10\n",
      "Epoch: 2/10\n",
      "Epoch: 3/10\n",
      "Epoch: 4/10\n",
      "Epoch: 5/10\n",
      "Epoch: 6/10\n",
      "Epoch: 7/10\n",
      "Epoch: 8/10\n",
      "Epoch: 9/10\n",
      "Epoch: 10/10\n"
     ]
    },
    {
     "data": {
      "application/vnd.jupyter.widget-view+json": {
       "model_id": "",
       "version_major": 2,
       "version_minor": 0
      },
      "text/plain": [
       "VBox(children=(Label(value='0.005 MB of 0.005 MB uploaded\\r'), FloatProgress(value=1.0, max=1.0)))"
      ]
     },
     "metadata": {},
     "output_type": "display_data"
    },
    {
     "data": {
      "text/html": [
       "<style>\n",
       "    table.wandb td:nth-child(1) { padding: 0 10px; text-align: left ; width: auto;} td:nth-child(2) {text-align: left ; width: 100%}\n",
       "    .wandb-row { display: flex; flex-direction: row; flex-wrap: wrap; justify-content: flex-start; width: 100% }\n",
       "    .wandb-col { display: flex; flex-direction: column; flex-basis: 100%; flex: 1; padding: 10px; }\n",
       "    </style>\n",
       "<div class=\"wandb-row\"><div class=\"wandb-col\"><h3>Run history:</h3><br/><table class=\"wandb\"><tr><td>epochs</td><td>▁▂▃▃▄▅▆▆▇█</td></tr><tr><td>train_accuracy</td><td>█▅▄▇▆▅▁▁▆▅</td></tr><tr><td>train_loss</td><td>█▁▁▁▁▁▁▁▁▁</td></tr><tr><td>val_accuracy</td><td>▆▃▁▅▅▅▅▄▄█</td></tr><tr><td>val_loss</td><td>▂▃█▃▂▄▃▄▄▁</td></tr></table><br/></div><div class=\"wandb-col\"><h3>Run summary:</h3><br/><table class=\"wandb\"><tr><td>epochs</td><td>10</td></tr><tr><td>train_accuracy</td><td>9.65121</td></tr><tr><td>train_loss</td><td>2.30508</td></tr><tr><td>val_accuracy</td><td>10.3</td></tr><tr><td>val_loss</td><td>2.30249</td></tr></table><br/></div></div>"
      ],
      "text/plain": [
       "<IPython.core.display.HTML object>"
      ]
     },
     "metadata": {},
     "output_type": "display_data"
    },
    {
     "data": {
      "text/html": [
       " View run <strong style=\"color:#cdcd00\">brisk-sweep-4</strong> at: <a href='https://wandb.ai/ed23s037/CS6910_AS2/runs/c4s3w9nz' target=\"_blank\">https://wandb.ai/ed23s037/CS6910_AS2/runs/c4s3w9nz</a><br/> View project at: <a href='https://wandb.ai/ed23s037/CS6910_AS2' target=\"_blank\">https://wandb.ai/ed23s037/CS6910_AS2</a><br/>Synced 6 W&B file(s), 0 media file(s), 0 artifact file(s) and 0 other file(s)"
      ],
      "text/plain": [
       "<IPython.core.display.HTML object>"
      ]
     },
     "metadata": {},
     "output_type": "display_data"
    },
    {
     "data": {
      "text/html": [
       "Find logs at: <code>./wandb/run-20240407_012642-c4s3w9nz/logs</code>"
      ],
      "text/plain": [
       "<IPython.core.display.HTML object>"
      ]
     },
     "metadata": {},
     "output_type": "display_data"
    },
    {
     "name": "stderr",
     "output_type": "stream",
     "text": [
      "\u001b[34m\u001b[1mwandb\u001b[0m: Agent Starting Run: f0et71zr with config:\n",
      "\u001b[34m\u001b[1mwandb\u001b[0m: \tbatch_size: 16\n",
      "\u001b[34m\u001b[1mwandb\u001b[0m: \tconv_activation: relu6\n",
      "\u001b[34m\u001b[1mwandb\u001b[0m: \tdense_activation: relu6\n",
      "\u001b[34m\u001b[1mwandb\u001b[0m: \tdropout_organisation: 5\n",
      "\u001b[34m\u001b[1mwandb\u001b[0m: \tdropout_rate: 0.5\n",
      "\u001b[34m\u001b[1mwandb\u001b[0m: \tepochs: 15\n",
      "\u001b[34m\u001b[1mwandb\u001b[0m: \tfactor: 3\n",
      "\u001b[34m\u001b[1mwandb\u001b[0m: \tfilter_size: 3\n",
      "\u001b[34m\u001b[1mwandb\u001b[0m: \tlearning_rate: 0.0001\n",
      "\u001b[34m\u001b[1mwandb\u001b[0m: \tmax_pooling_size: 2\n",
      "\u001b[34m\u001b[1mwandb\u001b[0m: \tn_classes: 10\n",
      "\u001b[34m\u001b[1mwandb\u001b[0m: \tn_neurons: 512\n",
      "\u001b[34m\u001b[1mwandb\u001b[0m: \tnumber_of_filters: 128\n",
      "\u001b[34m\u001b[1mwandb\u001b[0m: \tpadding: 1\n",
      "\u001b[34m\u001b[1mwandb\u001b[0m: \tstride: 1\n",
      "\u001b[34m\u001b[1mwandb\u001b[0m: \tuse_augmentation: True\n",
      "\u001b[34m\u001b[1mwandb\u001b[0m: \tuse_batchnorm: True\n"
     ]
    },
    {
     "data": {
      "text/html": [
       "Tracking run with wandb version 0.16.6"
      ],
      "text/plain": [
       "<IPython.core.display.HTML object>"
      ]
     },
     "metadata": {},
     "output_type": "display_data"
    },
    {
     "data": {
      "text/html": [
       "Run data is saved locally in <code>/home/user/Gowthamaan/wandb/run-20240407_015627-f0et71zr</code>"
      ],
      "text/plain": [
       "<IPython.core.display.HTML object>"
      ]
     },
     "metadata": {},
     "output_type": "display_data"
    },
    {
     "data": {
      "text/html": [
       "Syncing run <strong><a href='https://wandb.ai/ed23s037/CS6910_AS2/runs/f0et71zr' target=\"_blank\">golden-sweep-5</a></strong> to <a href='https://wandb.ai/ed23s037/CS6910_AS2' target=\"_blank\">Weights & Biases</a> (<a href='https://wandb.me/run' target=\"_blank\">docs</a>)<br/>Sweep page: <a href='https://wandb.ai/ed23s037/CS6910_AS2/sweeps/c6nq6gy5' target=\"_blank\">https://wandb.ai/ed23s037/CS6910_AS2/sweeps/c6nq6gy5</a>"
      ],
      "text/plain": [
       "<IPython.core.display.HTML object>"
      ]
     },
     "metadata": {},
     "output_type": "display_data"
    },
    {
     "data": {
      "text/html": [
       " View project at <a href='https://wandb.ai/ed23s037/CS6910_AS2' target=\"_blank\">https://wandb.ai/ed23s037/CS6910_AS2</a>"
      ],
      "text/plain": [
       "<IPython.core.display.HTML object>"
      ]
     },
     "metadata": {},
     "output_type": "display_data"
    },
    {
     "data": {
      "text/html": [
       " View sweep at <a href='https://wandb.ai/ed23s037/CS6910_AS2/sweeps/c6nq6gy5' target=\"_blank\">https://wandb.ai/ed23s037/CS6910_AS2/sweeps/c6nq6gy5</a>"
      ],
      "text/plain": [
       "<IPython.core.display.HTML object>"
      ]
     },
     "metadata": {},
     "output_type": "display_data"
    },
    {
     "data": {
      "text/html": [
       " View run at <a href='https://wandb.ai/ed23s037/CS6910_AS2/runs/f0et71zr' target=\"_blank\">https://wandb.ai/ed23s037/CS6910_AS2/runs/f0et71zr</a>"
      ],
      "text/plain": [
       "<IPython.core.display.HTML object>"
      ]
     },
     "metadata": {},
     "output_type": "display_data"
    },
    {
     "name": "stdout",
     "output_type": "stream",
     "text": [
      "Epoch: 1/15\n",
      "Epoch: 2/15\n",
      "Epoch: 3/15\n",
      "Epoch: 4/15\n",
      "Epoch: 5/15\n",
      "Epoch: 6/15\n"
     ]
    },
    {
     "data": {
      "application/vnd.jupyter.widget-view+json": {
       "model_id": "",
       "version_major": 2,
       "version_minor": 0
      },
      "text/plain": [
       "VBox(children=(Label(value='0.005 MB of 0.005 MB uploaded\\r'), FloatProgress(value=1.0, max=1.0)))"
      ]
     },
     "metadata": {},
     "output_type": "display_data"
    },
    {
     "data": {
      "text/html": [
       "<style>\n",
       "    table.wandb td:nth-child(1) { padding: 0 10px; text-align: left ; width: auto;} td:nth-child(2) {text-align: left ; width: 100%}\n",
       "    .wandb-row { display: flex; flex-direction: row; flex-wrap: wrap; justify-content: flex-start; width: 100% }\n",
       "    .wandb-col { display: flex; flex-direction: column; flex-basis: 100%; flex: 1; padding: 10px; }\n",
       "    </style>\n",
       "<div class=\"wandb-row\"><div class=\"wandb-col\"><h3>Run history:</h3><br/><table class=\"wandb\"><tr><td>epochs</td><td>▁▂▄▅▇█</td></tr><tr><td>train_accuracy</td><td>▁▆▂▄▇█</td></tr><tr><td>train_loss</td><td>█▂▁▁▁▁</td></tr><tr><td>val_accuracy</td><td>▂▅▃▁▃█</td></tr><tr><td>val_loss</td><td>█▂▁▄▂▂</td></tr></table><br/></div><div class=\"wandb-col\"><h3>Run summary:</h3><br/><table class=\"wandb\"><tr><td>epochs</td><td>6</td></tr><tr><td>train_accuracy</td><td>11.71396</td></tr><tr><td>train_loss</td><td>2.46784</td></tr><tr><td>val_accuracy</td><td>13.0</td></tr><tr><td>val_loss</td><td>2.45475</td></tr></table><br/></div></div>"
      ],
      "text/plain": [
       "<IPython.core.display.HTML object>"
      ]
     },
     "metadata": {},
     "output_type": "display_data"
    },
    {
     "data": {
      "text/html": [
       " View run <strong style=\"color:#cdcd00\">golden-sweep-5</strong> at: <a href='https://wandb.ai/ed23s037/CS6910_AS2/runs/f0et71zr' target=\"_blank\">https://wandb.ai/ed23s037/CS6910_AS2/runs/f0et71zr</a><br/> View project at: <a href='https://wandb.ai/ed23s037/CS6910_AS2' target=\"_blank\">https://wandb.ai/ed23s037/CS6910_AS2</a><br/>Synced 6 W&B file(s), 0 media file(s), 0 artifact file(s) and 0 other file(s)"
      ],
      "text/plain": [
       "<IPython.core.display.HTML object>"
      ]
     },
     "metadata": {},
     "output_type": "display_data"
    },
    {
     "data": {
      "text/html": [
       "Find logs at: <code>./wandb/run-20240407_015627-f0et71zr/logs</code>"
      ],
      "text/plain": [
       "<IPython.core.display.HTML object>"
      ]
     },
     "metadata": {},
     "output_type": "display_data"
    },
    {
     "name": "stderr",
     "output_type": "stream",
     "text": [
      "\u001b[34m\u001b[1mwandb\u001b[0m: Agent Starting Run: byczf0nl with config:\n",
      "\u001b[34m\u001b[1mwandb\u001b[0m: \tbatch_size: 16\n",
      "\u001b[34m\u001b[1mwandb\u001b[0m: \tconv_activation: sigmoid\n",
      "\u001b[34m\u001b[1mwandb\u001b[0m: \tdense_activation: tanh\n",
      "\u001b[34m\u001b[1mwandb\u001b[0m: \tdropout_organisation: 5\n",
      "\u001b[34m\u001b[1mwandb\u001b[0m: \tdropout_rate: 0.5\n",
      "\u001b[34m\u001b[1mwandb\u001b[0m: \tepochs: 15\n",
      "\u001b[34m\u001b[1mwandb\u001b[0m: \tfactor: 0.5\n",
      "\u001b[34m\u001b[1mwandb\u001b[0m: \tfilter_size: 3\n",
      "\u001b[34m\u001b[1mwandb\u001b[0m: \tlearning_rate: 1e-05\n",
      "\u001b[34m\u001b[1mwandb\u001b[0m: \tmax_pooling_size: 2\n",
      "\u001b[34m\u001b[1mwandb\u001b[0m: \tn_classes: 10\n",
      "\u001b[34m\u001b[1mwandb\u001b[0m: \tn_neurons: 512\n",
      "\u001b[34m\u001b[1mwandb\u001b[0m: \tnumber_of_filters: 64\n",
      "\u001b[34m\u001b[1mwandb\u001b[0m: \tpadding: 1\n",
      "\u001b[34m\u001b[1mwandb\u001b[0m: \tstride: 1\n",
      "\u001b[34m\u001b[1mwandb\u001b[0m: \tuse_augmentation: True\n",
      "\u001b[34m\u001b[1mwandb\u001b[0m: \tuse_batchnorm: True\n"
     ]
    },
    {
     "data": {
      "text/html": [
       "Tracking run with wandb version 0.16.6"
      ],
      "text/plain": [
       "<IPython.core.display.HTML object>"
      ]
     },
     "metadata": {},
     "output_type": "display_data"
    },
    {
     "data": {
      "text/html": [
       "Run data is saved locally in <code>/home/user/Gowthamaan/wandb/run-20240407_091214-byczf0nl</code>"
      ],
      "text/plain": [
       "<IPython.core.display.HTML object>"
      ]
     },
     "metadata": {},
     "output_type": "display_data"
    },
    {
     "data": {
      "text/html": [
       "Syncing run <strong><a href='https://wandb.ai/ed23s037/CS6910_AS2/runs/byczf0nl' target=\"_blank\">peachy-sweep-6</a></strong> to <a href='https://wandb.ai/ed23s037/CS6910_AS2' target=\"_blank\">Weights & Biases</a> (<a href='https://wandb.me/run' target=\"_blank\">docs</a>)<br/>Sweep page: <a href='https://wandb.ai/ed23s037/CS6910_AS2/sweeps/c6nq6gy5' target=\"_blank\">https://wandb.ai/ed23s037/CS6910_AS2/sweeps/c6nq6gy5</a>"
      ],
      "text/plain": [
       "<IPython.core.display.HTML object>"
      ]
     },
     "metadata": {},
     "output_type": "display_data"
    },
    {
     "data": {
      "text/html": [
       " View project at <a href='https://wandb.ai/ed23s037/CS6910_AS2' target=\"_blank\">https://wandb.ai/ed23s037/CS6910_AS2</a>"
      ],
      "text/plain": [
       "<IPython.core.display.HTML object>"
      ]
     },
     "metadata": {},
     "output_type": "display_data"
    },
    {
     "data": {
      "text/html": [
       " View sweep at <a href='https://wandb.ai/ed23s037/CS6910_AS2/sweeps/c6nq6gy5' target=\"_blank\">https://wandb.ai/ed23s037/CS6910_AS2/sweeps/c6nq6gy5</a>"
      ],
      "text/plain": [
       "<IPython.core.display.HTML object>"
      ]
     },
     "metadata": {},
     "output_type": "display_data"
    },
    {
     "data": {
      "text/html": [
       " View run at <a href='https://wandb.ai/ed23s037/CS6910_AS2/runs/byczf0nl' target=\"_blank\">https://wandb.ai/ed23s037/CS6910_AS2/runs/byczf0nl</a>"
      ],
      "text/plain": [
       "<IPython.core.display.HTML object>"
      ]
     },
     "metadata": {},
     "output_type": "display_data"
    },
    {
     "name": "stdout",
     "output_type": "stream",
     "text": [
      "Epoch: 1/15\n",
      "Epoch: 2/15\n",
      "Epoch: 3/15\n",
      "Epoch: 4/15\n",
      "Epoch: 5/15\n",
      "Epoch: 6/15\n",
      "Epoch: 7/15\n",
      "Epoch: 8/15\n",
      "Epoch: 9/15\n",
      "Epoch: 10/15\n",
      "Epoch: 11/15\n",
      "Epoch: 12/15\n",
      "Epoch: 13/15\n",
      "Epoch: 14/15\n",
      "Epoch: 15/15\n"
     ]
    },
    {
     "data": {
      "application/vnd.jupyter.widget-view+json": {
       "model_id": "",
       "version_major": 2,
       "version_minor": 0
      },
      "text/plain": [
       "VBox(children=(Label(value='0.005 MB of 0.005 MB uploaded\\r'), FloatProgress(value=1.0, max=1.0)))"
      ]
     },
     "metadata": {},
     "output_type": "display_data"
    },
    {
     "data": {
      "text/html": [
       "<style>\n",
       "    table.wandb td:nth-child(1) { padding: 0 10px; text-align: left ; width: auto;} td:nth-child(2) {text-align: left ; width: 100%}\n",
       "    .wandb-row { display: flex; flex-direction: row; flex-wrap: wrap; justify-content: flex-start; width: 100% }\n",
       "    .wandb-col { display: flex; flex-direction: column; flex-basis: 100%; flex: 1; padding: 10px; }\n",
       "    </style>\n",
       "<div class=\"wandb-row\"><div class=\"wandb-col\"><h3>Run history:</h3><br/><table class=\"wandb\"><tr><td>epochs</td><td>▁▁▂▃▃▃▄▅▅▅▆▇▇▇█</td></tr><tr><td>train_accuracy</td><td>▁▁▁▃▃▅▅▅▆▆▇▇▇▇█</td></tr><tr><td>train_loss</td><td>█▇▆▆▅▄▄▃▃▃▂▂▂▂▁</td></tr><tr><td>val_accuracy</td><td>▁▅▅▇▆██▇▆████▇▇</td></tr><tr><td>val_loss</td><td>█▅▄▂▂▁▂▂▄▃▅▁▃▄▄</td></tr></table><br/></div><div class=\"wandb-col\"><h3>Run summary:</h3><br/><table class=\"wandb\"><tr><td>epochs</td><td>15</td></tr><tr><td>train_accuracy</td><td>15.2394</td></tr><tr><td>train_loss</td><td>2.26282</td></tr><tr><td>val_accuracy</td><td>15.15</td></tr><tr><td>val_loss</td><td>2.2892</td></tr></table><br/></div></div>"
      ],
      "text/plain": [
       "<IPython.core.display.HTML object>"
      ]
     },
     "metadata": {},
     "output_type": "display_data"
    },
    {
     "data": {
      "text/html": [
       " View run <strong style=\"color:#cdcd00\">peachy-sweep-6</strong> at: <a href='https://wandb.ai/ed23s037/CS6910_AS2/runs/byczf0nl' target=\"_blank\">https://wandb.ai/ed23s037/CS6910_AS2/runs/byczf0nl</a><br/> View project at: <a href='https://wandb.ai/ed23s037/CS6910_AS2' target=\"_blank\">https://wandb.ai/ed23s037/CS6910_AS2</a><br/>Synced 6 W&B file(s), 0 media file(s), 0 artifact file(s) and 0 other file(s)"
      ],
      "text/plain": [
       "<IPython.core.display.HTML object>"
      ]
     },
     "metadata": {},
     "output_type": "display_data"
    },
    {
     "data": {
      "text/html": [
       "Find logs at: <code>./wandb/run-20240407_091214-byczf0nl/logs</code>"
      ],
      "text/plain": [
       "<IPython.core.display.HTML object>"
      ]
     },
     "metadata": {},
     "output_type": "display_data"
    },
    {
     "name": "stderr",
     "output_type": "stream",
     "text": [
      "\u001b[34m\u001b[1mwandb\u001b[0m: Sweep Agent: Waiting for job.\n",
      "\u001b[34m\u001b[1mwandb\u001b[0m: Job received.\n",
      "\u001b[34m\u001b[1mwandb\u001b[0m: Agent Starting Run: irl2uti5 with config:\n",
      "\u001b[34m\u001b[1mwandb\u001b[0m: \tbatch_size: 16\n",
      "\u001b[34m\u001b[1mwandb\u001b[0m: \tconv_activation: sigmoid\n",
      "\u001b[34m\u001b[1mwandb\u001b[0m: \tdense_activation: tanh\n",
      "\u001b[34m\u001b[1mwandb\u001b[0m: \tdropout_organisation: 5\n",
      "\u001b[34m\u001b[1mwandb\u001b[0m: \tdropout_rate: 0.5\n",
      "\u001b[34m\u001b[1mwandb\u001b[0m: \tepochs: 20\n",
      "\u001b[34m\u001b[1mwandb\u001b[0m: \tfactor: 3\n",
      "\u001b[34m\u001b[1mwandb\u001b[0m: \tfilter_size: 3\n",
      "\u001b[34m\u001b[1mwandb\u001b[0m: \tlearning_rate: 1e-05\n",
      "\u001b[34m\u001b[1mwandb\u001b[0m: \tmax_pooling_size: 2\n",
      "\u001b[34m\u001b[1mwandb\u001b[0m: \tn_classes: 10\n",
      "\u001b[34m\u001b[1mwandb\u001b[0m: \tn_neurons: 1024\n",
      "\u001b[34m\u001b[1mwandb\u001b[0m: \tnumber_of_filters: 64\n",
      "\u001b[34m\u001b[1mwandb\u001b[0m: \tpadding: 1\n",
      "\u001b[34m\u001b[1mwandb\u001b[0m: \tstride: 1\n",
      "\u001b[34m\u001b[1mwandb\u001b[0m: \tuse_augmentation: True\n",
      "\u001b[34m\u001b[1mwandb\u001b[0m: \tuse_batchnorm: False\n"
     ]
    },
    {
     "data": {
      "text/html": [
       "Tracking run with wandb version 0.16.6"
      ],
      "text/plain": [
       "<IPython.core.display.HTML object>"
      ]
     },
     "metadata": {},
     "output_type": "display_data"
    },
    {
     "data": {
      "text/html": [
       "Run data is saved locally in <code>/home/user/Gowthamaan/wandb/run-20240407_101751-irl2uti5</code>"
      ],
      "text/plain": [
       "<IPython.core.display.HTML object>"
      ]
     },
     "metadata": {},
     "output_type": "display_data"
    },
    {
     "data": {
      "text/html": [
       "Syncing run <strong><a href='https://wandb.ai/ed23s037/CS6910_AS2/runs/irl2uti5' target=\"_blank\">faithful-sweep-7</a></strong> to <a href='https://wandb.ai/ed23s037/CS6910_AS2' target=\"_blank\">Weights & Biases</a> (<a href='https://wandb.me/run' target=\"_blank\">docs</a>)<br/>Sweep page: <a href='https://wandb.ai/ed23s037/CS6910_AS2/sweeps/c6nq6gy5' target=\"_blank\">https://wandb.ai/ed23s037/CS6910_AS2/sweeps/c6nq6gy5</a>"
      ],
      "text/plain": [
       "<IPython.core.display.HTML object>"
      ]
     },
     "metadata": {},
     "output_type": "display_data"
    },
    {
     "data": {
      "text/html": [
       " View project at <a href='https://wandb.ai/ed23s037/CS6910_AS2' target=\"_blank\">https://wandb.ai/ed23s037/CS6910_AS2</a>"
      ],
      "text/plain": [
       "<IPython.core.display.HTML object>"
      ]
     },
     "metadata": {},
     "output_type": "display_data"
    },
    {
     "data": {
      "text/html": [
       " View sweep at <a href='https://wandb.ai/ed23s037/CS6910_AS2/sweeps/c6nq6gy5' target=\"_blank\">https://wandb.ai/ed23s037/CS6910_AS2/sweeps/c6nq6gy5</a>"
      ],
      "text/plain": [
       "<IPython.core.display.HTML object>"
      ]
     },
     "metadata": {},
     "output_type": "display_data"
    },
    {
     "data": {
      "text/html": [
       " View run at <a href='https://wandb.ai/ed23s037/CS6910_AS2/runs/irl2uti5' target=\"_blank\">https://wandb.ai/ed23s037/CS6910_AS2/runs/irl2uti5</a>"
      ],
      "text/plain": [
       "<IPython.core.display.HTML object>"
      ]
     },
     "metadata": {},
     "output_type": "display_data"
    },
    {
     "name": "stdout",
     "output_type": "stream",
     "text": [
      "Epoch: 1/20\n",
      "Epoch: 2/20\n",
      "Epoch: 3/20\n",
      "Epoch: 4/20\n",
      "Epoch: 5/20\n",
      "Epoch: 6/20\n",
      "Epoch: 7/20\n",
      "Epoch: 8/20\n",
      "Epoch: 9/20\n",
      "Epoch: 10/20\n",
      "Epoch: 11/20\n"
     ]
    },
    {
     "data": {
      "application/vnd.jupyter.widget-view+json": {
       "model_id": "",
       "version_major": 2,
       "version_minor": 0
      },
      "text/plain": [
       "VBox(children=(Label(value='0.005 MB of 0.031 MB uploaded\\r'), FloatProgress(value=0.1492087878322323, max=1.0…"
      ]
     },
     "metadata": {},
     "output_type": "display_data"
    },
    {
     "data": {
      "text/html": [
       "<style>\n",
       "    table.wandb td:nth-child(1) { padding: 0 10px; text-align: left ; width: auto;} td:nth-child(2) {text-align: left ; width: 100%}\n",
       "    .wandb-row { display: flex; flex-direction: row; flex-wrap: wrap; justify-content: flex-start; width: 100% }\n",
       "    .wandb-col { display: flex; flex-direction: column; flex-basis: 100%; flex: 1; padding: 10px; }\n",
       "    </style>\n",
       "<div class=\"wandb-row\"><div class=\"wandb-col\"><h3>Run history:</h3><br/><table class=\"wandb\"><tr><td>epochs</td><td>▁▂▂▃▄▅▅▆▇▇█</td></tr><tr><td>train_accuracy</td><td>▇▃▄▄▁▃▇█▄▂▂</td></tr><tr><td>train_loss</td><td>█▁▁▁▁▁▁▁▁▁▁</td></tr><tr><td>val_accuracy</td><td>▄▁▁█▁▁▃▇▁▁▇</td></tr><tr><td>val_loss</td><td>█▃▆▃▄▆▂▃▆▆▁</td></tr></table><br/></div><div class=\"wandb-col\"><h3>Run summary:</h3><br/><table class=\"wandb\"><tr><td>epochs</td><td>11</td></tr><tr><td>train_accuracy</td><td>9.78872</td></tr><tr><td>train_loss</td><td>2.30439</td></tr><tr><td>val_accuracy</td><td>10.45</td></tr><tr><td>val_loss</td><td>2.30203</td></tr></table><br/></div></div>"
      ],
      "text/plain": [
       "<IPython.core.display.HTML object>"
      ]
     },
     "metadata": {},
     "output_type": "display_data"
    },
    {
     "data": {
      "text/html": [
       " View run <strong style=\"color:#cdcd00\">faithful-sweep-7</strong> at: <a href='https://wandb.ai/ed23s037/CS6910_AS2/runs/irl2uti5' target=\"_blank\">https://wandb.ai/ed23s037/CS6910_AS2/runs/irl2uti5</a><br/> View project at: <a href='https://wandb.ai/ed23s037/CS6910_AS2' target=\"_blank\">https://wandb.ai/ed23s037/CS6910_AS2</a><br/>Synced 6 W&B file(s), 0 media file(s), 0 artifact file(s) and 0 other file(s)"
      ],
      "text/plain": [
       "<IPython.core.display.HTML object>"
      ]
     },
     "metadata": {},
     "output_type": "display_data"
    },
    {
     "data": {
      "text/html": [
       "Find logs at: <code>./wandb/run-20240407_101751-irl2uti5/logs</code>"
      ],
      "text/plain": [
       "<IPython.core.display.HTML object>"
      ]
     },
     "metadata": {},
     "output_type": "display_data"
    },
    {
     "name": "stderr",
     "output_type": "stream",
     "text": [
      "\u001b[34m\u001b[1mwandb\u001b[0m: Agent Starting Run: ay7z1q20 with config:\n",
      "\u001b[34m\u001b[1mwandb\u001b[0m: \tbatch_size: 16\n",
      "\u001b[34m\u001b[1mwandb\u001b[0m: \tconv_activation: mish\n",
      "\u001b[34m\u001b[1mwandb\u001b[0m: \tdense_activation: sigmoid\n",
      "\u001b[34m\u001b[1mwandb\u001b[0m: \tdropout_organisation: 4\n",
      "\u001b[34m\u001b[1mwandb\u001b[0m: \tdropout_rate: 0.5\n",
      "\u001b[34m\u001b[1mwandb\u001b[0m: \tepochs: 20\n",
      "\u001b[34m\u001b[1mwandb\u001b[0m: \tfactor: 0.5\n",
      "\u001b[34m\u001b[1mwandb\u001b[0m: \tfilter_size: 3\n",
      "\u001b[34m\u001b[1mwandb\u001b[0m: \tlearning_rate: 0.0001\n",
      "\u001b[34m\u001b[1mwandb\u001b[0m: \tmax_pooling_size: 2\n",
      "\u001b[34m\u001b[1mwandb\u001b[0m: \tn_classes: 10\n",
      "\u001b[34m\u001b[1mwandb\u001b[0m: \tn_neurons: 1024\n",
      "\u001b[34m\u001b[1mwandb\u001b[0m: \tnumber_of_filters: 32\n",
      "\u001b[34m\u001b[1mwandb\u001b[0m: \tpadding: 1\n",
      "\u001b[34m\u001b[1mwandb\u001b[0m: \tstride: 1\n",
      "\u001b[34m\u001b[1mwandb\u001b[0m: \tuse_augmentation: True\n",
      "\u001b[34m\u001b[1mwandb\u001b[0m: \tuse_batchnorm: False\n"
     ]
    },
    {
     "data": {
      "text/html": [
       "Tracking run with wandb version 0.16.6"
      ],
      "text/plain": [
       "<IPython.core.display.HTML object>"
      ]
     },
     "metadata": {},
     "output_type": "display_data"
    },
    {
     "data": {
      "text/html": [
       "Run data is saved locally in <code>/home/user/Gowthamaan/wandb/run-20240407_150525-ay7z1q20</code>"
      ],
      "text/plain": [
       "<IPython.core.display.HTML object>"
      ]
     },
     "metadata": {},
     "output_type": "display_data"
    },
    {
     "data": {
      "text/html": [
       "Syncing run <strong><a href='https://wandb.ai/ed23s037/CS6910_AS2/runs/ay7z1q20' target=\"_blank\">dazzling-sweep-8</a></strong> to <a href='https://wandb.ai/ed23s037/CS6910_AS2' target=\"_blank\">Weights & Biases</a> (<a href='https://wandb.me/run' target=\"_blank\">docs</a>)<br/>Sweep page: <a href='https://wandb.ai/ed23s037/CS6910_AS2/sweeps/c6nq6gy5' target=\"_blank\">https://wandb.ai/ed23s037/CS6910_AS2/sweeps/c6nq6gy5</a>"
      ],
      "text/plain": [
       "<IPython.core.display.HTML object>"
      ]
     },
     "metadata": {},
     "output_type": "display_data"
    },
    {
     "data": {
      "text/html": [
       " View project at <a href='https://wandb.ai/ed23s037/CS6910_AS2' target=\"_blank\">https://wandb.ai/ed23s037/CS6910_AS2</a>"
      ],
      "text/plain": [
       "<IPython.core.display.HTML object>"
      ]
     },
     "metadata": {},
     "output_type": "display_data"
    },
    {
     "data": {
      "text/html": [
       " View sweep at <a href='https://wandb.ai/ed23s037/CS6910_AS2/sweeps/c6nq6gy5' target=\"_blank\">https://wandb.ai/ed23s037/CS6910_AS2/sweeps/c6nq6gy5</a>"
      ],
      "text/plain": [
       "<IPython.core.display.HTML object>"
      ]
     },
     "metadata": {},
     "output_type": "display_data"
    },
    {
     "data": {
      "text/html": [
       " View run at <a href='https://wandb.ai/ed23s037/CS6910_AS2/runs/ay7z1q20' target=\"_blank\">https://wandb.ai/ed23s037/CS6910_AS2/runs/ay7z1q20</a>"
      ],
      "text/plain": [
       "<IPython.core.display.HTML object>"
      ]
     },
     "metadata": {},
     "output_type": "display_data"
    },
    {
     "name": "stdout",
     "output_type": "stream",
     "text": [
      "Epoch: 1/20\n",
      "Epoch: 2/20\n",
      "Epoch: 3/20\n",
      "Epoch: 4/20\n",
      "Epoch: 5/20\n",
      "Epoch: 6/20\n",
      "Epoch: 7/20\n",
      "Epoch: 8/20\n",
      "Epoch: 9/20\n",
      "Epoch: 10/20\n",
      "Epoch: 11/20\n",
      "Epoch: 12/20\n",
      "Epoch: 13/20\n",
      "Epoch: 14/20\n",
      "Epoch: 15/20\n",
      "Epoch: 16/20\n",
      "Epoch: 17/20\n",
      "Epoch: 18/20\n",
      "Epoch: 19/20\n",
      "Epoch: 20/20\n"
     ]
    },
    {
     "data": {
      "application/vnd.jupyter.widget-view+json": {
       "model_id": "",
       "version_major": 2,
       "version_minor": 0
      },
      "text/plain": [
       "VBox(children=(Label(value='0.005 MB of 0.005 MB uploaded\\r'), FloatProgress(value=1.0, max=1.0)))"
      ]
     },
     "metadata": {},
     "output_type": "display_data"
    },
    {
     "data": {
      "text/html": [
       "<style>\n",
       "    table.wandb td:nth-child(1) { padding: 0 10px; text-align: left ; width: auto;} td:nth-child(2) {text-align: left ; width: 100%}\n",
       "    .wandb-row { display: flex; flex-direction: row; flex-wrap: wrap; justify-content: flex-start; width: 100% }\n",
       "    .wandb-col { display: flex; flex-direction: column; flex-basis: 100%; flex: 1; padding: 10px; }\n",
       "    </style>\n",
       "<div class=\"wandb-row\"><div class=\"wandb-col\"><h3>Run history:</h3><br/><table class=\"wandb\"><tr><td>epochs</td><td>▁▁▂▂▂▃▃▄▄▄▅▅▅▆▆▇▇▇██</td></tr><tr><td>train_accuracy</td><td>▁▃▂▃▂▅▆▆▆▆▆▆▆█▇█▇▇▇▇</td></tr><tr><td>train_loss</td><td>█▇▇▆▇▅▃▂▃▂▂▂▂▁▂▁▁▂▂▁</td></tr><tr><td>val_accuracy</td><td>▄▁▁▄▃▄▆▃▅▇▆█▇▄▇▃▅▇▄▅</td></tr><tr><td>val_loss</td><td>▇▇█▅▆▇▃█▄▂▂▁▃▆▂▇▄▂▅█</td></tr></table><br/></div><div class=\"wandb-col\"><h3>Run summary:</h3><br/><table class=\"wandb\"><tr><td>epochs</td><td>20</td></tr><tr><td>train_accuracy</td><td>16.73959</td></tr><tr><td>train_loss</td><td>2.2196</td></tr><tr><td>val_accuracy</td><td>13.25</td></tr><tr><td>val_loss</td><td>2.30079</td></tr></table><br/></div></div>"
      ],
      "text/plain": [
       "<IPython.core.display.HTML object>"
      ]
     },
     "metadata": {},
     "output_type": "display_data"
    },
    {
     "data": {
      "text/html": [
       " View run <strong style=\"color:#cdcd00\">dazzling-sweep-8</strong> at: <a href='https://wandb.ai/ed23s037/CS6910_AS2/runs/ay7z1q20' target=\"_blank\">https://wandb.ai/ed23s037/CS6910_AS2/runs/ay7z1q20</a><br/> View project at: <a href='https://wandb.ai/ed23s037/CS6910_AS2' target=\"_blank\">https://wandb.ai/ed23s037/CS6910_AS2</a><br/>Synced 6 W&B file(s), 0 media file(s), 0 artifact file(s) and 0 other file(s)"
      ],
      "text/plain": [
       "<IPython.core.display.HTML object>"
      ]
     },
     "metadata": {},
     "output_type": "display_data"
    },
    {
     "data": {
      "text/html": [
       "Find logs at: <code>./wandb/run-20240407_150525-ay7z1q20/logs</code>"
      ],
      "text/plain": [
       "<IPython.core.display.HTML object>"
      ]
     },
     "metadata": {},
     "output_type": "display_data"
    },
    {
     "name": "stderr",
     "output_type": "stream",
     "text": [
      "\u001b[34m\u001b[1mwandb\u001b[0m: Agent Starting Run: d3qliy5c with config:\n",
      "\u001b[34m\u001b[1mwandb\u001b[0m: \tbatch_size: 16\n",
      "\u001b[34m\u001b[1mwandb\u001b[0m: \tconv_activation: gelu\n",
      "\u001b[34m\u001b[1mwandb\u001b[0m: \tdense_activation: mish\n",
      "\u001b[34m\u001b[1mwandb\u001b[0m: \tdropout_organisation: 5\n",
      "\u001b[34m\u001b[1mwandb\u001b[0m: \tdropout_rate: 0.5\n",
      "\u001b[34m\u001b[1mwandb\u001b[0m: \tepochs: 15\n",
      "\u001b[34m\u001b[1mwandb\u001b[0m: \tfactor: 1\n",
      "\u001b[34m\u001b[1mwandb\u001b[0m: \tfilter_size: 3\n",
      "\u001b[34m\u001b[1mwandb\u001b[0m: \tlearning_rate: 0.01\n",
      "\u001b[34m\u001b[1mwandb\u001b[0m: \tmax_pooling_size: 2\n",
      "\u001b[34m\u001b[1mwandb\u001b[0m: \tn_classes: 10\n",
      "\u001b[34m\u001b[1mwandb\u001b[0m: \tn_neurons: 64\n",
      "\u001b[34m\u001b[1mwandb\u001b[0m: \tnumber_of_filters: 32\n",
      "\u001b[34m\u001b[1mwandb\u001b[0m: \tpadding: 1\n",
      "\u001b[34m\u001b[1mwandb\u001b[0m: \tstride: 1\n",
      "\u001b[34m\u001b[1mwandb\u001b[0m: \tuse_augmentation: True\n",
      "\u001b[34m\u001b[1mwandb\u001b[0m: \tuse_batchnorm: True\n"
     ]
    },
    {
     "data": {
      "text/html": [
       "Tracking run with wandb version 0.16.6"
      ],
      "text/plain": [
       "<IPython.core.display.HTML object>"
      ]
     },
     "metadata": {},
     "output_type": "display_data"
    },
    {
     "data": {
      "text/html": [
       "Run data is saved locally in <code>/home/user/Gowthamaan/wandb/run-20240407_160420-d3qliy5c</code>"
      ],
      "text/plain": [
       "<IPython.core.display.HTML object>"
      ]
     },
     "metadata": {},
     "output_type": "display_data"
    },
    {
     "data": {
      "text/html": [
       "Syncing run <strong><a href='https://wandb.ai/ed23s037/CS6910_AS2/runs/d3qliy5c' target=\"_blank\">stoic-sweep-9</a></strong> to <a href='https://wandb.ai/ed23s037/CS6910_AS2' target=\"_blank\">Weights & Biases</a> (<a href='https://wandb.me/run' target=\"_blank\">docs</a>)<br/>Sweep page: <a href='https://wandb.ai/ed23s037/CS6910_AS2/sweeps/c6nq6gy5' target=\"_blank\">https://wandb.ai/ed23s037/CS6910_AS2/sweeps/c6nq6gy5</a>"
      ],
      "text/plain": [
       "<IPython.core.display.HTML object>"
      ]
     },
     "metadata": {},
     "output_type": "display_data"
    },
    {
     "data": {
      "text/html": [
       " View project at <a href='https://wandb.ai/ed23s037/CS6910_AS2' target=\"_blank\">https://wandb.ai/ed23s037/CS6910_AS2</a>"
      ],
      "text/plain": [
       "<IPython.core.display.HTML object>"
      ]
     },
     "metadata": {},
     "output_type": "display_data"
    },
    {
     "data": {
      "text/html": [
       " View sweep at <a href='https://wandb.ai/ed23s037/CS6910_AS2/sweeps/c6nq6gy5' target=\"_blank\">https://wandb.ai/ed23s037/CS6910_AS2/sweeps/c6nq6gy5</a>"
      ],
      "text/plain": [
       "<IPython.core.display.HTML object>"
      ]
     },
     "metadata": {},
     "output_type": "display_data"
    },
    {
     "data": {
      "text/html": [
       " View run at <a href='https://wandb.ai/ed23s037/CS6910_AS2/runs/d3qliy5c' target=\"_blank\">https://wandb.ai/ed23s037/CS6910_AS2/runs/d3qliy5c</a>"
      ],
      "text/plain": [
       "<IPython.core.display.HTML object>"
      ]
     },
     "metadata": {},
     "output_type": "display_data"
    },
    {
     "name": "stdout",
     "output_type": "stream",
     "text": [
      "Epoch: 1/15\n",
      "Epoch: 2/15\n",
      "Epoch: 3/15\n",
      "Epoch: 4/15\n",
      "Epoch: 5/15\n",
      "Epoch: 6/15\n",
      "Epoch: 7/15\n",
      "Epoch: 8/15\n",
      "Epoch: 9/15\n",
      "Epoch: 10/15\n",
      "Epoch: 11/15\n",
      "Epoch: 12/15\n",
      "Epoch: 13/15\n",
      "Epoch: 14/15\n",
      "Epoch: 15/15\n"
     ]
    },
    {
     "data": {
      "application/vnd.jupyter.widget-view+json": {
       "model_id": "",
       "version_major": 2,
       "version_minor": 0
      },
      "text/plain": [
       "VBox(children=(Label(value='0.005 MB of 0.005 MB uploaded\\r'), FloatProgress(value=1.0, max=1.0)))"
      ]
     },
     "metadata": {},
     "output_type": "display_data"
    },
    {
     "data": {
      "text/html": [
       "<style>\n",
       "    table.wandb td:nth-child(1) { padding: 0 10px; text-align: left ; width: auto;} td:nth-child(2) {text-align: left ; width: 100%}\n",
       "    .wandb-row { display: flex; flex-direction: row; flex-wrap: wrap; justify-content: flex-start; width: 100% }\n",
       "    .wandb-col { display: flex; flex-direction: column; flex-basis: 100%; flex: 1; padding: 10px; }\n",
       "    </style>\n",
       "<div class=\"wandb-row\"><div class=\"wandb-col\"><h3>Run history:</h3><br/><table class=\"wandb\"><tr><td>epochs</td><td>▁▁▂▃▃▃▄▅▅▅▆▇▇▇█</td></tr><tr><td>train_accuracy</td><td>▄▄▅▃▆▃▅█▅▅▆▃▇▁▄</td></tr><tr><td>train_loss</td><td>█▁▁▁▁▁▁▁▁▁▁▁▁▁▁</td></tr><tr><td>val_accuracy</td><td>▁▅▅▄▅▅▃▃▄▅▄▄█▆▄</td></tr><tr><td>val_loss</td><td>█▃▅▆▂▅▆▃▆▂▄▃▁▁▄</td></tr></table><br/></div><div class=\"wandb-col\"><h3>Run summary:</h3><br/><table class=\"wandb\"><tr><td>epochs</td><td>15</td></tr><tr><td>train_accuracy</td><td>9.5887</td></tr><tr><td>train_loss</td><td>2.30506</td></tr><tr><td>val_accuracy</td><td>9.65</td></tr><tr><td>val_loss</td><td>2.30542</td></tr></table><br/></div></div>"
      ],
      "text/plain": [
       "<IPython.core.display.HTML object>"
      ]
     },
     "metadata": {},
     "output_type": "display_data"
    },
    {
     "data": {
      "text/html": [
       " View run <strong style=\"color:#cdcd00\">stoic-sweep-9</strong> at: <a href='https://wandb.ai/ed23s037/CS6910_AS2/runs/d3qliy5c' target=\"_blank\">https://wandb.ai/ed23s037/CS6910_AS2/runs/d3qliy5c</a><br/> View project at: <a href='https://wandb.ai/ed23s037/CS6910_AS2' target=\"_blank\">https://wandb.ai/ed23s037/CS6910_AS2</a><br/>Synced 6 W&B file(s), 0 media file(s), 0 artifact file(s) and 0 other file(s)"
      ],
      "text/plain": [
       "<IPython.core.display.HTML object>"
      ]
     },
     "metadata": {},
     "output_type": "display_data"
    },
    {
     "data": {
      "text/html": [
       "Find logs at: <code>./wandb/run-20240407_160420-d3qliy5c/logs</code>"
      ],
      "text/plain": [
       "<IPython.core.display.HTML object>"
      ]
     },
     "metadata": {},
     "output_type": "display_data"
    },
    {
     "name": "stderr",
     "output_type": "stream",
     "text": [
      "\u001b[34m\u001b[1mwandb\u001b[0m: Agent Starting Run: mvi476aj with config:\n",
      "\u001b[34m\u001b[1mwandb\u001b[0m: \tbatch_size: 16\n",
      "\u001b[34m\u001b[1mwandb\u001b[0m: \tconv_activation: gelu\n",
      "\u001b[34m\u001b[1mwandb\u001b[0m: \tdense_activation: relu\n",
      "\u001b[34m\u001b[1mwandb\u001b[0m: \tdropout_organisation: 4\n",
      "\u001b[34m\u001b[1mwandb\u001b[0m: \tdropout_rate: 0.2\n",
      "\u001b[34m\u001b[1mwandb\u001b[0m: \tepochs: 20\n",
      "\u001b[34m\u001b[1mwandb\u001b[0m: \tfactor: 1\n",
      "\u001b[34m\u001b[1mwandb\u001b[0m: \tfilter_size: 3\n",
      "\u001b[34m\u001b[1mwandb\u001b[0m: \tlearning_rate: 0.0001\n",
      "\u001b[34m\u001b[1mwandb\u001b[0m: \tmax_pooling_size: 2\n",
      "\u001b[34m\u001b[1mwandb\u001b[0m: \tn_classes: 10\n",
      "\u001b[34m\u001b[1mwandb\u001b[0m: \tn_neurons: 256\n",
      "\u001b[34m\u001b[1mwandb\u001b[0m: \tnumber_of_filters: 64\n",
      "\u001b[34m\u001b[1mwandb\u001b[0m: \tpadding: 1\n",
      "\u001b[34m\u001b[1mwandb\u001b[0m: \tstride: 1\n",
      "\u001b[34m\u001b[1mwandb\u001b[0m: \tuse_augmentation: True\n",
      "\u001b[34m\u001b[1mwandb\u001b[0m: \tuse_batchnorm: True\n"
     ]
    },
    {
     "data": {
      "text/html": [
       "Tracking run with wandb version 0.16.6"
      ],
      "text/plain": [
       "<IPython.core.display.HTML object>"
      ]
     },
     "metadata": {},
     "output_type": "display_data"
    },
    {
     "data": {
      "text/html": [
       "Run data is saved locally in <code>/home/user/Gowthamaan/wandb/run-20240407_165330-mvi476aj</code>"
      ],
      "text/plain": [
       "<IPython.core.display.HTML object>"
      ]
     },
     "metadata": {},
     "output_type": "display_data"
    },
    {
     "data": {
      "text/html": [
       "Syncing run <strong><a href='https://wandb.ai/ed23s037/CS6910_AS2/runs/mvi476aj' target=\"_blank\">ancient-sweep-10</a></strong> to <a href='https://wandb.ai/ed23s037/CS6910_AS2' target=\"_blank\">Weights & Biases</a> (<a href='https://wandb.me/run' target=\"_blank\">docs</a>)<br/>Sweep page: <a href='https://wandb.ai/ed23s037/CS6910_AS2/sweeps/c6nq6gy5' target=\"_blank\">https://wandb.ai/ed23s037/CS6910_AS2/sweeps/c6nq6gy5</a>"
      ],
      "text/plain": [
       "<IPython.core.display.HTML object>"
      ]
     },
     "metadata": {},
     "output_type": "display_data"
    },
    {
     "data": {
      "text/html": [
       " View project at <a href='https://wandb.ai/ed23s037/CS6910_AS2' target=\"_blank\">https://wandb.ai/ed23s037/CS6910_AS2</a>"
      ],
      "text/plain": [
       "<IPython.core.display.HTML object>"
      ]
     },
     "metadata": {},
     "output_type": "display_data"
    },
    {
     "data": {
      "text/html": [
       " View sweep at <a href='https://wandb.ai/ed23s037/CS6910_AS2/sweeps/c6nq6gy5' target=\"_blank\">https://wandb.ai/ed23s037/CS6910_AS2/sweeps/c6nq6gy5</a>"
      ],
      "text/plain": [
       "<IPython.core.display.HTML object>"
      ]
     },
     "metadata": {},
     "output_type": "display_data"
    },
    {
     "data": {
      "text/html": [
       " View run at <a href='https://wandb.ai/ed23s037/CS6910_AS2/runs/mvi476aj' target=\"_blank\">https://wandb.ai/ed23s037/CS6910_AS2/runs/mvi476aj</a>"
      ],
      "text/plain": [
       "<IPython.core.display.HTML object>"
      ]
     },
     "metadata": {},
     "output_type": "display_data"
    },
    {
     "name": "stdout",
     "output_type": "stream",
     "text": [
      "Epoch: 1/20\n",
      "Epoch: 2/20\n",
      "Epoch: 3/20\n",
      "Epoch: 4/20\n",
      "Epoch: 5/20\n",
      "Epoch: 6/20\n",
      "Epoch: 7/20\n",
      "Epoch: 8/20\n",
      "Epoch: 9/20\n",
      "Epoch: 10/20\n",
      "Epoch: 11/20\n",
      "Epoch: 12/20\n",
      "Epoch: 13/20\n",
      "Epoch: 14/20\n",
      "Epoch: 15/20\n"
     ]
    },
    {
     "name": "stderr",
     "output_type": "stream",
     "text": [
      "\u001b[34m\u001b[1mwandb\u001b[0m: Network error (ConnectTimeout), entering retry loop.\n"
     ]
    },
    {
     "name": "stdout",
     "output_type": "stream",
     "text": [
      "Epoch: 16/20\n",
      "Epoch: 17/20\n",
      "Epoch: 18/20\n",
      "Epoch: 19/20\n",
      "Epoch: 20/20\n"
     ]
    },
    {
     "name": "stderr",
     "output_type": "stream",
     "text": [
      "wandb: Network error (ConnectTimeout), entering retry loop.\n"
     ]
    },
    {
     "data": {
      "application/vnd.jupyter.widget-view+json": {
       "model_id": "",
       "version_major": 2,
       "version_minor": 0
      },
      "text/plain": [
       "VBox(children=(Label(value='0.005 MB of 0.005 MB uploaded\\r'), FloatProgress(value=1.0, max=1.0)))"
      ]
     },
     "metadata": {},
     "output_type": "display_data"
    },
    {
     "data": {
      "text/html": [
       "<style>\n",
       "    table.wandb td:nth-child(1) { padding: 0 10px; text-align: left ; width: auto;} td:nth-child(2) {text-align: left ; width: 100%}\n",
       "    .wandb-row { display: flex; flex-direction: row; flex-wrap: wrap; justify-content: flex-start; width: 100% }\n",
       "    .wandb-col { display: flex; flex-direction: column; flex-basis: 100%; flex: 1; padding: 10px; }\n",
       "    </style>\n",
       "<div class=\"wandb-row\"><div class=\"wandb-col\"><h3>Run history:</h3><br/><table class=\"wandb\"><tr><td>epochs</td><td>▁▁▂▂▂▃▃▄▄▄▅▅▅▆▆▇▇▇██</td></tr><tr><td>train_accuracy</td><td>▁▃▃▄▅▅▅▅▆▅▆▆▆▇▇▇█▇██</td></tr><tr><td>train_loss</td><td>█▅▅▅▄▄▄▄▃▃▃▃▃▂▂▂▁▂▁▁</td></tr><tr><td>val_accuracy</td><td>▁▃▃▃▃▄▅▄▅▅▆▄▆▆▇█▇▇▆▇</td></tr><tr><td>val_loss</td><td>█▇▇▆▆▅▆▅▅▅▅▅▄▄▃▂▄▃▃▁</td></tr></table><br/></div><div class=\"wandb-col\"><h3>Run summary:</h3><br/><table class=\"wandb\"><tr><td>epochs</td><td>20</td></tr><tr><td>train_accuracy</td><td>22.14027</td></tr><tr><td>train_loss</td><td>2.14719</td></tr><tr><td>val_accuracy</td><td>21.5</td></tr><tr><td>val_loss</td><td>2.13963</td></tr></table><br/></div></div>"
      ],
      "text/plain": [
       "<IPython.core.display.HTML object>"
      ]
     },
     "metadata": {},
     "output_type": "display_data"
    },
    {
     "data": {
      "text/html": [
       " View run <strong style=\"color:#cdcd00\">ancient-sweep-10</strong> at: <a href='https://wandb.ai/ed23s037/CS6910_AS2/runs/mvi476aj' target=\"_blank\">https://wandb.ai/ed23s037/CS6910_AS2/runs/mvi476aj</a><br/> View project at: <a href='https://wandb.ai/ed23s037/CS6910_AS2' target=\"_blank\">https://wandb.ai/ed23s037/CS6910_AS2</a><br/>Synced 6 W&B file(s), 0 media file(s), 0 artifact file(s) and 0 other file(s)"
      ],
      "text/plain": [
       "<IPython.core.display.HTML object>"
      ]
     },
     "metadata": {},
     "output_type": "display_data"
    },
    {
     "data": {
      "text/html": [
       "Find logs at: <code>./wandb/run-20240407_165330-mvi476aj/logs</code>"
      ],
      "text/plain": [
       "<IPython.core.display.HTML object>"
      ]
     },
     "metadata": {},
     "output_type": "display_data"
    },
    {
     "name": "stderr",
     "output_type": "stream",
     "text": [
      "\u001b[34m\u001b[1mwandb\u001b[0m: Agent Starting Run: aqh9xn90 with config:\n",
      "\u001b[34m\u001b[1mwandb\u001b[0m: \tbatch_size: 16\n",
      "\u001b[34m\u001b[1mwandb\u001b[0m: \tconv_activation: relu\n",
      "\u001b[34m\u001b[1mwandb\u001b[0m: \tdense_activation: relu6\n",
      "\u001b[34m\u001b[1mwandb\u001b[0m: \tdropout_organisation: 3\n",
      "\u001b[34m\u001b[1mwandb\u001b[0m: \tdropout_rate: 0.2\n",
      "\u001b[34m\u001b[1mwandb\u001b[0m: \tepochs: 5\n",
      "\u001b[34m\u001b[1mwandb\u001b[0m: \tfactor: 1\n",
      "\u001b[34m\u001b[1mwandb\u001b[0m: \tfilter_size: 3\n",
      "\u001b[34m\u001b[1mwandb\u001b[0m: \tlearning_rate: 0.0001\n",
      "\u001b[34m\u001b[1mwandb\u001b[0m: \tmax_pooling_size: 2\n",
      "\u001b[34m\u001b[1mwandb\u001b[0m: \tn_classes: 10\n",
      "\u001b[34m\u001b[1mwandb\u001b[0m: \tn_neurons: 512\n",
      "\u001b[34m\u001b[1mwandb\u001b[0m: \tnumber_of_filters: 16\n",
      "\u001b[34m\u001b[1mwandb\u001b[0m: \tpadding: 1\n",
      "\u001b[34m\u001b[1mwandb\u001b[0m: \tstride: 1\n",
      "\u001b[34m\u001b[1mwandb\u001b[0m: \tuse_augmentation: False\n",
      "\u001b[34m\u001b[1mwandb\u001b[0m: \tuse_batchnorm: True\n"
     ]
    },
    {
     "data": {
      "text/html": [
       "Tracking run with wandb version 0.16.6"
      ],
      "text/plain": [
       "<IPython.core.display.HTML object>"
      ]
     },
     "metadata": {},
     "output_type": "display_data"
    },
    {
     "data": {
      "text/html": [
       "Run data is saved locally in <code>/home/user/Gowthamaan/wandb/run-20240407_185943-aqh9xn90</code>"
      ],
      "text/plain": [
       "<IPython.core.display.HTML object>"
      ]
     },
     "metadata": {},
     "output_type": "display_data"
    },
    {
     "data": {
      "text/html": [
       "Syncing run <strong><a href='https://wandb.ai/ed23s037/CS6910_AS2/runs/aqh9xn90' target=\"_blank\">brisk-sweep-11</a></strong> to <a href='https://wandb.ai/ed23s037/CS6910_AS2' target=\"_blank\">Weights & Biases</a> (<a href='https://wandb.me/run' target=\"_blank\">docs</a>)<br/>Sweep page: <a href='https://wandb.ai/ed23s037/CS6910_AS2/sweeps/c6nq6gy5' target=\"_blank\">https://wandb.ai/ed23s037/CS6910_AS2/sweeps/c6nq6gy5</a>"
      ],
      "text/plain": [
       "<IPython.core.display.HTML object>"
      ]
     },
     "metadata": {},
     "output_type": "display_data"
    },
    {
     "data": {
      "text/html": [
       " View project at <a href='https://wandb.ai/ed23s037/CS6910_AS2' target=\"_blank\">https://wandb.ai/ed23s037/CS6910_AS2</a>"
      ],
      "text/plain": [
       "<IPython.core.display.HTML object>"
      ]
     },
     "metadata": {},
     "output_type": "display_data"
    },
    {
     "data": {
      "text/html": [
       " View sweep at <a href='https://wandb.ai/ed23s037/CS6910_AS2/sweeps/c6nq6gy5' target=\"_blank\">https://wandb.ai/ed23s037/CS6910_AS2/sweeps/c6nq6gy5</a>"
      ],
      "text/plain": [
       "<IPython.core.display.HTML object>"
      ]
     },
     "metadata": {},
     "output_type": "display_data"
    },
    {
     "data": {
      "text/html": [
       " View run at <a href='https://wandb.ai/ed23s037/CS6910_AS2/runs/aqh9xn90' target=\"_blank\">https://wandb.ai/ed23s037/CS6910_AS2/runs/aqh9xn90</a>"
      ],
      "text/plain": [
       "<IPython.core.display.HTML object>"
      ]
     },
     "metadata": {},
     "output_type": "display_data"
    },
    {
     "name": "stdout",
     "output_type": "stream",
     "text": [
      "Epoch: 1/5\n",
      "Epoch: 2/5\n",
      "Epoch: 3/5\n",
      "Epoch: 4/5\n",
      "Epoch: 5/5\n"
     ]
    },
    {
     "data": {
      "application/vnd.jupyter.widget-view+json": {
       "model_id": "",
       "version_major": 2,
       "version_minor": 0
      },
      "text/plain": [
       "VBox(children=(Label(value='0.005 MB of 0.031 MB uploaded\\r'), FloatProgress(value=0.14967495455525773, max=1.…"
      ]
     },
     "metadata": {},
     "output_type": "display_data"
    },
    {
     "data": {
      "text/html": [
       "<style>\n",
       "    table.wandb td:nth-child(1) { padding: 0 10px; text-align: left ; width: auto;} td:nth-child(2) {text-align: left ; width: 100%}\n",
       "    .wandb-row { display: flex; flex-direction: row; flex-wrap: wrap; justify-content: flex-start; width: 100% }\n",
       "    .wandb-col { display: flex; flex-direction: column; flex-basis: 100%; flex: 1; padding: 10px; }\n",
       "    </style>\n",
       "<div class=\"wandb-row\"><div class=\"wandb-col\"><h3>Run history:</h3><br/><table class=\"wandb\"><tr><td>epochs</td><td>▁▃▅▆█</td></tr><tr><td>train_accuracy</td><td>▁▅▆▇█</td></tr><tr><td>train_loss</td><td>█▄▃▂▁</td></tr><tr><td>val_accuracy</td><td>▁▇▇█▆</td></tr><tr><td>val_loss</td><td>█▃▄▁▄</td></tr></table><br/></div><div class=\"wandb-col\"><h3>Run summary:</h3><br/><table class=\"wandb\"><tr><td>epochs</td><td>5</td></tr><tr><td>train_accuracy</td><td>36.69209</td></tr><tr><td>train_loss</td><td>1.80968</td></tr><tr><td>val_accuracy</td><td>31.1</td></tr><tr><td>val_loss</td><td>1.93611</td></tr></table><br/></div></div>"
      ],
      "text/plain": [
       "<IPython.core.display.HTML object>"
      ]
     },
     "metadata": {},
     "output_type": "display_data"
    },
    {
     "data": {
      "text/html": [
       " View run <strong style=\"color:#cdcd00\">brisk-sweep-11</strong> at: <a href='https://wandb.ai/ed23s037/CS6910_AS2/runs/aqh9xn90' target=\"_blank\">https://wandb.ai/ed23s037/CS6910_AS2/runs/aqh9xn90</a><br/> View project at: <a href='https://wandb.ai/ed23s037/CS6910_AS2' target=\"_blank\">https://wandb.ai/ed23s037/CS6910_AS2</a><br/>Synced 6 W&B file(s), 0 media file(s), 0 artifact file(s) and 0 other file(s)"
      ],
      "text/plain": [
       "<IPython.core.display.HTML object>"
      ]
     },
     "metadata": {},
     "output_type": "display_data"
    },
    {
     "data": {
      "text/html": [
       "Find logs at: <code>./wandb/run-20240407_185943-aqh9xn90/logs</code>"
      ],
      "text/plain": [
       "<IPython.core.display.HTML object>"
      ]
     },
     "metadata": {},
     "output_type": "display_data"
    },
    {
     "name": "stderr",
     "output_type": "stream",
     "text": [
      "\u001b[34m\u001b[1mwandb\u001b[0m: Sweep Agent: Waiting for job.\n",
      "\u001b[34m\u001b[1mwandb\u001b[0m: Job received.\n",
      "\u001b[34m\u001b[1mwandb\u001b[0m: Agent Starting Run: t8lww8h5 with config:\n",
      "\u001b[34m\u001b[1mwandb\u001b[0m: \tbatch_size: 16\n",
      "\u001b[34m\u001b[1mwandb\u001b[0m: \tconv_activation: mish\n",
      "\u001b[34m\u001b[1mwandb\u001b[0m: \tdense_activation: mish\n",
      "\u001b[34m\u001b[1mwandb\u001b[0m: \tdropout_organisation: 5\n",
      "\u001b[34m\u001b[1mwandb\u001b[0m: \tdropout_rate: 0.4\n",
      "\u001b[34m\u001b[1mwandb\u001b[0m: \tepochs: 10\n",
      "\u001b[34m\u001b[1mwandb\u001b[0m: \tfactor: 1\n",
      "\u001b[34m\u001b[1mwandb\u001b[0m: \tfilter_size: 3\n",
      "\u001b[34m\u001b[1mwandb\u001b[0m: \tlearning_rate: 1e-05\n",
      "\u001b[34m\u001b[1mwandb\u001b[0m: \tmax_pooling_size: 2\n",
      "\u001b[34m\u001b[1mwandb\u001b[0m: \tn_classes: 10\n",
      "\u001b[34m\u001b[1mwandb\u001b[0m: \tn_neurons: 512\n",
      "\u001b[34m\u001b[1mwandb\u001b[0m: \tnumber_of_filters: 256\n",
      "\u001b[34m\u001b[1mwandb\u001b[0m: \tpadding: 1\n",
      "\u001b[34m\u001b[1mwandb\u001b[0m: \tstride: 1\n",
      "\u001b[34m\u001b[1mwandb\u001b[0m: \tuse_augmentation: False\n",
      "\u001b[34m\u001b[1mwandb\u001b[0m: \tuse_batchnorm: True\n"
     ]
    },
    {
     "data": {
      "text/html": [
       "Tracking run with wandb version 0.16.6"
      ],
      "text/plain": [
       "<IPython.core.display.HTML object>"
      ]
     },
     "metadata": {},
     "output_type": "display_data"
    },
    {
     "data": {
      "text/html": [
       "Run data is saved locally in <code>/home/user/Gowthamaan/wandb/run-20240407_191427-t8lww8h5</code>"
      ],
      "text/plain": [
       "<IPython.core.display.HTML object>"
      ]
     },
     "metadata": {},
     "output_type": "display_data"
    },
    {
     "data": {
      "text/html": [
       "Syncing run <strong><a href='https://wandb.ai/ed23s037/CS6910_AS2/runs/t8lww8h5' target=\"_blank\">wobbly-sweep-12</a></strong> to <a href='https://wandb.ai/ed23s037/CS6910_AS2' target=\"_blank\">Weights & Biases</a> (<a href='https://wandb.me/run' target=\"_blank\">docs</a>)<br/>Sweep page: <a href='https://wandb.ai/ed23s037/CS6910_AS2/sweeps/c6nq6gy5' target=\"_blank\">https://wandb.ai/ed23s037/CS6910_AS2/sweeps/c6nq6gy5</a>"
      ],
      "text/plain": [
       "<IPython.core.display.HTML object>"
      ]
     },
     "metadata": {},
     "output_type": "display_data"
    },
    {
     "data": {
      "text/html": [
       " View project at <a href='https://wandb.ai/ed23s037/CS6910_AS2' target=\"_blank\">https://wandb.ai/ed23s037/CS6910_AS2</a>"
      ],
      "text/plain": [
       "<IPython.core.display.HTML object>"
      ]
     },
     "metadata": {},
     "output_type": "display_data"
    },
    {
     "data": {
      "text/html": [
       " View sweep at <a href='https://wandb.ai/ed23s037/CS6910_AS2/sweeps/c6nq6gy5' target=\"_blank\">https://wandb.ai/ed23s037/CS6910_AS2/sweeps/c6nq6gy5</a>"
      ],
      "text/plain": [
       "<IPython.core.display.HTML object>"
      ]
     },
     "metadata": {},
     "output_type": "display_data"
    },
    {
     "data": {
      "text/html": [
       " View run at <a href='https://wandb.ai/ed23s037/CS6910_AS2/runs/t8lww8h5' target=\"_blank\">https://wandb.ai/ed23s037/CS6910_AS2/runs/t8lww8h5</a>"
      ],
      "text/plain": [
       "<IPython.core.display.HTML object>"
      ]
     },
     "metadata": {},
     "output_type": "display_data"
    },
    {
     "name": "stdout",
     "output_type": "stream",
     "text": [
      "Epoch: 1/10\n",
      "Epoch: 2/10\n",
      "Epoch: 3/10\n",
      "Epoch: 4/10\n",
      "Epoch: 5/10\n",
      "Epoch: 6/10\n",
      "Epoch: 7/10\n",
      "Epoch: 8/10\n",
      "Epoch: 9/10\n",
      "Epoch: 10/10\n"
     ]
    },
    {
     "data": {
      "application/vnd.jupyter.widget-view+json": {
       "model_id": "",
       "version_major": 2,
       "version_minor": 0
      },
      "text/plain": [
       "VBox(children=(Label(value='0.005 MB of 0.013 MB uploaded\\r'), FloatProgress(value=0.3564750055216079, max=1.0…"
      ]
     },
     "metadata": {},
     "output_type": "display_data"
    },
    {
     "data": {
      "text/html": [
       "<style>\n",
       "    table.wandb td:nth-child(1) { padding: 0 10px; text-align: left ; width: auto;} td:nth-child(2) {text-align: left ; width: 100%}\n",
       "    .wandb-row { display: flex; flex-direction: row; flex-wrap: wrap; justify-content: flex-start; width: 100% }\n",
       "    .wandb-col { display: flex; flex-direction: column; flex-basis: 100%; flex: 1; padding: 10px; }\n",
       "    </style>\n",
       "<div class=\"wandb-row\"><div class=\"wandb-col\"><h3>Run history:</h3><br/><table class=\"wandb\"><tr><td>epochs</td><td>▁▂▃▃▄▅▆▆▇█</td></tr><tr><td>train_accuracy</td><td>▁▃▄▅▆▆▇▇██</td></tr><tr><td>train_loss</td><td>█▆▅▄▄▃▃▂▁▁</td></tr><tr><td>val_accuracy</td><td>▁▁▄▂▃▃▅▄██</td></tr><tr><td>val_loss</td><td>▁▃▃▆▇█▇█▆▅</td></tr></table><br/></div><div class=\"wandb-col\"><h3>Run summary:</h3><br/><table class=\"wandb\"><tr><td>epochs</td><td>10</td></tr><tr><td>train_accuracy</td><td>40.88011</td></tr><tr><td>train_loss</td><td>1.69413</td></tr><tr><td>val_accuracy</td><td>22.4</td></tr><tr><td>val_loss</td><td>2.37108</td></tr></table><br/></div></div>"
      ],
      "text/plain": [
       "<IPython.core.display.HTML object>"
      ]
     },
     "metadata": {},
     "output_type": "display_data"
    },
    {
     "data": {
      "text/html": [
       " View run <strong style=\"color:#cdcd00\">wobbly-sweep-12</strong> at: <a href='https://wandb.ai/ed23s037/CS6910_AS2/runs/t8lww8h5' target=\"_blank\">https://wandb.ai/ed23s037/CS6910_AS2/runs/t8lww8h5</a><br/> View project at: <a href='https://wandb.ai/ed23s037/CS6910_AS2' target=\"_blank\">https://wandb.ai/ed23s037/CS6910_AS2</a><br/>Synced 6 W&B file(s), 0 media file(s), 0 artifact file(s) and 0 other file(s)"
      ],
      "text/plain": [
       "<IPython.core.display.HTML object>"
      ]
     },
     "metadata": {},
     "output_type": "display_data"
    },
    {
     "data": {
      "text/html": [
       "Find logs at: <code>./wandb/run-20240407_191427-t8lww8h5/logs</code>"
      ],
      "text/plain": [
       "<IPython.core.display.HTML object>"
      ]
     },
     "metadata": {},
     "output_type": "display_data"
    },
    {
     "name": "stderr",
     "output_type": "stream",
     "text": [
      "\u001b[34m\u001b[1mwandb\u001b[0m: Agent Starting Run: ld5dea38 with config:\n",
      "\u001b[34m\u001b[1mwandb\u001b[0m: \tbatch_size: 16\n",
      "\u001b[34m\u001b[1mwandb\u001b[0m: \tconv_activation: mish\n",
      "\u001b[34m\u001b[1mwandb\u001b[0m: \tdense_activation: gelu\n",
      "\u001b[34m\u001b[1mwandb\u001b[0m: \tdropout_organisation: 5\n",
      "\u001b[34m\u001b[1mwandb\u001b[0m: \tdropout_rate: 0.2\n",
      "\u001b[34m\u001b[1mwandb\u001b[0m: \tepochs: 10\n",
      "\u001b[34m\u001b[1mwandb\u001b[0m: \tfactor: 1\n",
      "\u001b[34m\u001b[1mwandb\u001b[0m: \tfilter_size: 3\n",
      "\u001b[34m\u001b[1mwandb\u001b[0m: \tlearning_rate: 0.001\n",
      "\u001b[34m\u001b[1mwandb\u001b[0m: \tmax_pooling_size: 2\n",
      "\u001b[34m\u001b[1mwandb\u001b[0m: \tn_classes: 10\n",
      "\u001b[34m\u001b[1mwandb\u001b[0m: \tn_neurons: 128\n",
      "\u001b[34m\u001b[1mwandb\u001b[0m: \tnumber_of_filters: 256\n",
      "\u001b[34m\u001b[1mwandb\u001b[0m: \tpadding: 1\n",
      "\u001b[34m\u001b[1mwandb\u001b[0m: \tstride: 1\n",
      "\u001b[34m\u001b[1mwandb\u001b[0m: \tuse_augmentation: True\n",
      "\u001b[34m\u001b[1mwandb\u001b[0m: \tuse_batchnorm: True\n"
     ]
    },
    {
     "data": {
      "text/html": [
       "Tracking run with wandb version 0.16.6"
      ],
      "text/plain": [
       "<IPython.core.display.HTML object>"
      ]
     },
     "metadata": {},
     "output_type": "display_data"
    },
    {
     "data": {
      "text/html": [
       "Run data is saved locally in <code>/home/user/Gowthamaan/wandb/run-20240407_221605-ld5dea38</code>"
      ],
      "text/plain": [
       "<IPython.core.display.HTML object>"
      ]
     },
     "metadata": {},
     "output_type": "display_data"
    },
    {
     "data": {
      "text/html": [
       "Syncing run <strong><a href='https://wandb.ai/ed23s037/CS6910_AS2/runs/ld5dea38' target=\"_blank\">smart-sweep-13</a></strong> to <a href='https://wandb.ai/ed23s037/CS6910_AS2' target=\"_blank\">Weights & Biases</a> (<a href='https://wandb.me/run' target=\"_blank\">docs</a>)<br/>Sweep page: <a href='https://wandb.ai/ed23s037/CS6910_AS2/sweeps/c6nq6gy5' target=\"_blank\">https://wandb.ai/ed23s037/CS6910_AS2/sweeps/c6nq6gy5</a>"
      ],
      "text/plain": [
       "<IPython.core.display.HTML object>"
      ]
     },
     "metadata": {},
     "output_type": "display_data"
    },
    {
     "data": {
      "text/html": [
       " View project at <a href='https://wandb.ai/ed23s037/CS6910_AS2' target=\"_blank\">https://wandb.ai/ed23s037/CS6910_AS2</a>"
      ],
      "text/plain": [
       "<IPython.core.display.HTML object>"
      ]
     },
     "metadata": {},
     "output_type": "display_data"
    },
    {
     "data": {
      "text/html": [
       " View sweep at <a href='https://wandb.ai/ed23s037/CS6910_AS2/sweeps/c6nq6gy5' target=\"_blank\">https://wandb.ai/ed23s037/CS6910_AS2/sweeps/c6nq6gy5</a>"
      ],
      "text/plain": [
       "<IPython.core.display.HTML object>"
      ]
     },
     "metadata": {},
     "output_type": "display_data"
    },
    {
     "data": {
      "text/html": [
       " View run at <a href='https://wandb.ai/ed23s037/CS6910_AS2/runs/ld5dea38' target=\"_blank\">https://wandb.ai/ed23s037/CS6910_AS2/runs/ld5dea38</a>"
      ],
      "text/plain": [
       "<IPython.core.display.HTML object>"
      ]
     },
     "metadata": {},
     "output_type": "display_data"
    },
    {
     "name": "stdout",
     "output_type": "stream",
     "text": [
      "Epoch: 1/10\n",
      "Epoch: 2/10\n",
      "Epoch: 3/10\n",
      "Epoch: 4/10\n",
      "Epoch: 5/10\n",
      "Epoch: 6/10\n",
      "Epoch: 7/10\n",
      "Epoch: 8/10\n",
      "Epoch: 9/10\n",
      "Epoch: 10/10\n"
     ]
    },
    {
     "data": {
      "application/vnd.jupyter.widget-view+json": {
       "model_id": "",
       "version_major": 2,
       "version_minor": 0
      },
      "text/plain": [
       "VBox(children=(Label(value='0.005 MB of 0.005 MB uploaded\\r'), FloatProgress(value=1.0, max=1.0)))"
      ]
     },
     "metadata": {},
     "output_type": "display_data"
    },
    {
     "data": {
      "text/html": [
       "<style>\n",
       "    table.wandb td:nth-child(1) { padding: 0 10px; text-align: left ; width: auto;} td:nth-child(2) {text-align: left ; width: 100%}\n",
       "    .wandb-row { display: flex; flex-direction: row; flex-wrap: wrap; justify-content: flex-start; width: 100% }\n",
       "    .wandb-col { display: flex; flex-direction: column; flex-basis: 100%; flex: 1; padding: 10px; }\n",
       "    </style>\n",
       "<div class=\"wandb-row\"><div class=\"wandb-col\"><h3>Run history:</h3><br/><table class=\"wandb\"><tr><td>epochs</td><td>▁▂▃▃▄▅▆▆▇█</td></tr><tr><td>train_accuracy</td><td>▁▅▇▇▇▆▆▆▇█</td></tr><tr><td>train_loss</td><td>█▃▂▂▂▂▂▂▁▁</td></tr><tr><td>val_accuracy</td><td>▁▃▃▇▆█▆▆▆█</td></tr><tr><td>val_loss</td><td>▃▂▃▁▂▂█▁▁▁</td></tr></table><br/></div><div class=\"wandb-col\"><h3>Run summary:</h3><br/><table class=\"wandb\"><tr><td>epochs</td><td>10</td></tr><tr><td>train_accuracy</td><td>14.20178</td></tr><tr><td>train_loss</td><td>2.26992</td></tr><tr><td>val_accuracy</td><td>13.35</td></tr><tr><td>val_loss</td><td>2.26417</td></tr></table><br/></div></div>"
      ],
      "text/plain": [
       "<IPython.core.display.HTML object>"
      ]
     },
     "metadata": {},
     "output_type": "display_data"
    },
    {
     "data": {
      "text/html": [
       " View run <strong style=\"color:#cdcd00\">smart-sweep-13</strong> at: <a href='https://wandb.ai/ed23s037/CS6910_AS2/runs/ld5dea38' target=\"_blank\">https://wandb.ai/ed23s037/CS6910_AS2/runs/ld5dea38</a><br/> View project at: <a href='https://wandb.ai/ed23s037/CS6910_AS2' target=\"_blank\">https://wandb.ai/ed23s037/CS6910_AS2</a><br/>Synced 6 W&B file(s), 0 media file(s), 0 artifact file(s) and 0 other file(s)"
      ],
      "text/plain": [
       "<IPython.core.display.HTML object>"
      ]
     },
     "metadata": {},
     "output_type": "display_data"
    },
    {
     "data": {
      "text/html": [
       "Find logs at: <code>./wandb/run-20240407_221605-ld5dea38/logs</code>"
      ],
      "text/plain": [
       "<IPython.core.display.HTML object>"
      ]
     },
     "metadata": {},
     "output_type": "display_data"
    },
    {
     "name": "stderr",
     "output_type": "stream",
     "text": [
      "\u001b[34m\u001b[1mwandb\u001b[0m: Sweep Agent: Waiting for job.\n",
      "\u001b[34m\u001b[1mwandb\u001b[0m: Job received.\n",
      "\u001b[34m\u001b[1mwandb\u001b[0m: Agent Starting Run: gnhb3n2r with config:\n",
      "\u001b[34m\u001b[1mwandb\u001b[0m: \tbatch_size: 16\n",
      "\u001b[34m\u001b[1mwandb\u001b[0m: \tconv_activation: gelu\n",
      "\u001b[34m\u001b[1mwandb\u001b[0m: \tdense_activation: relu\n",
      "\u001b[34m\u001b[1mwandb\u001b[0m: \tdropout_organisation: 4\n",
      "\u001b[34m\u001b[1mwandb\u001b[0m: \tdropout_rate: 0.5\n",
      "\u001b[34m\u001b[1mwandb\u001b[0m: \tepochs: 5\n",
      "\u001b[34m\u001b[1mwandb\u001b[0m: \tfactor: 1\n",
      "\u001b[34m\u001b[1mwandb\u001b[0m: \tfilter_size: 3\n",
      "\u001b[34m\u001b[1mwandb\u001b[0m: \tlearning_rate: 0.01\n",
      "\u001b[34m\u001b[1mwandb\u001b[0m: \tmax_pooling_size: 2\n",
      "\u001b[34m\u001b[1mwandb\u001b[0m: \tn_classes: 10\n",
      "\u001b[34m\u001b[1mwandb\u001b[0m: \tn_neurons: 512\n",
      "\u001b[34m\u001b[1mwandb\u001b[0m: \tnumber_of_filters: 32\n",
      "\u001b[34m\u001b[1mwandb\u001b[0m: \tpadding: 1\n",
      "\u001b[34m\u001b[1mwandb\u001b[0m: \tstride: 1\n",
      "\u001b[34m\u001b[1mwandb\u001b[0m: \tuse_augmentation: True\n",
      "\u001b[34m\u001b[1mwandb\u001b[0m: \tuse_batchnorm: False\n"
     ]
    },
    {
     "data": {
      "text/html": [
       "Tracking run with wandb version 0.16.6"
      ],
      "text/plain": [
       "<IPython.core.display.HTML object>"
      ]
     },
     "metadata": {},
     "output_type": "display_data"
    },
    {
     "data": {
      "text/html": [
       "Run data is saved locally in <code>/home/user/Gowthamaan/wandb/run-20240408_030036-gnhb3n2r</code>"
      ],
      "text/plain": [
       "<IPython.core.display.HTML object>"
      ]
     },
     "metadata": {},
     "output_type": "display_data"
    },
    {
     "data": {
      "text/html": [
       "Syncing run <strong><a href='https://wandb.ai/ed23s037/CS6910_AS2/runs/gnhb3n2r' target=\"_blank\">flowing-sweep-14</a></strong> to <a href='https://wandb.ai/ed23s037/CS6910_AS2' target=\"_blank\">Weights & Biases</a> (<a href='https://wandb.me/run' target=\"_blank\">docs</a>)<br/>Sweep page: <a href='https://wandb.ai/ed23s037/CS6910_AS2/sweeps/c6nq6gy5' target=\"_blank\">https://wandb.ai/ed23s037/CS6910_AS2/sweeps/c6nq6gy5</a>"
      ],
      "text/plain": [
       "<IPython.core.display.HTML object>"
      ]
     },
     "metadata": {},
     "output_type": "display_data"
    },
    {
     "data": {
      "text/html": [
       " View project at <a href='https://wandb.ai/ed23s037/CS6910_AS2' target=\"_blank\">https://wandb.ai/ed23s037/CS6910_AS2</a>"
      ],
      "text/plain": [
       "<IPython.core.display.HTML object>"
      ]
     },
     "metadata": {},
     "output_type": "display_data"
    },
    {
     "data": {
      "text/html": [
       " View sweep at <a href='https://wandb.ai/ed23s037/CS6910_AS2/sweeps/c6nq6gy5' target=\"_blank\">https://wandb.ai/ed23s037/CS6910_AS2/sweeps/c6nq6gy5</a>"
      ],
      "text/plain": [
       "<IPython.core.display.HTML object>"
      ]
     },
     "metadata": {},
     "output_type": "display_data"
    },
    {
     "data": {
      "text/html": [
       " View run at <a href='https://wandb.ai/ed23s037/CS6910_AS2/runs/gnhb3n2r' target=\"_blank\">https://wandb.ai/ed23s037/CS6910_AS2/runs/gnhb3n2r</a>"
      ],
      "text/plain": [
       "<IPython.core.display.HTML object>"
      ]
     },
     "metadata": {},
     "output_type": "display_data"
    },
    {
     "name": "stdout",
     "output_type": "stream",
     "text": [
      "Epoch: 1/5\n",
      "Epoch: 2/5\n",
      "Epoch: 3/5\n",
      "Epoch: 4/5\n",
      "Epoch: 5/5\n"
     ]
    },
    {
     "data": {
      "application/vnd.jupyter.widget-view+json": {
       "model_id": "",
       "version_major": 2,
       "version_minor": 0
      },
      "text/plain": [
       "VBox(children=(Label(value='0.005 MB of 0.012 MB uploaded\\r'), FloatProgress(value=0.3981572885817703, max=1.0…"
      ]
     },
     "metadata": {},
     "output_type": "display_data"
    },
    {
     "data": {
      "text/html": [
       "<style>\n",
       "    table.wandb td:nth-child(1) { padding: 0 10px; text-align: left ; width: auto;} td:nth-child(2) {text-align: left ; width: 100%}\n",
       "    .wandb-row { display: flex; flex-direction: row; flex-wrap: wrap; justify-content: flex-start; width: 100% }\n",
       "    .wandb-col { display: flex; flex-direction: column; flex-basis: 100%; flex: 1; padding: 10px; }\n",
       "    </style>\n",
       "<div class=\"wandb-row\"><div class=\"wandb-col\"><h3>Run history:</h3><br/><table class=\"wandb\"><tr><td>epochs</td><td>▁▃▅▆█</td></tr><tr><td>train_accuracy</td><td>▁▁█▆▄</td></tr><tr><td>train_loss</td><td>█▁▁▁▁</td></tr><tr><td>val_accuracy</td><td>██▃▁▇</td></tr><tr><td>val_loss</td><td>▁█▃▅▃</td></tr></table><br/></div><div class=\"wandb-col\"><h3>Run summary:</h3><br/><table class=\"wandb\"><tr><td>epochs</td><td>5</td></tr><tr><td>train_accuracy</td><td>9.71371</td></tr><tr><td>train_loss</td><td>2.30565</td></tr><tr><td>val_accuracy</td><td>10.3</td></tr><tr><td>val_loss</td><td>2.30421</td></tr></table><br/></div></div>"
      ],
      "text/plain": [
       "<IPython.core.display.HTML object>"
      ]
     },
     "metadata": {},
     "output_type": "display_data"
    },
    {
     "data": {
      "text/html": [
       " View run <strong style=\"color:#cdcd00\">flowing-sweep-14</strong> at: <a href='https://wandb.ai/ed23s037/CS6910_AS2/runs/gnhb3n2r' target=\"_blank\">https://wandb.ai/ed23s037/CS6910_AS2/runs/gnhb3n2r</a><br/> View project at: <a href='https://wandb.ai/ed23s037/CS6910_AS2' target=\"_blank\">https://wandb.ai/ed23s037/CS6910_AS2</a><br/>Synced 6 W&B file(s), 0 media file(s), 0 artifact file(s) and 0 other file(s)"
      ],
      "text/plain": [
       "<IPython.core.display.HTML object>"
      ]
     },
     "metadata": {},
     "output_type": "display_data"
    },
    {
     "data": {
      "text/html": [
       "Find logs at: <code>./wandb/run-20240408_030036-gnhb3n2r/logs</code>"
      ],
      "text/plain": [
       "<IPython.core.display.HTML object>"
      ]
     },
     "metadata": {},
     "output_type": "display_data"
    },
    {
     "name": "stderr",
     "output_type": "stream",
     "text": [
      "\u001b[34m\u001b[1mwandb\u001b[0m: Agent Starting Run: 8zmeffrk with config:\n",
      "\u001b[34m\u001b[1mwandb\u001b[0m: \tbatch_size: 16\n",
      "\u001b[34m\u001b[1mwandb\u001b[0m: \tconv_activation: relu\n",
      "\u001b[34m\u001b[1mwandb\u001b[0m: \tdense_activation: relu6\n",
      "\u001b[34m\u001b[1mwandb\u001b[0m: \tdropout_organisation: 4\n",
      "\u001b[34m\u001b[1mwandb\u001b[0m: \tdropout_rate: 0.4\n",
      "\u001b[34m\u001b[1mwandb\u001b[0m: \tepochs: 5\n",
      "\u001b[34m\u001b[1mwandb\u001b[0m: \tfactor: 0.5\n",
      "\u001b[34m\u001b[1mwandb\u001b[0m: \tfilter_size: 3\n",
      "\u001b[34m\u001b[1mwandb\u001b[0m: \tlearning_rate: 1e-05\n",
      "\u001b[34m\u001b[1mwandb\u001b[0m: \tmax_pooling_size: 2\n",
      "\u001b[34m\u001b[1mwandb\u001b[0m: \tn_classes: 10\n",
      "\u001b[34m\u001b[1mwandb\u001b[0m: \tn_neurons: 1024\n",
      "\u001b[34m\u001b[1mwandb\u001b[0m: \tnumber_of_filters: 256\n",
      "\u001b[34m\u001b[1mwandb\u001b[0m: \tpadding: 1\n",
      "\u001b[34m\u001b[1mwandb\u001b[0m: \tstride: 1\n",
      "\u001b[34m\u001b[1mwandb\u001b[0m: \tuse_augmentation: False\n",
      "\u001b[34m\u001b[1mwandb\u001b[0m: \tuse_batchnorm: False\n"
     ]
    },
    {
     "data": {
      "text/html": [
       "Tracking run with wandb version 0.16.6"
      ],
      "text/plain": [
       "<IPython.core.display.HTML object>"
      ]
     },
     "metadata": {},
     "output_type": "display_data"
    },
    {
     "data": {
      "text/html": [
       "Run data is saved locally in <code>/home/user/Gowthamaan/wandb/run-20240408_031609-8zmeffrk</code>"
      ],
      "text/plain": [
       "<IPython.core.display.HTML object>"
      ]
     },
     "metadata": {},
     "output_type": "display_data"
    },
    {
     "data": {
      "text/html": [
       "Syncing run <strong><a href='https://wandb.ai/ed23s037/CS6910_AS2/runs/8zmeffrk' target=\"_blank\">ethereal-sweep-15</a></strong> to <a href='https://wandb.ai/ed23s037/CS6910_AS2' target=\"_blank\">Weights & Biases</a> (<a href='https://wandb.me/run' target=\"_blank\">docs</a>)<br/>Sweep page: <a href='https://wandb.ai/ed23s037/CS6910_AS2/sweeps/c6nq6gy5' target=\"_blank\">https://wandb.ai/ed23s037/CS6910_AS2/sweeps/c6nq6gy5</a>"
      ],
      "text/plain": [
       "<IPython.core.display.HTML object>"
      ]
     },
     "metadata": {},
     "output_type": "display_data"
    },
    {
     "data": {
      "text/html": [
       " View project at <a href='https://wandb.ai/ed23s037/CS6910_AS2' target=\"_blank\">https://wandb.ai/ed23s037/CS6910_AS2</a>"
      ],
      "text/plain": [
       "<IPython.core.display.HTML object>"
      ]
     },
     "metadata": {},
     "output_type": "display_data"
    },
    {
     "data": {
      "text/html": [
       " View sweep at <a href='https://wandb.ai/ed23s037/CS6910_AS2/sweeps/c6nq6gy5' target=\"_blank\">https://wandb.ai/ed23s037/CS6910_AS2/sweeps/c6nq6gy5</a>"
      ],
      "text/plain": [
       "<IPython.core.display.HTML object>"
      ]
     },
     "metadata": {},
     "output_type": "display_data"
    },
    {
     "data": {
      "text/html": [
       " View run at <a href='https://wandb.ai/ed23s037/CS6910_AS2/runs/8zmeffrk' target=\"_blank\">https://wandb.ai/ed23s037/CS6910_AS2/runs/8zmeffrk</a>"
      ],
      "text/plain": [
       "<IPython.core.display.HTML object>"
      ]
     },
     "metadata": {},
     "output_type": "display_data"
    },
    {
     "name": "stdout",
     "output_type": "stream",
     "text": [
      "Epoch: 1/5\n",
      "Epoch: 2/5\n",
      "Epoch: 3/5\n",
      "Epoch: 4/5\n",
      "Epoch: 5/5\n"
     ]
    },
    {
     "data": {
      "application/vnd.jupyter.widget-view+json": {
       "model_id": "",
       "version_major": 2,
       "version_minor": 0
      },
      "text/plain": [
       "VBox(children=(Label(value='0.005 MB of 0.005 MB uploaded\\r'), FloatProgress(value=1.0, max=1.0)))"
      ]
     },
     "metadata": {},
     "output_type": "display_data"
    },
    {
     "data": {
      "text/html": [
       "<style>\n",
       "    table.wandb td:nth-child(1) { padding: 0 10px; text-align: left ; width: auto;} td:nth-child(2) {text-align: left ; width: 100%}\n",
       "    .wandb-row { display: flex; flex-direction: row; flex-wrap: wrap; justify-content: flex-start; width: 100% }\n",
       "    .wandb-col { display: flex; flex-direction: column; flex-basis: 100%; flex: 1; padding: 10px; }\n",
       "    </style>\n",
       "<div class=\"wandb-row\"><div class=\"wandb-col\"><h3>Run history:</h3><br/><table class=\"wandb\"><tr><td>epochs</td><td>▁▃▅▆█</td></tr><tr><td>train_accuracy</td><td>▁▃▆▇█</td></tr><tr><td>train_loss</td><td>█▇▄▂▁</td></tr><tr><td>val_accuracy</td><td>▁▅▆▇█</td></tr><tr><td>val_loss</td><td>█▆▃▂▁</td></tr></table><br/></div><div class=\"wandb-col\"><h3>Run summary:</h3><br/><table class=\"wandb\"><tr><td>epochs</td><td>5</td></tr><tr><td>train_accuracy</td><td>18.96487</td></tr><tr><td>train_loss</td><td>2.20695</td></tr><tr><td>val_accuracy</td><td>17.85</td></tr><tr><td>val_loss</td><td>2.23147</td></tr></table><br/></div></div>"
      ],
      "text/plain": [
       "<IPython.core.display.HTML object>"
      ]
     },
     "metadata": {},
     "output_type": "display_data"
    },
    {
     "data": {
      "text/html": [
       " View run <strong style=\"color:#cdcd00\">ethereal-sweep-15</strong> at: <a href='https://wandb.ai/ed23s037/CS6910_AS2/runs/8zmeffrk' target=\"_blank\">https://wandb.ai/ed23s037/CS6910_AS2/runs/8zmeffrk</a><br/> View project at: <a href='https://wandb.ai/ed23s037/CS6910_AS2' target=\"_blank\">https://wandb.ai/ed23s037/CS6910_AS2</a><br/>Synced 6 W&B file(s), 0 media file(s), 0 artifact file(s) and 0 other file(s)"
      ],
      "text/plain": [
       "<IPython.core.display.HTML object>"
      ]
     },
     "metadata": {},
     "output_type": "display_data"
    },
    {
     "data": {
      "text/html": [
       "Find logs at: <code>./wandb/run-20240408_031609-8zmeffrk/logs</code>"
      ],
      "text/plain": [
       "<IPython.core.display.HTML object>"
      ]
     },
     "metadata": {},
     "output_type": "display_data"
    },
    {
     "name": "stderr",
     "output_type": "stream",
     "text": [
      "\u001b[34m\u001b[1mwandb\u001b[0m: Sweep Agent: Waiting for job.\n",
      "\u001b[34m\u001b[1mwandb\u001b[0m: Job received.\n",
      "\u001b[34m\u001b[1mwandb\u001b[0m: Agent Starting Run: gwze47ck with config:\n",
      "\u001b[34m\u001b[1mwandb\u001b[0m: \tbatch_size: 16\n",
      "\u001b[34m\u001b[1mwandb\u001b[0m: \tconv_activation: sigmoid\n",
      "\u001b[34m\u001b[1mwandb\u001b[0m: \tdense_activation: tanh\n",
      "\u001b[34m\u001b[1mwandb\u001b[0m: \tdropout_organisation: 3\n",
      "\u001b[34m\u001b[1mwandb\u001b[0m: \tdropout_rate: 0.3\n",
      "\u001b[34m\u001b[1mwandb\u001b[0m: \tepochs: 15\n",
      "\u001b[34m\u001b[1mwandb\u001b[0m: \tfactor: 1\n",
      "\u001b[34m\u001b[1mwandb\u001b[0m: \tfilter_size: 3\n",
      "\u001b[34m\u001b[1mwandb\u001b[0m: \tlearning_rate: 1e-05\n",
      "\u001b[34m\u001b[1mwandb\u001b[0m: \tmax_pooling_size: 2\n",
      "\u001b[34m\u001b[1mwandb\u001b[0m: \tn_classes: 10\n",
      "\u001b[34m\u001b[1mwandb\u001b[0m: \tn_neurons: 128\n",
      "\u001b[34m\u001b[1mwandb\u001b[0m: \tnumber_of_filters: 256\n",
      "\u001b[34m\u001b[1mwandb\u001b[0m: \tpadding: 1\n",
      "\u001b[34m\u001b[1mwandb\u001b[0m: \tstride: 1\n",
      "\u001b[34m\u001b[1mwandb\u001b[0m: \tuse_augmentation: True\n",
      "\u001b[34m\u001b[1mwandb\u001b[0m: \tuse_batchnorm: False\n"
     ]
    },
    {
     "data": {
      "text/html": [
       "Tracking run with wandb version 0.16.6"
      ],
      "text/plain": [
       "<IPython.core.display.HTML object>"
      ]
     },
     "metadata": {},
     "output_type": "display_data"
    },
    {
     "data": {
      "text/html": [
       "Run data is saved locally in <code>/home/user/Gowthamaan/wandb/run-20240408_041139-gwze47ck</code>"
      ],
      "text/plain": [
       "<IPython.core.display.HTML object>"
      ]
     },
     "metadata": {},
     "output_type": "display_data"
    },
    {
     "data": {
      "text/html": [
       "Syncing run <strong><a href='https://wandb.ai/ed23s037/CS6910_AS2/runs/gwze47ck' target=\"_blank\">effortless-sweep-16</a></strong> to <a href='https://wandb.ai/ed23s037/CS6910_AS2' target=\"_blank\">Weights & Biases</a> (<a href='https://wandb.me/run' target=\"_blank\">docs</a>)<br/>Sweep page: <a href='https://wandb.ai/ed23s037/CS6910_AS2/sweeps/c6nq6gy5' target=\"_blank\">https://wandb.ai/ed23s037/CS6910_AS2/sweeps/c6nq6gy5</a>"
      ],
      "text/plain": [
       "<IPython.core.display.HTML object>"
      ]
     },
     "metadata": {},
     "output_type": "display_data"
    },
    {
     "data": {
      "text/html": [
       " View project at <a href='https://wandb.ai/ed23s037/CS6910_AS2' target=\"_blank\">https://wandb.ai/ed23s037/CS6910_AS2</a>"
      ],
      "text/plain": [
       "<IPython.core.display.HTML object>"
      ]
     },
     "metadata": {},
     "output_type": "display_data"
    },
    {
     "data": {
      "text/html": [
       " View sweep at <a href='https://wandb.ai/ed23s037/CS6910_AS2/sweeps/c6nq6gy5' target=\"_blank\">https://wandb.ai/ed23s037/CS6910_AS2/sweeps/c6nq6gy5</a>"
      ],
      "text/plain": [
       "<IPython.core.display.HTML object>"
      ]
     },
     "metadata": {},
     "output_type": "display_data"
    },
    {
     "data": {
      "text/html": [
       " View run at <a href='https://wandb.ai/ed23s037/CS6910_AS2/runs/gwze47ck' target=\"_blank\">https://wandb.ai/ed23s037/CS6910_AS2/runs/gwze47ck</a>"
      ],
      "text/plain": [
       "<IPython.core.display.HTML object>"
      ]
     },
     "metadata": {},
     "output_type": "display_data"
    },
    {
     "name": "stdout",
     "output_type": "stream",
     "text": [
      "Epoch: 1/15\n",
      "Epoch: 2/15\n",
      "Epoch: 3/15\n",
      "Epoch: 4/15\n",
      "Epoch: 5/15\n",
      "Epoch: 6/15\n",
      "Epoch: 7/15\n",
      "Epoch: 8/15\n",
      "Epoch: 9/15\n",
      "Epoch: 10/15\n",
      "Epoch: 11/15\n",
      "Epoch: 12/15\n",
      "Epoch: 13/15\n",
      "Epoch: 14/15\n",
      "Epoch: 15/15\n"
     ]
    },
    {
     "data": {
      "application/vnd.jupyter.widget-view+json": {
       "model_id": "",
       "version_major": 2,
       "version_minor": 0
      },
      "text/plain": [
       "VBox(children=(Label(value='0.005 MB of 0.005 MB uploaded\\r'), FloatProgress(value=1.0, max=1.0)))"
      ]
     },
     "metadata": {},
     "output_type": "display_data"
    },
    {
     "data": {
      "text/html": [
       "<style>\n",
       "    table.wandb td:nth-child(1) { padding: 0 10px; text-align: left ; width: auto;} td:nth-child(2) {text-align: left ; width: 100%}\n",
       "    .wandb-row { display: flex; flex-direction: row; flex-wrap: wrap; justify-content: flex-start; width: 100% }\n",
       "    .wandb-col { display: flex; flex-direction: column; flex-basis: 100%; flex: 1; padding: 10px; }\n",
       "    </style>\n",
       "<div class=\"wandb-row\"><div class=\"wandb-col\"><h3>Run history:</h3><br/><table class=\"wandb\"><tr><td>epochs</td><td>▁▁▂▃▃▃▄▅▅▅▆▇▇▇█</td></tr><tr><td>train_accuracy</td><td>▆▇▇▁▄▁▅▃▆▇▇▆▇█▇</td></tr><tr><td>train_loss</td><td>█▅▃▃▂▂▂▁▁▁▁▁▁▁▁</td></tr><tr><td>val_accuracy</td><td>▃▆▃▇▇▁█▁▁▁▁▁▁▁▁</td></tr><tr><td>val_loss</td><td>█▂▄▁▂▄▁▃▁▂▂▂▂▂▂</td></tr></table><br/></div><div class=\"wandb-col\"><h3>Run summary:</h3><br/><table class=\"wandb\"><tr><td>epochs</td><td>15</td></tr><tr><td>train_accuracy</td><td>10.13877</td></tr><tr><td>train_loss</td><td>2.30296</td></tr><tr><td>val_accuracy</td><td>8.4</td></tr><tr><td>val_loss</td><td>2.30445</td></tr></table><br/></div></div>"
      ],
      "text/plain": [
       "<IPython.core.display.HTML object>"
      ]
     },
     "metadata": {},
     "output_type": "display_data"
    },
    {
     "data": {
      "text/html": [
       " View run <strong style=\"color:#cdcd00\">effortless-sweep-16</strong> at: <a href='https://wandb.ai/ed23s037/CS6910_AS2/runs/gwze47ck' target=\"_blank\">https://wandb.ai/ed23s037/CS6910_AS2/runs/gwze47ck</a><br/> View project at: <a href='https://wandb.ai/ed23s037/CS6910_AS2' target=\"_blank\">https://wandb.ai/ed23s037/CS6910_AS2</a><br/>Synced 6 W&B file(s), 0 media file(s), 0 artifact file(s) and 0 other file(s)"
      ],
      "text/plain": [
       "<IPython.core.display.HTML object>"
      ]
     },
     "metadata": {},
     "output_type": "display_data"
    },
    {
     "data": {
      "text/html": [
       "Find logs at: <code>./wandb/run-20240408_041139-gwze47ck/logs</code>"
      ],
      "text/plain": [
       "<IPython.core.display.HTML object>"
      ]
     },
     "metadata": {},
     "output_type": "display_data"
    },
    {
     "name": "stderr",
     "output_type": "stream",
     "text": [
      "\u001b[34m\u001b[1mwandb\u001b[0m: Sweep Agent: Waiting for job.\n",
      "\u001b[34m\u001b[1mwandb\u001b[0m: Job received.\n",
      "\u001b[34m\u001b[1mwandb\u001b[0m: Agent Starting Run: vzsa13ms with config:\n",
      "\u001b[34m\u001b[1mwandb\u001b[0m: \tbatch_size: 16\n",
      "\u001b[34m\u001b[1mwandb\u001b[0m: \tconv_activation: sigmoid\n",
      "\u001b[34m\u001b[1mwandb\u001b[0m: \tdense_activation: relu6\n",
      "\u001b[34m\u001b[1mwandb\u001b[0m: \tdropout_organisation: 2\n",
      "\u001b[34m\u001b[1mwandb\u001b[0m: \tdropout_rate: 0.2\n",
      "\u001b[34m\u001b[1mwandb\u001b[0m: \tepochs: 15\n",
      "\u001b[34m\u001b[1mwandb\u001b[0m: \tfactor: 2\n",
      "\u001b[34m\u001b[1mwandb\u001b[0m: \tfilter_size: 3\n",
      "\u001b[34m\u001b[1mwandb\u001b[0m: \tlearning_rate: 0.0001\n",
      "\u001b[34m\u001b[1mwandb\u001b[0m: \tmax_pooling_size: 2\n",
      "\u001b[34m\u001b[1mwandb\u001b[0m: \tn_classes: 10\n",
      "\u001b[34m\u001b[1mwandb\u001b[0m: \tn_neurons: 128\n",
      "\u001b[34m\u001b[1mwandb\u001b[0m: \tnumber_of_filters: 256\n",
      "\u001b[34m\u001b[1mwandb\u001b[0m: \tpadding: 1\n",
      "\u001b[34m\u001b[1mwandb\u001b[0m: \tstride: 1\n",
      "\u001b[34m\u001b[1mwandb\u001b[0m: \tuse_augmentation: False\n",
      "\u001b[34m\u001b[1mwandb\u001b[0m: \tuse_batchnorm: False\n"
     ]
    },
    {
     "data": {
      "text/html": [
       "Tracking run with wandb version 0.16.6"
      ],
      "text/plain": [
       "<IPython.core.display.HTML object>"
      ]
     },
     "metadata": {},
     "output_type": "display_data"
    },
    {
     "data": {
      "text/html": [
       "Run data is saved locally in <code>/home/user/Gowthamaan/wandb/run-20240408_075047-vzsa13ms</code>"
      ],
      "text/plain": [
       "<IPython.core.display.HTML object>"
      ]
     },
     "metadata": {},
     "output_type": "display_data"
    },
    {
     "data": {
      "text/html": [
       "Syncing run <strong><a href='https://wandb.ai/ed23s037/CS6910_AS2/runs/vzsa13ms' target=\"_blank\">prime-sweep-17</a></strong> to <a href='https://wandb.ai/ed23s037/CS6910_AS2' target=\"_blank\">Weights & Biases</a> (<a href='https://wandb.me/run' target=\"_blank\">docs</a>)<br/>Sweep page: <a href='https://wandb.ai/ed23s037/CS6910_AS2/sweeps/c6nq6gy5' target=\"_blank\">https://wandb.ai/ed23s037/CS6910_AS2/sweeps/c6nq6gy5</a>"
      ],
      "text/plain": [
       "<IPython.core.display.HTML object>"
      ]
     },
     "metadata": {},
     "output_type": "display_data"
    },
    {
     "data": {
      "text/html": [
       " View project at <a href='https://wandb.ai/ed23s037/CS6910_AS2' target=\"_blank\">https://wandb.ai/ed23s037/CS6910_AS2</a>"
      ],
      "text/plain": [
       "<IPython.core.display.HTML object>"
      ]
     },
     "metadata": {},
     "output_type": "display_data"
    },
    {
     "data": {
      "text/html": [
       " View sweep at <a href='https://wandb.ai/ed23s037/CS6910_AS2/sweeps/c6nq6gy5' target=\"_blank\">https://wandb.ai/ed23s037/CS6910_AS2/sweeps/c6nq6gy5</a>"
      ],
      "text/plain": [
       "<IPython.core.display.HTML object>"
      ]
     },
     "metadata": {},
     "output_type": "display_data"
    },
    {
     "data": {
      "text/html": [
       " View run at <a href='https://wandb.ai/ed23s037/CS6910_AS2/runs/vzsa13ms' target=\"_blank\">https://wandb.ai/ed23s037/CS6910_AS2/runs/vzsa13ms</a>"
      ],
      "text/plain": [
       "<IPython.core.display.HTML object>"
      ]
     },
     "metadata": {},
     "output_type": "display_data"
    },
    {
     "name": "stdout",
     "output_type": "stream",
     "text": [
      "Epoch: 1/15\n",
      "Epoch: 2/15\n",
      "Epoch: 3/15\n",
      "Epoch: 4/15\n",
      "Epoch: 5/15\n",
      "Epoch: 6/15\n",
      "Epoch: 7/15\n",
      "Epoch: 8/15\n",
      "Epoch: 9/15\n",
      "Epoch: 10/15\n",
      "Epoch: 11/15\n",
      "Epoch: 12/15\n",
      "Epoch: 13/15\n",
      "Epoch: 14/15\n",
      "Epoch: 15/15\n"
     ]
    },
    {
     "data": {
      "application/vnd.jupyter.widget-view+json": {
       "model_id": "",
       "version_major": 2,
       "version_minor": 0
      },
      "text/plain": [
       "VBox(children=(Label(value='0.005 MB of 0.005 MB uploaded\\r'), FloatProgress(value=1.0, max=1.0)))"
      ]
     },
     "metadata": {},
     "output_type": "display_data"
    },
    {
     "data": {
      "text/html": [
       "<style>\n",
       "    table.wandb td:nth-child(1) { padding: 0 10px; text-align: left ; width: auto;} td:nth-child(2) {text-align: left ; width: 100%}\n",
       "    .wandb-row { display: flex; flex-direction: row; flex-wrap: wrap; justify-content: flex-start; width: 100% }\n",
       "    .wandb-col { display: flex; flex-direction: column; flex-basis: 100%; flex: 1; padding: 10px; }\n",
       "    </style>\n",
       "<div class=\"wandb-row\"><div class=\"wandb-col\"><h3>Run history:</h3><br/><table class=\"wandb\"><tr><td>epochs</td><td>▁▁▂▃▃▃▄▅▅▅▆▇▇▇█</td></tr><tr><td>train_accuracy</td><td>▄▂▃█▇▇▄▁▄▃▇█▅▃▅</td></tr><tr><td>train_loss</td><td>█▁▁▁▁▁▁▁▁▁▁▁▁▁▁</td></tr><tr><td>val_accuracy</td><td>▆▂██▁█▆▃▃▃▁▆▄▇▆</td></tr><tr><td>val_loss</td><td>▃▂▁▂▄▂▂▄▃▃▄▂█▁▄</td></tr></table><br/></div><div class=\"wandb-col\"><h3>Run summary:</h3><br/><table class=\"wandb\"><tr><td>epochs</td><td>15</td></tr><tr><td>train_accuracy</td><td>10.01375</td></tr><tr><td>train_loss</td><td>2.30771</td></tr><tr><td>val_accuracy</td><td>10.3</td></tr><tr><td>val_loss</td><td>2.30897</td></tr></table><br/></div></div>"
      ],
      "text/plain": [
       "<IPython.core.display.HTML object>"
      ]
     },
     "metadata": {},
     "output_type": "display_data"
    },
    {
     "data": {
      "text/html": [
       " View run <strong style=\"color:#cdcd00\">prime-sweep-17</strong> at: <a href='https://wandb.ai/ed23s037/CS6910_AS2/runs/vzsa13ms' target=\"_blank\">https://wandb.ai/ed23s037/CS6910_AS2/runs/vzsa13ms</a><br/> View project at: <a href='https://wandb.ai/ed23s037/CS6910_AS2' target=\"_blank\">https://wandb.ai/ed23s037/CS6910_AS2</a><br/>Synced 6 W&B file(s), 0 media file(s), 0 artifact file(s) and 0 other file(s)"
      ],
      "text/plain": [
       "<IPython.core.display.HTML object>"
      ]
     },
     "metadata": {},
     "output_type": "display_data"
    },
    {
     "data": {
      "text/html": [
       "Find logs at: <code>./wandb/run-20240408_075047-vzsa13ms/logs</code>"
      ],
      "text/plain": [
       "<IPython.core.display.HTML object>"
      ]
     },
     "metadata": {},
     "output_type": "display_data"
    },
    {
     "name": "stderr",
     "output_type": "stream",
     "text": [
      "\u001b[34m\u001b[1mwandb\u001b[0m: Sweep Agent: Waiting for job.\n",
      "\u001b[34m\u001b[1mwandb\u001b[0m: Job received.\n",
      "\u001b[34m\u001b[1mwandb\u001b[0m: Agent Starting Run: 13byw9pf with config:\n",
      "\u001b[34m\u001b[1mwandb\u001b[0m: \tbatch_size: 16\n",
      "\u001b[34m\u001b[1mwandb\u001b[0m: \tconv_activation: silu\n",
      "\u001b[34m\u001b[1mwandb\u001b[0m: \tdense_activation: silu\n",
      "\u001b[34m\u001b[1mwandb\u001b[0m: \tdropout_organisation: 3\n",
      "\u001b[34m\u001b[1mwandb\u001b[0m: \tdropout_rate: 0.2\n",
      "\u001b[34m\u001b[1mwandb\u001b[0m: \tepochs: 20\n",
      "\u001b[34m\u001b[1mwandb\u001b[0m: \tfactor: 1\n",
      "\u001b[34m\u001b[1mwandb\u001b[0m: \tfilter_size: 3\n",
      "\u001b[34m\u001b[1mwandb\u001b[0m: \tlearning_rate: 0.01\n",
      "\u001b[34m\u001b[1mwandb\u001b[0m: \tmax_pooling_size: 2\n",
      "\u001b[34m\u001b[1mwandb\u001b[0m: \tn_classes: 10\n",
      "\u001b[34m\u001b[1mwandb\u001b[0m: \tn_neurons: 256\n",
      "\u001b[34m\u001b[1mwandb\u001b[0m: \tnumber_of_filters: 16\n",
      "\u001b[34m\u001b[1mwandb\u001b[0m: \tpadding: 1\n",
      "\u001b[34m\u001b[1mwandb\u001b[0m: \tstride: 1\n",
      "\u001b[34m\u001b[1mwandb\u001b[0m: \tuse_augmentation: True\n",
      "\u001b[34m\u001b[1mwandb\u001b[0m: \tuse_batchnorm: True\n"
     ]
    },
    {
     "data": {
      "text/html": [
       "Tracking run with wandb version 0.16.6"
      ],
      "text/plain": [
       "<IPython.core.display.HTML object>"
      ]
     },
     "metadata": {},
     "output_type": "display_data"
    },
    {
     "data": {
      "text/html": [
       "Run data is saved locally in <code>/home/user/Gowthamaan/wandb/run-20240408_174924-13byw9pf</code>"
      ],
      "text/plain": [
       "<IPython.core.display.HTML object>"
      ]
     },
     "metadata": {},
     "output_type": "display_data"
    },
    {
     "data": {
      "text/html": [
       "Syncing run <strong><a href='https://wandb.ai/ed23s037/CS6910_AS2/runs/13byw9pf' target=\"_blank\">splendid-sweep-18</a></strong> to <a href='https://wandb.ai/ed23s037/CS6910_AS2' target=\"_blank\">Weights & Biases</a> (<a href='https://wandb.me/run' target=\"_blank\">docs</a>)<br/>Sweep page: <a href='https://wandb.ai/ed23s037/CS6910_AS2/sweeps/c6nq6gy5' target=\"_blank\">https://wandb.ai/ed23s037/CS6910_AS2/sweeps/c6nq6gy5</a>"
      ],
      "text/plain": [
       "<IPython.core.display.HTML object>"
      ]
     },
     "metadata": {},
     "output_type": "display_data"
    },
    {
     "data": {
      "text/html": [
       " View project at <a href='https://wandb.ai/ed23s037/CS6910_AS2' target=\"_blank\">https://wandb.ai/ed23s037/CS6910_AS2</a>"
      ],
      "text/plain": [
       "<IPython.core.display.HTML object>"
      ]
     },
     "metadata": {},
     "output_type": "display_data"
    },
    {
     "data": {
      "text/html": [
       " View sweep at <a href='https://wandb.ai/ed23s037/CS6910_AS2/sweeps/c6nq6gy5' target=\"_blank\">https://wandb.ai/ed23s037/CS6910_AS2/sweeps/c6nq6gy5</a>"
      ],
      "text/plain": [
       "<IPython.core.display.HTML object>"
      ]
     },
     "metadata": {},
     "output_type": "display_data"
    },
    {
     "data": {
      "text/html": [
       " View run at <a href='https://wandb.ai/ed23s037/CS6910_AS2/runs/13byw9pf' target=\"_blank\">https://wandb.ai/ed23s037/CS6910_AS2/runs/13byw9pf</a>"
      ],
      "text/plain": [
       "<IPython.core.display.HTML object>"
      ]
     },
     "metadata": {},
     "output_type": "display_data"
    },
    {
     "name": "stdout",
     "output_type": "stream",
     "text": [
      "Epoch: 1/20\n",
      "Epoch: 2/20\n",
      "Epoch: 3/20\n",
      "Epoch: 4/20\n",
      "Epoch: 5/20\n",
      "Epoch: 6/20\n",
      "Epoch: 7/20\n",
      "Epoch: 8/20\n",
      "Epoch: 9/20\n",
      "Epoch: 10/20\n",
      "Epoch: 11/20\n",
      "Epoch: 12/20\n",
      "Epoch: 13/20\n",
      "Epoch: 14/20\n",
      "Epoch: 15/20\n",
      "Epoch: 16/20\n",
      "Epoch: 17/20\n",
      "Epoch: 18/20\n",
      "Epoch: 19/20\n",
      "Epoch: 20/20\n"
     ]
    },
    {
     "data": {
      "application/vnd.jupyter.widget-view+json": {
       "model_id": "",
       "version_major": 2,
       "version_minor": 0
      },
      "text/plain": [
       "VBox(children=(Label(value='0.005 MB of 0.005 MB uploaded\\r'), FloatProgress(value=1.0, max=1.0)))"
      ]
     },
     "metadata": {},
     "output_type": "display_data"
    },
    {
     "data": {
      "text/html": [
       "<style>\n",
       "    table.wandb td:nth-child(1) { padding: 0 10px; text-align: left ; width: auto;} td:nth-child(2) {text-align: left ; width: 100%}\n",
       "    .wandb-row { display: flex; flex-direction: row; flex-wrap: wrap; justify-content: flex-start; width: 100% }\n",
       "    .wandb-col { display: flex; flex-direction: column; flex-basis: 100%; flex: 1; padding: 10px; }\n",
       "    </style>\n",
       "<div class=\"wandb-row\"><div class=\"wandb-col\"><h3>Run history:</h3><br/><table class=\"wandb\"><tr><td>epochs</td><td>▁▁▂▂▂▃▃▄▄▄▅▅▅▆▆▇▇▇██</td></tr><tr><td>train_accuracy</td><td>▂▅█▅▇▄▆▂▅▇▆▇▂▅▃▂▂▁▁▁</td></tr><tr><td>train_loss</td><td>█▂▁▁▁▂▁▂▁▁▁▁▂▂▂▂▂▂▂▂</td></tr><tr><td>val_accuracy</td><td>▃▄▇▁▄▄█▅▂▄▇▃▂▆▃▂▂▁▃▁</td></tr><tr><td>val_loss</td><td>▁▁▁▁▁▁▁▁▁▁▁▁▁▁█▁▁▁▁▁</td></tr></table><br/></div><div class=\"wandb-col\"><h3>Run summary:</h3><br/><table class=\"wandb\"><tr><td>epochs</td><td>20</td></tr><tr><td>train_accuracy</td><td>9.66371</td></tr><tr><td>train_loss</td><td>2.30498</td></tr><tr><td>val_accuracy</td><td>9.45</td></tr><tr><td>val_loss</td><td>2.3057</td></tr></table><br/></div></div>"
      ],
      "text/plain": [
       "<IPython.core.display.HTML object>"
      ]
     },
     "metadata": {},
     "output_type": "display_data"
    },
    {
     "data": {
      "text/html": [
       " View run <strong style=\"color:#cdcd00\">splendid-sweep-18</strong> at: <a href='https://wandb.ai/ed23s037/CS6910_AS2/runs/13byw9pf' target=\"_blank\">https://wandb.ai/ed23s037/CS6910_AS2/runs/13byw9pf</a><br/> View project at: <a href='https://wandb.ai/ed23s037/CS6910_AS2' target=\"_blank\">https://wandb.ai/ed23s037/CS6910_AS2</a><br/>Synced 6 W&B file(s), 0 media file(s), 0 artifact file(s) and 0 other file(s)"
      ],
      "text/plain": [
       "<IPython.core.display.HTML object>"
      ]
     },
     "metadata": {},
     "output_type": "display_data"
    },
    {
     "data": {
      "text/html": [
       "Find logs at: <code>./wandb/run-20240408_174924-13byw9pf/logs</code>"
      ],
      "text/plain": [
       "<IPython.core.display.HTML object>"
      ]
     },
     "metadata": {},
     "output_type": "display_data"
    },
    {
     "name": "stderr",
     "output_type": "stream",
     "text": [
      "\u001b[34m\u001b[1mwandb\u001b[0m: Agent Starting Run: 5xetim8w with config:\n",
      "\u001b[34m\u001b[1mwandb\u001b[0m: \tbatch_size: 16\n",
      "\u001b[34m\u001b[1mwandb\u001b[0m: \tconv_activation: sigmoid\n",
      "\u001b[34m\u001b[1mwandb\u001b[0m: \tdense_activation: gelu\n",
      "\u001b[34m\u001b[1mwandb\u001b[0m: \tdropout_organisation: 3\n",
      "\u001b[34m\u001b[1mwandb\u001b[0m: \tdropout_rate: 0.3\n",
      "\u001b[34m\u001b[1mwandb\u001b[0m: \tepochs: 20\n",
      "\u001b[34m\u001b[1mwandb\u001b[0m: \tfactor: 3\n",
      "\u001b[34m\u001b[1mwandb\u001b[0m: \tfilter_size: 3\n",
      "\u001b[34m\u001b[1mwandb\u001b[0m: \tlearning_rate: 1e-05\n",
      "\u001b[34m\u001b[1mwandb\u001b[0m: \tmax_pooling_size: 2\n",
      "\u001b[34m\u001b[1mwandb\u001b[0m: \tn_classes: 10\n",
      "\u001b[34m\u001b[1mwandb\u001b[0m: \tn_neurons: 1024\n",
      "\u001b[34m\u001b[1mwandb\u001b[0m: \tnumber_of_filters: 16\n",
      "\u001b[34m\u001b[1mwandb\u001b[0m: \tpadding: 1\n",
      "\u001b[34m\u001b[1mwandb\u001b[0m: \tstride: 1\n",
      "\u001b[34m\u001b[1mwandb\u001b[0m: \tuse_augmentation: True\n",
      "\u001b[34m\u001b[1mwandb\u001b[0m: \tuse_batchnorm: True\n"
     ]
    },
    {
     "data": {
      "text/html": [
       "Tracking run with wandb version 0.16.6"
      ],
      "text/plain": [
       "<IPython.core.display.HTML object>"
      ]
     },
     "metadata": {},
     "output_type": "display_data"
    },
    {
     "data": {
      "text/html": [
       "Run data is saved locally in <code>/home/user/Gowthamaan/wandb/run-20240408_184406-5xetim8w</code>"
      ],
      "text/plain": [
       "<IPython.core.display.HTML object>"
      ]
     },
     "metadata": {},
     "output_type": "display_data"
    },
    {
     "data": {
      "text/html": [
       "Syncing run <strong><a href='https://wandb.ai/ed23s037/CS6910_AS2/runs/5xetim8w' target=\"_blank\">noble-sweep-19</a></strong> to <a href='https://wandb.ai/ed23s037/CS6910_AS2' target=\"_blank\">Weights & Biases</a> (<a href='https://wandb.me/run' target=\"_blank\">docs</a>)<br/>Sweep page: <a href='https://wandb.ai/ed23s037/CS6910_AS2/sweeps/c6nq6gy5' target=\"_blank\">https://wandb.ai/ed23s037/CS6910_AS2/sweeps/c6nq6gy5</a>"
      ],
      "text/plain": [
       "<IPython.core.display.HTML object>"
      ]
     },
     "metadata": {},
     "output_type": "display_data"
    },
    {
     "data": {
      "text/html": [
       " View project at <a href='https://wandb.ai/ed23s037/CS6910_AS2' target=\"_blank\">https://wandb.ai/ed23s037/CS6910_AS2</a>"
      ],
      "text/plain": [
       "<IPython.core.display.HTML object>"
      ]
     },
     "metadata": {},
     "output_type": "display_data"
    },
    {
     "data": {
      "text/html": [
       " View sweep at <a href='https://wandb.ai/ed23s037/CS6910_AS2/sweeps/c6nq6gy5' target=\"_blank\">https://wandb.ai/ed23s037/CS6910_AS2/sweeps/c6nq6gy5</a>"
      ],
      "text/plain": [
       "<IPython.core.display.HTML object>"
      ]
     },
     "metadata": {},
     "output_type": "display_data"
    },
    {
     "data": {
      "text/html": [
       " View run at <a href='https://wandb.ai/ed23s037/CS6910_AS2/runs/5xetim8w' target=\"_blank\">https://wandb.ai/ed23s037/CS6910_AS2/runs/5xetim8w</a>"
      ],
      "text/plain": [
       "<IPython.core.display.HTML object>"
      ]
     },
     "metadata": {},
     "output_type": "display_data"
    },
    {
     "name": "stdout",
     "output_type": "stream",
     "text": [
      "Epoch: 1/20\n",
      "Epoch: 2/20\n",
      "Epoch: 3/20\n",
      "Epoch: 4/20\n"
     ]
    },
    {
     "name": "stderr",
     "output_type": "stream",
     "text": [
      "\u001b[34m\u001b[1mwandb\u001b[0m: Network error (ConnectTimeout), entering retry loop.\n"
     ]
    },
    {
     "name": "stdout",
     "output_type": "stream",
     "text": [
      "Epoch: 5/20\n",
      "Epoch: 6/20\n",
      "Epoch: 7/20\n",
      "Epoch: 8/20\n",
      "Epoch: 9/20\n",
      "Epoch: 10/20\n",
      "Epoch: 11/20\n"
     ]
    },
    {
     "name": "stderr",
     "output_type": "stream",
     "text": [
      "wandb: Network error (ConnectTimeout), entering retry loop.\n"
     ]
    },
    {
     "name": "stdout",
     "output_type": "stream",
     "text": [
      "Epoch: 12/20\n",
      "Epoch: 13/20\n",
      "Epoch: 14/20\n",
      "Epoch: 15/20\n",
      "Epoch: 16/20\n",
      "Epoch: 17/20\n",
      "Epoch: 18/20\n",
      "Epoch: 19/20\n",
      "Epoch: 20/20\n"
     ]
    }
   ],
   "source": [
    "wandb.init(project=\"PROJECT\", entity='ENTITY')\n",
    "\n",
    "# Do Sweep\n",
    "wandb_id = wandb.sweep(sweep_config, project=\"PROJECT\")\n",
    "wandb.agent(wandb_id, function=wandb_sweep, count=300)\n",
    "\n",
    "# Finish\n",
    "wandb.finish()"
   ]
  },
  {
   "cell_type": "code",
   "execution_count": null,
   "metadata": {},
   "outputs": [],
   "source": []
  }
 ],
 "metadata": {
  "colab": {
   "provenance": []
  },
  "kernelspec": {
   "display_name": "Python 3 (ipykernel)",
   "language": "python",
   "name": "python3"
  },
  "language_info": {
   "codemirror_mode": {
    "name": "ipython",
    "version": 3
   },
   "file_extension": ".py",
   "mimetype": "text/x-python",
   "name": "python",
   "nbconvert_exporter": "python",
   "pygments_lexer": "ipython3",
   "version": "3.11.7"
  }
 },
 "nbformat": 4,
 "nbformat_minor": 4
}
