{
 "cells": [
  {
   "cell_type": "markdown",
   "id": "24b7ab67",
   "metadata": {},
   "source": [
    "Write Convolutional Neural Network from Scratch"
   ]
  },
  {
   "cell_type": "code",
   "execution_count": 1,
   "id": "de475ec3",
   "metadata": {},
   "outputs": [],
   "source": [
    "import numpy as np"
   ]
  },
  {
   "cell_type": "code",
   "execution_count": 2,
   "id": "298f24ca",
   "metadata": {},
   "outputs": [],
   "source": [
    "class LossFunction:\n",
    "    def __init__():\n",
    "        pass\n",
    "    \n",
    "    def loss(self, y, y_hat):\n",
    "        pass\n",
    "    \n",
    "    def derivative(self, y, y_hat):\n",
    "        pass\n",
    "\n",
    "class MeanSquareLoss(LossFunction):\n",
    "    def __init__(self):\n",
    "        pass\n",
    "    \n",
    "    def loss(self, y, y_hat):\n",
    "        return np.sum((y - y_hat) ** 2) / 2\n",
    "    \n",
    "    def derivative(self, y, y_hat):\n",
    "        return y_hat - y\n",
    "    \n",
    "\n",
    "class CrossEntropyLoss(LossFunction):\n",
    "    def _init__(self):\n",
    "        pass\n",
    "    \n",
    "    def loss(self, y, y_hat):\n",
    "        return -np.sum(y * np.log(y_hat))\n",
    "    \n",
    "    def derivative(self, y, y_hat):\n",
    "        return -y/y_hat"
   ]
  },
  {
   "cell_type": "code",
   "execution_count": 3,
   "id": "cbf3de3b",
   "metadata": {},
   "outputs": [],
   "source": [
    "class ActivationFunction:\n",
    "    def __init__():\n",
    "        pass\n",
    "    \n",
    "    def activate(self, r):\n",
    "        pass\n",
    "    \n",
    "    def get_derivative(self, r):\n",
    "        pass\n",
    "\n",
    "class Sigmoid(ActivationFunction):\n",
    "    def __init__():\n",
    "        pass\n",
    "    \n",
    "    def activate(self, r):\n",
    "        return 1 / (1 + np.exp(-r))\n",
    "    \n",
    "    def get_derivative(self, r):\n",
    "        return r * (1 - r)\n",
    "\n",
    "class Tanh(ActivationFunction):\n",
    "    def __init__():\n",
    "        pass\n",
    "    \n",
    "    def activate(self, r):\n",
    "        return np.tanh(r)\n",
    "    \n",
    "    def get_derivative(self, r):\n",
    "        return (r - r**2)\n",
    "\n",
    "class ReLu(ActivationFunction):\n",
    "    def __init__():\n",
    "        pass\n",
    "    \n",
    "    def activate(self, r):\n",
    "        return np.maximum(0, r)\n",
    "    \n",
    "    def get_derivative(self, r):\n",
    "        return np.where(r > 0, 1, 0)\n",
    "\n",
    "class Softmax(ActivationFunction):\n",
    "    def __init__():\n",
    "        pass\n",
    "    \n",
    "    def activate(self, r):\n",
    "        max_r = np.max(r, axis=1)\n",
    "        max_r = max_r.reshape(max_r.shape[0], 1)\n",
    "        exp_r = np.exp(r - max_r)\n",
    "        return exp_r / np.sum(exp_r, axis=1).reshape(exp_r.shape[0], 1)\n",
    "    \n",
    "    def get_derivative(self, r):\n",
    "        return np.diag(r) - np.outer(r, r)"
   ]
  },
  {
   "cell_type": "code",
   "execution_count": 1,
   "id": "ad6e6ef2",
   "metadata": {},
   "outputs": [],
   "source": [
    "class FullyConnectedLayer:\n",
    "    def __init__(self, index, n_input, n_neurons, activation_function, weights=None, bias=None, method=\"random\"):\n",
    "        self.index = index\n",
    "        self.weights = weights if weights is not None else self.initialize_weights(method, n_input, n_neurons)\n",
    "        self.bias = bias if bias is not None else np.random.randn(n_neurons)\n",
    "        self.activation_function = activation_function\n",
    "        self.activation = None\n",
    "        \n",
    "        self.error = None\n",
    "        self.delta = None\n",
    "        \n",
    "        self.d_weights = np.zeros([n_input, n_neurons])\n",
    "        self.d_bias = np.zeros(n_neurons)\n",
    "        \n",
    "        self.h_weights = np.zeros([n_input, n_neurons])\n",
    "        self.h_bias = np.zeros(n_neurons)\n",
    "        self.m_weights = np.zeros([n_input, n_neurons])\n",
    "        self.m_bias = np.zeros(n_neurons)\n",
    "\n",
    "    def initialize_weights(self, method, n_input, n_neurons):\n",
    "        if method == \"xavier\":\n",
    "            limit = np.sqrt(2 / (n_input + n_neurons))\n",
    "            return np.random.randn(n_input, n_neurons) * limit\n",
    "        return np.random.randn(n_input, n_neurons)\n",
    "\n",
    "    def activate(self, x):\n",
    "        z = np.dot(x, self.weights) + self.bias\n",
    "        self.activation = self.activation_function.apply_activation(z)\n",
    "        return self.activation\n",
    "    \n",
    "    def derive(self):\n",
    "        return self.activation_function.apply_activation_derivative(self.activation)\n",
    "    \n",
    "    def __str__(self):\n",
    "        return f'Fully Connected Layer: {self.index}, {self.weights.shape} , {self.function}'"
   ]
  },
  {
   "cell_type": "code",
   "execution_count": 3,
   "id": "4b9ba90a",
   "metadata": {},
   "outputs": [],
   "source": [
    "class ConvolutionLayer:\n",
    "    def __init__():\n",
    "        pass"
   ]
  },
  {
   "cell_type": "code",
   "execution_count": null,
   "id": "ff0f3c25",
   "metadata": {},
   "outputs": [],
   "source": [
    "class MaxPoolingLayer:\n",
    "    def __init__():\n",
    "        pass"
   ]
  },
  {
   "cell_type": "code",
   "execution_count": null,
   "id": "24fe7e4f",
   "metadata": {},
   "outputs": [],
   "source": [
    "class BatchNormalizationLayer:\n",
    "    def __init__():\n",
    "        pass"
   ]
  },
  {
   "cell_type": "code",
   "execution_count": null,
   "id": "591a44f8",
   "metadata": {},
   "outputs": [],
   "source": [
    "class DropoutLayer:\n",
    "    def __init__():\n",
    "        pass"
   ]
  }
 ],
 "metadata": {
  "kernelspec": {
   "display_name": "Python 3",
   "language": "python",
   "name": "python3"
  },
  "language_info": {
   "codemirror_mode": {
    "name": "ipython",
    "version": 3
   },
   "file_extension": ".py",
   "mimetype": "text/x-python",
   "name": "python",
   "nbconvert_exporter": "python",
   "pygments_lexer": "ipython3",
   "version": "3.8.8"
  }
 },
 "nbformat": 4,
 "nbformat_minor": 5
}
